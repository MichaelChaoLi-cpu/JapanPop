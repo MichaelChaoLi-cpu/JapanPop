{
 "cells": [
  {
   "cell_type": "markdown",
   "metadata": {},
   "source": [
    "get NPP from MYD MOD17AHGF\n",
    "\n",
    "year: 2001 - 2020\n",
    "\n",
    "Point: Japanese 4rd time Mesh 0.5 km centroid"
   ]
  },
  {
   "cell_type": "markdown",
   "metadata": {},
   "source": [
    "## NNP Extraction\n",
    "Net Primary Productivity"
   ]
  },
  {
   "cell_type": "code",
   "execution_count": 1,
   "metadata": {},
   "outputs": [],
   "source": [
    "import pandas as pd\n",
    "import geopandas as gpd\n",
    "import numpy as np\n",
    "from osgeo import gdal\n",
    "import os\n",
    "import glob\n",
    "import rasterio"
   ]
  },
  {
   "cell_type": "code",
   "execution_count": 2,
   "metadata": {},
   "outputs": [],
   "source": [
    "#year = 2015\n",
    "aimFolder = \"F:/17_Article/01_Data/02_NetPrimaryProductivity\"\n",
    "#os.mkdir(aimFolder + \"\\\\temp\")"
   ]
  },
  {
   "cell_type": "code",
   "execution_count": 35,
   "metadata": {},
   "outputs": [],
   "source": [
    "def mergeAndResampleNppRaster(year, aimFolder):\n",
    "    #\"\"\"\n",
    "    #Merge MOD and MYD,\n",
    "    #Resample the raster with 0.004 degrees\n",
    "    #\"\"\"\n",
    "    rasterFile = glob.glob(\"F:/17_Article/01_Data/02_NetPrimaryProductivity/Net_PP_Yearly_500m_v6/Npp/*\"+str(year) +\"_001.tif\")\n",
    "\n",
    "    if year > 2002:\n",
    "        tifflayer_0 = gdal.Open(rasterFile[0], gdal.GA_ReadOnly)\n",
    "        tifflayer_1 = gdal.Open(rasterFile[1], gdal.GA_ReadOnly)\n",
    "\n",
    "        nband = 1\n",
    "        geotransform = tifflayer_0.GetGeoTransform()\n",
    "        spatialreference = tifflayer_0.GetProjection()\n",
    "\n",
    "        tifflayer_0_array = tifflayer_0.ReadAsArray()\n",
    "        tifflayer_0_array = np.array(tifflayer_0_array)\n",
    "        tifflayer_0_array = tifflayer_0_array.astype(float)\n",
    "        tifflayer_0_array[tifflayer_0_array == 65535] = np.nan\n",
    "        tifflayer_0_array[tifflayer_0_array > 32760] = 0\n",
    "\n",
    "        tifflayer_1_array = tifflayer_1.ReadAsArray()\n",
    "        tifflayer_1_array = np.array(tifflayer_1_array)\n",
    "        tifflayer_1_array = tifflayer_1_array.astype(float)\n",
    "        tifflayer_1_array[tifflayer_1_array == 65535] = np.nan\n",
    "        tifflayer_1_array[tifflayer_1_array > 32760] = 0\n",
    "\n",
    "        tifflayer_double_array = np.array([tifflayer_0_array, tifflayer_1_array])\n",
    "        tifflayer_mean_array = np.nanmean(tifflayer_double_array, axis = 0)\n",
    "    else:\n",
    "        tifflayer_0 = gdal.Open(rasterFile[0], gdal.GA_ReadOnly)\n",
    "\n",
    "        nband = 1\n",
    "        geotransform = tifflayer_0.GetGeoTransform()\n",
    "        spatialreference = tifflayer_0.GetProjection()\n",
    "\n",
    "        tifflayer_0_array = tifflayer_0.ReadAsArray()\n",
    "        tifflayer_0_array = np.array(tifflayer_0_array)\n",
    "        tifflayer_0_array = tifflayer_0_array.astype(float)\n",
    "        tifflayer_0_array[tifflayer_0_array == 65535] = np.nan\n",
    "        tifflayer_0_array[tifflayer_0_array > 32760] = 0\n",
    "        tifflayer_mean_array = tifflayer_0_array \n",
    "\n",
    "\n",
    "    ncol = tifflayer_mean_array.shape[1]\n",
    "    nrow = tifflayer_mean_array.shape[0]\n",
    "\n",
    "    temp_file = aimFolder + \"/temp/temp_file_\" + str(year) + \".tif\"\n",
    "\n",
    "    driver = gdal.GetDriverByName(\"GTiff\")\n",
    "    dst_dataset = driver.Create(temp_file, ncol, nrow, nband, gdal.GDT_Float32)\n",
    "    dst_dataset.SetGeoTransform(geotransform)\n",
    "    dst_dataset.SetProjection(spatialreference)\n",
    "    dst_dataset.GetRasterBand(1).WriteArray(tifflayer_mean_array)\n",
    "    dst_dataset = None\n",
    "\n",
    "    original_temp_raster = gdal.Open(temp_file, gdal.GA_ReadOnly)\n",
    "    raster_rprj = gdal.Warp(aimFolder + \"/temp/temp_file_\" + str(year) + \"0004.tif\", original_temp_raster, dstSRS = \"EPSG:4326\", \n",
    "                            xRes = 0.004, yRes = -0.004, resampleAlg = \"average\", outputBounds = [120, 20, 154, 46])\n",
    "    original_temp_raster = None\n",
    "    raster_rprj = None\n"
   ]
  },
  {
   "cell_type": "code",
   "execution_count": 36,
   "metadata": {},
   "outputs": [
    {
     "name": "stderr",
     "output_type": "stream",
     "text": [
      "C:\\Users\\li.chao.987@s.kyushu-u.ac.jp\\AppData\\Local\\Temp\\ipykernel_20320\\1240927100.py:29: RuntimeWarning: Mean of empty slice\n",
      "  tifflayer_mean_array = np.nanmean(tifflayer_double_array, axis = 0)\n"
     ]
    }
   ],
   "source": [
    "from joblib import Parallel, delayed\n",
    "import multiprocessing\n",
    "import numpy as np\n",
    "import glob\n",
    "\n",
    "#Parallel(n_jobs=2)(delayed(mergeAndResampleNppRaster)(int(year), aimFolder) for year in np.linspace(2004, 2020, 17))\n",
    "for year in np.linspace(2001, 2020, 20):\n",
    "    mergeAndResampleNppRaster(int(year), aimFolder)"
   ]
  },
  {
   "cell_type": "code",
   "execution_count": 10,
   "metadata": {},
   "outputs": [
    {
     "data": {
      "text/plain": [
       "array([2004., 2005., 2006., 2007., 2008., 2009., 2010., 2011., 2012.,\n",
       "       2013., 2014., 2015., 2016., 2017., 2018., 2019., 2020.])"
      ]
     },
     "execution_count": 10,
     "metadata": {},
     "output_type": "execute_result"
    }
   ],
   "source": [
    "np.linspace(2004, 2020, 17)"
   ]
  },
  {
   "cell_type": "code",
   "execution_count": 15,
   "metadata": {},
   "outputs": [],
   "source": [
    "coords_extration = gpd.read_file(\"F:/17_Article/01_Data/00_mesh/Mesh500/mergedPointMesh500m.shp\")"
   ]
  },
  {
   "cell_type": "code",
   "execution_count": 73,
   "metadata": {},
   "outputs": [],
   "source": [
    "#os.remove(temp_file)\n",
    "#os.remove(aimFolder + \"/temp/temp_file_0008.tif\")\n",
    "\n",
    "#os.rmdir(aimFolder + \"\\\\temp\")"
   ]
  },
  {
   "cell_type": "code",
   "execution_count": 15,
   "metadata": {},
   "outputs": [],
   "source": [
    "def nppExtraction(year, aimFolder, coords_extration):\n",
    "    # this is to extract npp of each eyar of each mesh point\n",
    "    rasterFile = rasterio.open(aimFolder + \"/temp/temp_file_\" + str(year) + \"0004.tif\")\n",
    "    rasterArray = rasterFile.read(1)\n",
    "\n",
    "    valueArray = []\n",
    "    for point in coords_extration['geometry']:\n",
    "        x = point.xy[0][0]\n",
    "        y = point.xy[1][0]\n",
    "        row, col = rasterFile.index(x, y)\n",
    "        try:\n",
    "            valueArray.append(rasterArray[row, col])\n",
    "        except:\n",
    "            valueArray.append(np.nan)\n",
    "        \n",
    "    valueArray = np.array(valueArray)\n",
    "    coords_extration['NPP'] = valueArray\n",
    "\n",
    "    rasterFile = None\n",
    "    return coords_extration"
   ]
  },
  {
   "cell_type": "code",
   "execution_count": 16,
   "metadata": {},
   "outputs": [],
   "source": [
    "from joblib import Parallel, delayed\n",
    "import multiprocessing\n",
    "import numpy as np\n",
    "import glob\n",
    "\n",
    "aimFolder = \"F:/17_Article/01_Data/02_NetPrimaryProductivity\"\n",
    "coords_extration = gpd.read_file(\"F:/17_Article/01_Data/00_mesh/Mesh500/mergedPointMesh500m.shp\")\n",
    "nppResult = Parallel(n_jobs=4)(delayed(nppExtraction)(int(year), aimFolder, coords_extration) for year in np.linspace(2001, 2020, 20))"
   ]
  },
  {
   "cell_type": "code",
   "execution_count": 37,
   "metadata": {},
   "outputs": [],
   "source": [
    "nppResult_2001 = nppResult[0]\n",
    "nppResult_2002 = nppResult[1]\n",
    "nppResult_2003 = nppResult[2]\n",
    "nppResult_2004 = nppResult[3]\n",
    "nppResult_2005 = nppResult[4]\n",
    "nppResult_2006 = nppResult[5]\n",
    "nppResult_2007 = nppResult[6]\n",
    "nppResult_2008 = nppResult[7]\n",
    "nppResult_2009 = nppResult[8]\n",
    "nppResult_2010 = nppResult[9]\n",
    "nppResult_2011 = nppResult[10]\n",
    "nppResult_2012 = nppResult[11]\n",
    "nppResult_2013 = nppResult[12]\n",
    "nppResult_2014 = nppResult[13]\n",
    "nppResult_2015 = nppResult[14]\n",
    "nppResult_2016 = nppResult[15]\n",
    "nppResult_2017 = nppResult[16]\n",
    "nppResult_2018 = nppResult[17]\n",
    "nppResult_2019 = nppResult[18]\n",
    "nppResult_2020 = nppResult[19]"
   ]
  },
  {
   "cell_type": "code",
   "execution_count": 38,
   "metadata": {},
   "outputs": [],
   "source": [
    "nppResult_2001['year'] = 2001\n",
    "nppResult_2002['year'] = 2002\n",
    "nppResult_2003['year'] = 2003\n",
    "nppResult_2004['year'] = 2004\n",
    "nppResult_2005['year'] = 2005\n",
    "nppResult_2006['year'] = 2006\n",
    "nppResult_2007['year'] = 2007\n",
    "nppResult_2008['year'] = 2008\n",
    "nppResult_2009['year'] = 2009\n",
    "nppResult_2010['year'] = 2010\n",
    "nppResult_2011['year'] = 2011\n",
    "nppResult_2012['year'] = 2012\n",
    "nppResult_2013['year'] = 2013\n",
    "nppResult_2014['year'] = 2014\n",
    "nppResult_2015['year'] = 2015\n",
    "nppResult_2016['year'] = 2016\n",
    "nppResult_2017['year'] = 2017\n",
    "nppResult_2018['year'] = 2018\n",
    "nppResult_2019['year'] = 2019\n",
    "nppResult_2020['year'] = 2020"
   ]
  },
  {
   "cell_type": "code",
   "execution_count": 39,
   "metadata": {},
   "outputs": [],
   "source": [
    "nppResult_2001 = pd.DataFrame(nppResult_2001.drop(columns='geometry'))\n",
    "nppResult_2002 = pd.DataFrame(nppResult_2002.drop(columns='geometry'))\n",
    "nppResult_2003 = pd.DataFrame(nppResult_2003.drop(columns='geometry'))\n",
    "nppResult_2004 = pd.DataFrame(nppResult_2004.drop(columns='geometry'))\n",
    "nppResult_2005 = pd.DataFrame(nppResult_2005.drop(columns='geometry'))\n",
    "nppResult_2006 = pd.DataFrame(nppResult_2006.drop(columns='geometry'))\n",
    "nppResult_2007 = pd.DataFrame(nppResult_2007.drop(columns='geometry'))\n",
    "nppResult_2008 = pd.DataFrame(nppResult_2008.drop(columns='geometry'))\n",
    "nppResult_2009 = pd.DataFrame(nppResult_2009.drop(columns='geometry'))\n",
    "nppResult_2010 = pd.DataFrame(nppResult_2010.drop(columns='geometry'))\n",
    "nppResult_2011 = pd.DataFrame(nppResult_2011.drop(columns='geometry'))\n",
    "nppResult_2012 = pd.DataFrame(nppResult_2012.drop(columns='geometry'))\n",
    "nppResult_2013 = pd.DataFrame(nppResult_2013.drop(columns='geometry'))\n",
    "nppResult_2014 = pd.DataFrame(nppResult_2014.drop(columns='geometry'))\n",
    "nppResult_2015 = pd.DataFrame(nppResult_2015.drop(columns='geometry'))\n",
    "nppResult_2016 = pd.DataFrame(nppResult_2016.drop(columns='geometry'))\n",
    "nppResult_2017 = pd.DataFrame(nppResult_2017.drop(columns='geometry'))\n",
    "nppResult_2018 = pd.DataFrame(nppResult_2018.drop(columns='geometry'))\n",
    "nppResult_2019 = pd.DataFrame(nppResult_2019.drop(columns='geometry'))\n",
    "nppResult_2020 = pd.DataFrame(nppResult_2020.drop(columns='geometry'))"
   ]
  },
  {
   "cell_type": "code",
   "execution_count": 41,
   "metadata": {},
   "outputs": [
    {
     "data": {
      "text/plain": [
       "Index(['G04c_001', 'NPP', 'year'], dtype='object')"
      ]
     },
     "execution_count": 41,
     "metadata": {},
     "output_type": "execute_result"
    }
   ],
   "source": [
    "nppResult_2001.columns"
   ]
  },
  {
   "cell_type": "code",
   "execution_count": 21,
   "metadata": {},
   "outputs": [],
   "source": [
    "nppResult_2001.columns = ['G04c_001', 'NPP', 'year']\n",
    "nppResult_2002.columns = ['G04c_001', 'NPP', 'year']\n",
    "nppResult_2003.columns = ['G04c_001', 'NPP', 'year']\n",
    "nppResult_2004.columns = ['G04c_001', 'NPP', 'year']\n",
    "nppResult_2005.columns = ['G04c_001', 'NPP', 'year']\n",
    "nppResult_2006.columns = ['G04c_001', 'NPP', 'year']\n",
    "nppResult_2007.columns = ['G04c_001', 'NPP', 'year']\n",
    "nppResult_2008.columns = ['G04c_001', 'NPP', 'year']\n",
    "nppResult_2009.columns = ['G04c_001', 'NPP', 'year']\n",
    "nppResult_2010.columns = ['G04c_001', 'NPP', 'year']\n",
    "nppResult_2011.columns = ['G04c_001', 'NPP', 'year']\n",
    "nppResult_2012.columns = ['G04c_001', 'NPP', 'year']\n",
    "nppResult_2013.columns = ['G04c_001', 'NPP', 'year']\n",
    "nppResult_2014.columns = ['G04c_001', 'NPP', 'year']\n",
    "nppResult_2015.columns = ['G04c_001', 'NPP', 'year']\n",
    "nppResult_2016.columns = ['G04c_001', 'NPP', 'year']\n",
    "nppResult_2017.columns = ['G04c_001', 'NPP', 'year']\n",
    "nppResult_2018.columns = ['G04c_001', 'NPP', 'year']\n",
    "nppResult_2019.columns = ['G04c_001', 'NPP', 'year']\n",
    "nppResult_2020.columns = ['G04c_001', 'NPP', 'year']"
   ]
  },
  {
   "cell_type": "code",
   "execution_count": 42,
   "metadata": {},
   "outputs": [
    {
     "name": "stdout",
     "output_type": "stream",
     "text": [
      "G04c_001    16\n",
      "NPP          0\n",
      "year        16\n",
      "dtype: int64\n",
      "G04c_001    16\n",
      "NPP          0\n",
      "year        16\n",
      "dtype: int64\n",
      "G04c_001    16\n",
      "NPP          0\n",
      "year        16\n",
      "dtype: int64\n",
      "G04c_001    16\n",
      "NPP          0\n",
      "year        16\n",
      "dtype: int64\n",
      "G04c_001    16\n",
      "NPP          0\n",
      "year        16\n",
      "dtype: int64\n",
      "G04c_001    16\n",
      "NPP          0\n",
      "year        16\n",
      "dtype: int64\n",
      "G04c_001    16\n",
      "NPP          0\n",
      "year        16\n",
      "dtype: int64\n",
      "G04c_001    16\n",
      "NPP          0\n",
      "year        16\n",
      "dtype: int64\n",
      "G04c_001    16\n",
      "NPP          0\n",
      "year        16\n",
      "dtype: int64\n",
      "G04c_001    16\n",
      "NPP          0\n",
      "year        16\n",
      "dtype: int64\n",
      "G04c_001    16\n",
      "NPP          0\n",
      "year        16\n",
      "dtype: int64\n",
      "G04c_001    16\n",
      "NPP          0\n",
      "year        16\n",
      "dtype: int64\n",
      "G04c_001    16\n",
      "NPP          0\n",
      "year        16\n",
      "dtype: int64\n",
      "G04c_001    16\n",
      "NPP          0\n",
      "year        16\n",
      "dtype: int64\n",
      "G04c_001    16\n",
      "NPP          0\n",
      "year        16\n",
      "dtype: int64\n",
      "G04c_001    16\n",
      "NPP          0\n",
      "year        16\n",
      "dtype: int64\n",
      "G04c_001    16\n",
      "NPP          0\n",
      "year        16\n",
      "dtype: int64\n",
      "G04c_001    16\n",
      "NPP          0\n",
      "year        16\n",
      "dtype: int64\n",
      "G04c_001    16\n",
      "NPP          0\n",
      "year        16\n",
      "dtype: int64\n",
      "G04c_001    16\n",
      "NPP          0\n",
      "year        16\n",
      "dtype: int64\n"
     ]
    }
   ],
   "source": [
    "print(nppResult_2001[pd.isna(nppResult_2001[\"NPP\"])].count())\n",
    "print(nppResult_2001[pd.isna(nppResult_2002[\"NPP\"])].count())\n",
    "print(nppResult_2001[pd.isna(nppResult_2003[\"NPP\"])].count())\n",
    "print(nppResult_2001[pd.isna(nppResult_2004[\"NPP\"])].count())\n",
    "print(nppResult_2001[pd.isna(nppResult_2005[\"NPP\"])].count())\n",
    "print(nppResult_2001[pd.isna(nppResult_2006[\"NPP\"])].count())\n",
    "print(nppResult_2001[pd.isna(nppResult_2007[\"NPP\"])].count())\n",
    "print(nppResult_2001[pd.isna(nppResult_2008[\"NPP\"])].count())\n",
    "print(nppResult_2001[pd.isna(nppResult_2009[\"NPP\"])].count())\n",
    "print(nppResult_2001[pd.isna(nppResult_2010[\"NPP\"])].count())\n",
    "print(nppResult_2001[pd.isna(nppResult_2011[\"NPP\"])].count())\n",
    "print(nppResult_2001[pd.isna(nppResult_2012[\"NPP\"])].count())\n",
    "print(nppResult_2001[pd.isna(nppResult_2013[\"NPP\"])].count())\n",
    "print(nppResult_2001[pd.isna(nppResult_2014[\"NPP\"])].count())\n",
    "print(nppResult_2001[pd.isna(nppResult_2015[\"NPP\"])].count())\n",
    "print(nppResult_2001[pd.isna(nppResult_2016[\"NPP\"])].count())\n",
    "print(nppResult_2001[pd.isna(nppResult_2017[\"NPP\"])].count())\n",
    "print(nppResult_2001[pd.isna(nppResult_2018[\"NPP\"])].count())\n",
    "print(nppResult_2001[pd.isna(nppResult_2019[\"NPP\"])].count())\n",
    "print(nppResult_2001[pd.isna(nppResult_2020[\"NPP\"])].count())"
   ]
  },
  {
   "cell_type": "code",
   "execution_count": 43,
   "metadata": {},
   "outputs": [
    {
     "data": {
      "text/plain": [
       "(16, 3)"
      ]
     },
     "execution_count": 43,
     "metadata": {},
     "output_type": "execute_result"
    }
   ],
   "source": [
    "nppResult_2001[pd.isna(nppResult_2001[\"NPP\"])].shape\n",
    "            "
   ]
  },
  {
   "cell_type": "code",
   "execution_count": null,
   "metadata": {},
   "outputs": [],
   "source": []
  },
  {
   "cell_type": "code",
   "execution_count": 44,
   "metadata": {},
   "outputs": [],
   "source": [
    "longNppDF = pd.concat(\n",
    "    [nppResult_2001, nppResult_2002, nppResult_2003, nppResult_2004, nppResult_2005, nppResult_2006, nppResult_2007, nppResult_2008,\n",
    "    nppResult_2009, nppResult_2010, nppResult_2011, nppResult_2012, nppResult_2013, nppResult_2014, nppResult_2015, nppResult_2016,\n",
    "    nppResult_2017, nppResult_2018, nppResult_2019, nppResult_2020]\n",
    ")"
   ]
  },
  {
   "cell_type": "code",
   "execution_count": 45,
   "metadata": {},
   "outputs": [
    {
     "data": {
      "text/plain": [
       "1132"
      ]
     },
     "execution_count": 45,
     "metadata": {},
     "output_type": "execute_result"
    }
   ],
   "source": [
    "del nppResult_2001\n",
    "del nppResult_2002\n",
    "del nppResult_2003\n",
    "del nppResult_2004\n",
    "del nppResult_2005\n",
    "del nppResult_2006\n",
    "del nppResult_2007\n",
    "del nppResult_2008\n",
    "del nppResult_2009\n",
    "del nppResult_2010\n",
    "del nppResult_2011\n",
    "del nppResult_2012\n",
    "del nppResult_2013\n",
    "del nppResult_2014\n",
    "del nppResult_2015\n",
    "del nppResult_2016\n",
    "del nppResult_2017\n",
    "del nppResult_2018\n",
    "del nppResult_2019\n",
    "del nppResult_2020\n",
    "\n",
    "import gc\n",
    "gc.collect()"
   ]
  },
  {
   "cell_type": "code",
   "execution_count": 46,
   "metadata": {},
   "outputs": [
    {
     "data": {
      "text/plain": [
       "NPP    6818.637622\n",
       "dtype: float64"
      ]
     },
     "execution_count": 46,
     "metadata": {},
     "output_type": "execute_result"
    }
   ],
   "source": [
    "longNppDF = longNppDF.set_index(['G04c_001','year'])\n",
    "longNppDF.mean()"
   ]
  },
  {
   "cell_type": "code",
   "execution_count": 47,
   "metadata": {},
   "outputs": [
    {
     "ename": "PermissionError",
     "evalue": "[WinError 5] 拒绝访问。: 'F:/17_Article/01_Data/02_NetPrimaryProductivity/temp\\\\temp_file_20160004.tif'",
     "output_type": "error",
     "traceback": [
      "\u001b[1;31m---------------------------------------------------------------------------\u001b[0m",
      "\u001b[1;31mPermissionError\u001b[0m                           Traceback (most recent call last)",
      "\u001b[1;32m~\\AppData\\Local\\Temp\\ipykernel_20320\\1334877542.py\u001b[0m in \u001b[0;36m<cell line: 2>\u001b[1;34m()\u001b[0m\n\u001b[0;32m      1\u001b[0m \u001b[0mfileList\u001b[0m \u001b[1;33m=\u001b[0m \u001b[0mglob\u001b[0m\u001b[1;33m.\u001b[0m\u001b[0mglob\u001b[0m\u001b[1;33m(\u001b[0m\u001b[0maimFolder\u001b[0m \u001b[1;33m+\u001b[0m \u001b[1;34m\"/temp/*.tif\"\u001b[0m\u001b[1;33m)\u001b[0m\u001b[1;33m\u001b[0m\u001b[1;33m\u001b[0m\u001b[0m\n\u001b[0;32m      2\u001b[0m \u001b[1;32mfor\u001b[0m \u001b[0mfilename\u001b[0m \u001b[1;32min\u001b[0m \u001b[0mfileList\u001b[0m\u001b[1;33m:\u001b[0m\u001b[1;33m\u001b[0m\u001b[1;33m\u001b[0m\u001b[0m\n\u001b[1;32m----> 3\u001b[1;33m     \u001b[0mos\u001b[0m\u001b[1;33m.\u001b[0m\u001b[0mremove\u001b[0m\u001b[1;33m(\u001b[0m\u001b[0mfilename\u001b[0m\u001b[1;33m)\u001b[0m\u001b[1;33m\u001b[0m\u001b[1;33m\u001b[0m\u001b[0m\n\u001b[0m\u001b[0;32m      4\u001b[0m \u001b[1;33m\u001b[0m\u001b[0m\n\u001b[0;32m      5\u001b[0m \u001b[0mos\u001b[0m\u001b[1;33m.\u001b[0m\u001b[0mrmdir\u001b[0m\u001b[1;33m(\u001b[0m\u001b[0maimFolder\u001b[0m \u001b[1;33m+\u001b[0m \u001b[1;34m\"\\\\temp\"\u001b[0m\u001b[1;33m)\u001b[0m\u001b[1;33m\u001b[0m\u001b[1;33m\u001b[0m\u001b[0m\n",
      "\u001b[1;31mPermissionError\u001b[0m: [WinError 5] 拒绝访问。: 'F:/17_Article/01_Data/02_NetPrimaryProductivity/temp\\\\temp_file_20160004.tif'"
     ]
    }
   ],
   "source": [
    "fileList = glob.glob(aimFolder + \"/temp/*.tif\")\n",
    "for filename in fileList:\n",
    "    os.remove(filename)\n",
    "\n",
    "os.rmdir(aimFolder + \"\\\\temp\")"
   ]
  },
  {
   "cell_type": "code",
   "execution_count": 88,
   "metadata": {},
   "outputs": [
    {
     "data": {
      "text/html": [
       "<div>\n",
       "<style scoped>\n",
       "    .dataframe tbody tr th:only-of-type {\n",
       "        vertical-align: middle;\n",
       "    }\n",
       "\n",
       "    .dataframe tbody tr th {\n",
       "        vertical-align: top;\n",
       "    }\n",
       "\n",
       "    .dataframe thead th {\n",
       "        text-align: right;\n",
       "    }\n",
       "</style>\n",
       "<table border=\"1\" class=\"dataframe\">\n",
       "  <thead>\n",
       "    <tr style=\"text-align: right;\">\n",
       "      <th></th>\n",
       "      <th></th>\n",
       "      <th>NPP</th>\n",
       "    </tr>\n",
       "    <tr>\n",
       "      <th>G04c_001</th>\n",
       "      <th>year</th>\n",
       "      <th></th>\n",
       "    </tr>\n",
       "  </thead>\n",
       "  <tbody>\n",
       "    <tr>\n",
       "      <th>303660001</th>\n",
       "      <th>2001</th>\n",
       "      <td>0.0</td>\n",
       "    </tr>\n",
       "    <tr>\n",
       "      <th>303660002</th>\n",
       "      <th>2001</th>\n",
       "      <td>0.0</td>\n",
       "    </tr>\n",
       "    <tr>\n",
       "      <th>303660003</th>\n",
       "      <th>2001</th>\n",
       "      <td>0.0</td>\n",
       "    </tr>\n",
       "    <tr>\n",
       "      <th>303660004</th>\n",
       "      <th>2001</th>\n",
       "      <td>0.0</td>\n",
       "    </tr>\n",
       "    <tr>\n",
       "      <th>303660011</th>\n",
       "      <th>2001</th>\n",
       "      <td>0.0</td>\n",
       "    </tr>\n",
       "  </tbody>\n",
       "</table>\n",
       "</div>"
      ],
      "text/plain": [
       "                NPP\n",
       "G04c_001  year     \n",
       "303660001 2001  0.0\n",
       "303660002 2001  0.0\n",
       "303660003 2001  0.0\n",
       "303660004 2001  0.0\n",
       "303660011 2001  0.0"
      ]
     },
     "execution_count": 88,
     "metadata": {},
     "output_type": "execute_result"
    }
   ],
   "source": [
    "longNppDF.head()"
   ]
  },
  {
   "cell_type": "code",
   "execution_count": null,
   "metadata": {},
   "outputs": [],
   "source": []
  },
  {
   "cell_type": "markdown",
   "metadata": {},
   "source": [
    "## NTL extraction\n",
    "Night Time Light"
   ]
  },
  {
   "cell_type": "code",
   "execution_count": 48,
   "metadata": {},
   "outputs": [],
   "source": [
    "import os\n",
    "import zipfile\n",
    "import glob\n",
    "import rasterio\n",
    "from osgeo import gdal\n",
    "import geopandas as gpd\n",
    "import numpy as np"
   ]
  },
  {
   "cell_type": "code",
   "execution_count": 49,
   "metadata": {},
   "outputs": [],
   "source": [
    "aimFolder = \"F:\\\\17_Article\\\\01_Data\\\\03_NTL_VIIRS\"\n",
    "#os.mkdir()"
   ]
  },
  {
   "cell_type": "code",
   "execution_count": 50,
   "metadata": {},
   "outputs": [],
   "source": [
    "def ntlExtraction(year, aimFolder, coords_extration):\n",
    "    #This funciton is try to extract ntl\n",
    "    #filename = aimFolder + \"\\\\\" + str(year) + \".zip\"\n",
    "    #with zipfile.ZipFile(filename, \"r\") as zip_ref:\n",
    "    #    zip_ref.extractall(aimFolder + \"\\\\temp\")\n",
    "    aimRaster = glob.glob(aimFolder + \"\\\\temp\\\\*\" + str(year) + \".tif\")\n",
    "    aimRaster = aimRaster[0]\n",
    "    rasterFile = rasterio.open(aimRaster)\n",
    "    rasterArray = rasterFile.read(1)\n",
    "    valueArray = []\n",
    "    for point in coords_extration['geometry']:\n",
    "        x = point.xy[0][0]\n",
    "        y = point.xy[1][0]\n",
    "        row, col = rasterFile.index(x, y)\n",
    "        valueArray.append(rasterArray[row, col])\n",
    "    \n",
    "    valueArray = np.array(valueArray)\n",
    "    coords_extration['NTL'] = valueArray\n",
    "    return coords_extration"
   ]
  },
  {
   "cell_type": "code",
   "execution_count": 51,
   "metadata": {},
   "outputs": [],
   "source": [
    "from joblib import Parallel, delayed\n",
    "import multiprocessing\n",
    "import numpy as np\n",
    "import glob\n",
    "\n",
    "coords_extration = gpd.read_file(\"F:/17_Article/01_Data/00_mesh/Mesh500/mergedPointMesh500m.shp\")\n",
    "ntlResult = Parallel(n_jobs=2)(delayed(ntlExtraction)(int(year), aimFolder, coords_extration) for year in np.linspace(2002, 2020, 19))"
   ]
  },
  {
   "cell_type": "code",
   "execution_count": 52,
   "metadata": {},
   "outputs": [],
   "source": [
    "ntlResult_2001 = ntlExtraction(int(2001), aimFolder, coords_extration)"
   ]
  },
  {
   "cell_type": "code",
   "execution_count": 53,
   "metadata": {},
   "outputs": [],
   "source": [
    "ntlResult_2002 = ntlResult[0]\n",
    "ntlResult_2003 = ntlResult[1]\n",
    "ntlResult_2004 = ntlResult[2]\n",
    "ntlResult_2005 = ntlResult[3]\n",
    "ntlResult_2006 = ntlResult[4]\n",
    "ntlResult_2007 = ntlResult[5]\n",
    "ntlResult_2008 = ntlResult[6]\n",
    "ntlResult_2009 = ntlResult[7]\n",
    "ntlResult_2010 = ntlResult[8]\n",
    "ntlResult_2011 = ntlResult[9]\n",
    "ntlResult_2012 = ntlResult[10]\n",
    "ntlResult_2013 = ntlResult[11]\n",
    "ntlResult_2014 = ntlResult[12]\n",
    "ntlResult_2015 = ntlResult[13]\n",
    "ntlResult_2016 = ntlResult[14]\n",
    "ntlResult_2017 = ntlResult[15]\n",
    "ntlResult_2018 = ntlResult[16]\n",
    "ntlResult_2019 = ntlResult[17]\n",
    "ntlResult_2020 = ntlResult[18]"
   ]
  },
  {
   "cell_type": "code",
   "execution_count": 54,
   "metadata": {},
   "outputs": [],
   "source": [
    "ntlResult_2001['year'] = 2001\n",
    "ntlResult_2002['year'] = 2002\n",
    "ntlResult_2003['year'] = 2003\n",
    "ntlResult_2004['year'] = 2004\n",
    "ntlResult_2005['year'] = 2005\n",
    "ntlResult_2006['year'] = 2006\n",
    "ntlResult_2007['year'] = 2007\n",
    "ntlResult_2008['year'] = 2008\n",
    "ntlResult_2009['year'] = 2009\n",
    "ntlResult_2010['year'] = 2010\n",
    "ntlResult_2011['year'] = 2011\n",
    "ntlResult_2012['year'] = 2012\n",
    "ntlResult_2013['year'] = 2013\n",
    "ntlResult_2014['year'] = 2014\n",
    "ntlResult_2015['year'] = 2015\n",
    "ntlResult_2016['year'] = 2016\n",
    "ntlResult_2017['year'] = 2017\n",
    "ntlResult_2018['year'] = 2018\n",
    "ntlResult_2019['year'] = 2019\n",
    "ntlResult_2020['year'] = 2020"
   ]
  },
  {
   "cell_type": "code",
   "execution_count": 55,
   "metadata": {},
   "outputs": [],
   "source": [
    "ntlResult_2001 = pd.DataFrame(ntlResult_2001.drop(columns='geometry'))\n",
    "ntlResult_2002 = pd.DataFrame(ntlResult_2002.drop(columns='geometry'))\n",
    "ntlResult_2003 = pd.DataFrame(ntlResult_2003.drop(columns='geometry'))\n",
    "ntlResult_2004 = pd.DataFrame(ntlResult_2004.drop(columns='geometry'))\n",
    "ntlResult_2005 = pd.DataFrame(ntlResult_2005.drop(columns='geometry'))\n",
    "ntlResult_2006 = pd.DataFrame(ntlResult_2006.drop(columns='geometry'))\n",
    "ntlResult_2007 = pd.DataFrame(ntlResult_2007.drop(columns='geometry'))\n",
    "ntlResult_2008 = pd.DataFrame(ntlResult_2008.drop(columns='geometry'))\n",
    "ntlResult_2009 = pd.DataFrame(ntlResult_2009.drop(columns='geometry'))\n",
    "ntlResult_2010 = pd.DataFrame(ntlResult_2010.drop(columns='geometry'))\n",
    "ntlResult_2011 = pd.DataFrame(ntlResult_2011.drop(columns='geometry'))\n",
    "ntlResult_2012 = pd.DataFrame(ntlResult_2012.drop(columns='geometry'))\n",
    "ntlResult_2013 = pd.DataFrame(ntlResult_2013.drop(columns='geometry'))\n",
    "ntlResult_2014 = pd.DataFrame(ntlResult_2014.drop(columns='geometry'))\n",
    "ntlResult_2015 = pd.DataFrame(ntlResult_2015.drop(columns='geometry'))\n",
    "ntlResult_2016 = pd.DataFrame(ntlResult_2016.drop(columns='geometry'))\n",
    "ntlResult_2017 = pd.DataFrame(ntlResult_2017.drop(columns='geometry'))\n",
    "ntlResult_2018 = pd.DataFrame(ntlResult_2018.drop(columns='geometry'))\n",
    "ntlResult_2019 = pd.DataFrame(ntlResult_2019.drop(columns='geometry'))\n",
    "ntlResult_2020 = pd.DataFrame(ntlResult_2020.drop(columns='geometry'))"
   ]
  },
  {
   "cell_type": "code",
   "execution_count": 56,
   "metadata": {},
   "outputs": [
    {
     "data": {
      "text/plain": [
       "Index(['G04c_001', 'NTL', 'year'], dtype='object')"
      ]
     },
     "execution_count": 56,
     "metadata": {},
     "output_type": "execute_result"
    }
   ],
   "source": [
    "ntlResult_2001.columns"
   ]
  },
  {
   "cell_type": "code",
   "execution_count": 57,
   "metadata": {},
   "outputs": [],
   "source": [
    "ntlResult_2001.columns = ['G04c_001', 'NTL', 'year']\n",
    "ntlResult_2002.columns = ['G04c_001', 'NTL', 'year']\n",
    "ntlResult_2003.columns = ['G04c_001', 'NTL', 'year']\n",
    "ntlResult_2004.columns = ['G04c_001', 'NTL', 'year']\n",
    "ntlResult_2005.columns = ['G04c_001', 'NTL', 'year']\n",
    "ntlResult_2006.columns = ['G04c_001', 'NTL', 'year']\n",
    "ntlResult_2007.columns = ['G04c_001', 'NTL', 'year']\n",
    "ntlResult_2008.columns = ['G04c_001', 'NTL', 'year']\n",
    "ntlResult_2009.columns = ['G04c_001', 'NTL', 'year']\n",
    "ntlResult_2010.columns = ['G04c_001', 'NTL', 'year']\n",
    "ntlResult_2011.columns = ['G04c_001', 'NTL', 'year']\n",
    "ntlResult_2012.columns = ['G04c_001', 'NTL', 'year']\n",
    "ntlResult_2013.columns = ['G04c_001', 'NTL', 'year']\n",
    "ntlResult_2014.columns = ['G04c_001', 'NTL', 'year']\n",
    "ntlResult_2015.columns = ['G04c_001', 'NTL', 'year']\n",
    "ntlResult_2016.columns = ['G04c_001', 'NTL', 'year']\n",
    "ntlResult_2017.columns = ['G04c_001', 'NTL', 'year']\n",
    "ntlResult_2018.columns = ['G04c_001', 'NTL', 'year']\n",
    "ntlResult_2019.columns = ['G04c_001', 'NTL', 'year']\n",
    "ntlResult_2020.columns = ['G04c_001', 'NTL', 'year']"
   ]
  },
  {
   "cell_type": "code",
   "execution_count": 58,
   "metadata": {},
   "outputs": [
    {
     "name": "stderr",
     "output_type": "stream",
     "text": [
      "C:\\Users\\li.chao.987@s.kyushu-u.ac.jp\\AppData\\Local\\Temp\\ipykernel_20320\\1752473119.py:1: SettingWithCopyWarning: \n",
      "A value is trying to be set on a copy of a slice from a DataFrame\n",
      "\n",
      "See the caveats in the documentation: https://pandas.pydata.org/pandas-docs/stable/user_guide/indexing.html#returning-a-view-versus-a-copy\n",
      "  ntlResult_2020.NTL[ntlResult_2020[\"NTL\"]<0] = 0\n",
      "C:\\Users\\li.chao.987@s.kyushu-u.ac.jp\\AppData\\Local\\Temp\\ipykernel_20320\\1752473119.py:3: SettingWithCopyWarning: \n",
      "A value is trying to be set on a copy of a slice from a DataFrame\n",
      "\n",
      "See the caveats in the documentation: https://pandas.pydata.org/pandas-docs/stable/user_guide/indexing.html#returning-a-view-versus-a-copy\n",
      "  ntlResult_2019.NTL[ntlResult_2019[\"NTL\"]<0] = 0\n"
     ]
    },
    {
     "data": {
      "text/plain": [
       "1.1114916"
      ]
     },
     "execution_count": 58,
     "metadata": {},
     "output_type": "execute_result"
    }
   ],
   "source": [
    "ntlResult_2020.NTL[ntlResult_2020[\"NTL\"]<0] = 0\n",
    "ntlResult_2020[\"NTL\"].mean()\n",
    "ntlResult_2019.NTL[ntlResult_2019[\"NTL\"]<0] = 0\n",
    "ntlResult_2019[\"NTL\"].mean()\n"
   ]
  },
  {
   "cell_type": "code",
   "execution_count": 59,
   "metadata": {},
   "outputs": [
    {
     "name": "stdout",
     "output_type": "stream",
     "text": [
      "1.6480222\n",
      "1.6131924\n",
      "1.4684126\n",
      "1.2629389\n",
      "1.5879596\n",
      "1.575272\n",
      "1.6215699\n",
      "1.4386377\n",
      "1.3462512\n",
      "1.0992323\n",
      "1.3615805\n",
      "1.3009588\n",
      "1.061045\n",
      "1.0638536\n",
      "1.0337858\n",
      "1.0159932\n",
      "1.1423855\n",
      "1.1576278\n",
      "1.1114916\n",
      "1.0489889\n"
     ]
    }
   ],
   "source": [
    "print(ntlResult_2001[\"NTL\"].mean())\n",
    "print(ntlResult_2002[\"NTL\"].mean())\n",
    "print(ntlResult_2003[\"NTL\"].mean())\n",
    "print(ntlResult_2004[\"NTL\"].mean())\n",
    "print(ntlResult_2005[\"NTL\"].mean())\n",
    "print(ntlResult_2006[\"NTL\"].mean())\n",
    "print(ntlResult_2007[\"NTL\"].mean())\n",
    "print(ntlResult_2008[\"NTL\"].mean())\n",
    "print(ntlResult_2009[\"NTL\"].mean())\n",
    "print(ntlResult_2010[\"NTL\"].mean())\n",
    "print(ntlResult_2011[\"NTL\"].mean())\n",
    "print(ntlResult_2012[\"NTL\"].mean())\n",
    "print(ntlResult_2013[\"NTL\"].mean())\n",
    "print(ntlResult_2014[\"NTL\"].mean())\n",
    "print(ntlResult_2015[\"NTL\"].mean())\n",
    "print(ntlResult_2016[\"NTL\"].mean())\n",
    "print(ntlResult_2017[\"NTL\"].mean())\n",
    "print(ntlResult_2018[\"NTL\"].mean())\n",
    "print(ntlResult_2019[\"NTL\"].mean())\n",
    "print(ntlResult_2020[\"NTL\"].mean())"
   ]
  },
  {
   "cell_type": "code",
   "execution_count": 60,
   "metadata": {},
   "outputs": [
    {
     "data": {
      "text/html": [
       "<div>\n",
       "<style scoped>\n",
       "    .dataframe tbody tr th:only-of-type {\n",
       "        vertical-align: middle;\n",
       "    }\n",
       "\n",
       "    .dataframe tbody tr th {\n",
       "        vertical-align: top;\n",
       "    }\n",
       "\n",
       "    .dataframe thead th {\n",
       "        text-align: right;\n",
       "    }\n",
       "</style>\n",
       "<table border=\"1\" class=\"dataframe\">\n",
       "  <thead>\n",
       "    <tr style=\"text-align: right;\">\n",
       "      <th></th>\n",
       "      <th>G04c_001</th>\n",
       "      <th>NTL</th>\n",
       "      <th>year</th>\n",
       "    </tr>\n",
       "  </thead>\n",
       "  <tbody>\n",
       "    <tr>\n",
       "      <th>0</th>\n",
       "      <td>303660001</td>\n",
       "      <td>0.0</td>\n",
       "      <td>2001</td>\n",
       "    </tr>\n",
       "    <tr>\n",
       "      <th>1</th>\n",
       "      <td>303660002</td>\n",
       "      <td>0.0</td>\n",
       "      <td>2001</td>\n",
       "    </tr>\n",
       "    <tr>\n",
       "      <th>2</th>\n",
       "      <td>303660003</td>\n",
       "      <td>0.0</td>\n",
       "      <td>2001</td>\n",
       "    </tr>\n",
       "    <tr>\n",
       "      <th>3</th>\n",
       "      <td>303660004</td>\n",
       "      <td>0.0</td>\n",
       "      <td>2001</td>\n",
       "    </tr>\n",
       "    <tr>\n",
       "      <th>4</th>\n",
       "      <td>303660011</td>\n",
       "      <td>0.0</td>\n",
       "      <td>2001</td>\n",
       "    </tr>\n",
       "  </tbody>\n",
       "</table>\n",
       "</div>"
      ],
      "text/plain": [
       "    G04c_001  NTL  year\n",
       "0  303660001  0.0  2001\n",
       "1  303660002  0.0  2001\n",
       "2  303660003  0.0  2001\n",
       "3  303660004  0.0  2001\n",
       "4  303660011  0.0  2001"
      ]
     },
     "execution_count": 60,
     "metadata": {},
     "output_type": "execute_result"
    }
   ],
   "source": [
    "ntlResult_2001.head()"
   ]
  },
  {
   "cell_type": "code",
   "execution_count": 62,
   "metadata": {},
   "outputs": [
    {
     "data": {
      "text/html": [
       "<div>\n",
       "<style scoped>\n",
       "    .dataframe tbody tr th:only-of-type {\n",
       "        vertical-align: middle;\n",
       "    }\n",
       "\n",
       "    .dataframe tbody tr th {\n",
       "        vertical-align: top;\n",
       "    }\n",
       "\n",
       "    .dataframe thead th {\n",
       "        text-align: right;\n",
       "    }\n",
       "</style>\n",
       "<table border=\"1\" class=\"dataframe\">\n",
       "  <thead>\n",
       "    <tr style=\"text-align: right;\">\n",
       "      <th></th>\n",
       "      <th>G04c_001</th>\n",
       "      <th>NTL</th>\n",
       "      <th>year</th>\n",
       "    </tr>\n",
       "  </thead>\n",
       "  <tbody>\n",
       "  </tbody>\n",
       "</table>\n",
       "</div>"
      ],
      "text/plain": [
       "Empty DataFrame\n",
       "Columns: [G04c_001, NTL, year]\n",
       "Index: []"
      ]
     },
     "execution_count": 62,
     "metadata": {},
     "output_type": "execute_result"
    }
   ],
   "source": [
    "ntlResult_2002[pd.isna(ntlResult_2002[\"NTL\"])].head()"
   ]
  },
  {
   "cell_type": "code",
   "execution_count": 64,
   "metadata": {},
   "outputs": [
    {
     "data": {
      "text/html": [
       "<div>\n",
       "<style scoped>\n",
       "    .dataframe tbody tr th:only-of-type {\n",
       "        vertical-align: middle;\n",
       "    }\n",
       "\n",
       "    .dataframe tbody tr th {\n",
       "        vertical-align: top;\n",
       "    }\n",
       "\n",
       "    .dataframe thead th {\n",
       "        text-align: right;\n",
       "    }\n",
       "</style>\n",
       "<table border=\"1\" class=\"dataframe\">\n",
       "  <thead>\n",
       "    <tr style=\"text-align: right;\">\n",
       "      <th></th>\n",
       "      <th>G04c_001</th>\n",
       "      <th>NTL</th>\n",
       "      <th>year</th>\n",
       "    </tr>\n",
       "  </thead>\n",
       "  <tbody>\n",
       "  </tbody>\n",
       "</table>\n",
       "</div>"
      ],
      "text/plain": [
       "Empty DataFrame\n",
       "Columns: [G04c_001, NTL, year]\n",
       "Index: []"
      ]
     },
     "execution_count": 64,
     "metadata": {},
     "output_type": "execute_result"
    }
   ],
   "source": [
    "longNtlDF[pd.isna(longNtlDF[\"NTL\"])].head()"
   ]
  },
  {
   "cell_type": "code",
   "execution_count": 63,
   "metadata": {},
   "outputs": [],
   "source": [
    "longNtlDF = pd.concat(\n",
    "    [ntlResult_2001, ntlResult_2002, ntlResult_2003, ntlResult_2004, ntlResult_2005, ntlResult_2006, ntlResult_2007, ntlResult_2008,\n",
    "    ntlResult_2009, ntlResult_2010, ntlResult_2011, ntlResult_2012, ntlResult_2013, ntlResult_2014, ntlResult_2015, ntlResult_2016,\n",
    "    ntlResult_2017, ntlResult_2018, ntlResult_2019, ntlResult_2020]\n",
    ")"
   ]
  },
  {
   "cell_type": "code",
   "execution_count": 65,
   "metadata": {},
   "outputs": [
    {
     "data": {
      "text/plain": [
       "178"
      ]
     },
     "execution_count": 65,
     "metadata": {},
     "output_type": "execute_result"
    }
   ],
   "source": [
    "del ntlResult_2001\n",
    "del ntlResult_2002\n",
    "del ntlResult_2003\n",
    "del ntlResult_2004\n",
    "del ntlResult_2005\n",
    "del ntlResult_2006\n",
    "del ntlResult_2007\n",
    "del ntlResult_2008\n",
    "del ntlResult_2009\n",
    "del ntlResult_2010\n",
    "del ntlResult_2011\n",
    "del ntlResult_2012\n",
    "del ntlResult_2013\n",
    "del ntlResult_2014\n",
    "del ntlResult_2015\n",
    "del ntlResult_2016\n",
    "del ntlResult_2017\n",
    "del ntlResult_2018\n",
    "del ntlResult_2019\n",
    "del ntlResult_2020\n",
    "\n",
    "import gc\n",
    "gc.collect()"
   ]
  },
  {
   "cell_type": "code",
   "execution_count": 66,
   "metadata": {},
   "outputs": [
    {
     "data": {
      "text/html": [
       "<div>\n",
       "<style scoped>\n",
       "    .dataframe tbody tr th:only-of-type {\n",
       "        vertical-align: middle;\n",
       "    }\n",
       "\n",
       "    .dataframe tbody tr th {\n",
       "        vertical-align: top;\n",
       "    }\n",
       "\n",
       "    .dataframe thead th {\n",
       "        text-align: right;\n",
       "    }\n",
       "</style>\n",
       "<table border=\"1\" class=\"dataframe\">\n",
       "  <thead>\n",
       "    <tr style=\"text-align: right;\">\n",
       "      <th></th>\n",
       "      <th></th>\n",
       "      <th>NTL</th>\n",
       "    </tr>\n",
       "    <tr>\n",
       "      <th>G04c_001</th>\n",
       "      <th>year</th>\n",
       "      <th></th>\n",
       "    </tr>\n",
       "  </thead>\n",
       "  <tbody>\n",
       "    <tr>\n",
       "      <th>303660001</th>\n",
       "      <th>2001</th>\n",
       "      <td>0.0</td>\n",
       "    </tr>\n",
       "    <tr>\n",
       "      <th>303660002</th>\n",
       "      <th>2001</th>\n",
       "      <td>0.0</td>\n",
       "    </tr>\n",
       "    <tr>\n",
       "      <th>303660003</th>\n",
       "      <th>2001</th>\n",
       "      <td>0.0</td>\n",
       "    </tr>\n",
       "    <tr>\n",
       "      <th>303660004</th>\n",
       "      <th>2001</th>\n",
       "      <td>0.0</td>\n",
       "    </tr>\n",
       "    <tr>\n",
       "      <th>303660011</th>\n",
       "      <th>2001</th>\n",
       "      <td>0.0</td>\n",
       "    </tr>\n",
       "  </tbody>\n",
       "</table>\n",
       "</div>"
      ],
      "text/plain": [
       "                NTL\n",
       "G04c_001  year     \n",
       "303660001 2001  0.0\n",
       "303660002 2001  0.0\n",
       "303660003 2001  0.0\n",
       "303660004 2001  0.0\n",
       "303660011 2001  0.0"
      ]
     },
     "execution_count": 66,
     "metadata": {},
     "output_type": "execute_result"
    }
   ],
   "source": [
    "longNtlDF = longNtlDF.set_index(['G04c_001','year'])\n",
    "longNtlDF.head()"
   ]
  },
  {
   "cell_type": "code",
   "execution_count": 67,
   "metadata": {},
   "outputs": [
    {
     "data": {
      "text/plain": [
       "NTL    1.297961\n",
       "dtype: float32"
      ]
     },
     "execution_count": 67,
     "metadata": {},
     "output_type": "execute_result"
    }
   ],
   "source": [
    "\n",
    "longNtlDF.mean()"
   ]
  },
  {
   "cell_type": "code",
   "execution_count": 68,
   "metadata": {},
   "outputs": [
    {
     "data": {
      "text/plain": [
       "77"
      ]
     },
     "execution_count": 68,
     "metadata": {},
     "output_type": "execute_result"
    }
   ],
   "source": [
    "del ntlResult\n",
    "gc.collect()"
   ]
  },
  {
   "cell_type": "code",
   "execution_count": 69,
   "metadata": {},
   "outputs": [],
   "source": [
    "fileList = glob.glob(aimFolder + \"\\\\temp\\\\*\")\n",
    "#fileList = fileList[1:]\n",
    "for filename in fileList:\n",
    "    os.remove(filename)\n",
    "\n",
    "#os.rmdir(aimFolder + \"\\\\temp\")"
   ]
  },
  {
   "cell_type": "code",
   "execution_count": 70,
   "metadata": {},
   "outputs": [],
   "source": [
    "os.rmdir(aimFolder + \"\\\\temp\")"
   ]
  },
  {
   "cell_type": "code",
   "execution_count": 89,
   "metadata": {},
   "outputs": [
    {
     "data": {
      "text/html": [
       "<div>\n",
       "<style scoped>\n",
       "    .dataframe tbody tr th:only-of-type {\n",
       "        vertical-align: middle;\n",
       "    }\n",
       "\n",
       "    .dataframe tbody tr th {\n",
       "        vertical-align: top;\n",
       "    }\n",
       "\n",
       "    .dataframe thead th {\n",
       "        text-align: right;\n",
       "    }\n",
       "</style>\n",
       "<table border=\"1\" class=\"dataframe\">\n",
       "  <thead>\n",
       "    <tr style=\"text-align: right;\">\n",
       "      <th></th>\n",
       "      <th></th>\n",
       "      <th>NTL</th>\n",
       "    </tr>\n",
       "    <tr>\n",
       "      <th>G04c_001</th>\n",
       "      <th>year</th>\n",
       "      <th></th>\n",
       "    </tr>\n",
       "  </thead>\n",
       "  <tbody>\n",
       "    <tr>\n",
       "      <th>303660001</th>\n",
       "      <th>2001</th>\n",
       "      <td>0.0</td>\n",
       "    </tr>\n",
       "    <tr>\n",
       "      <th>303660002</th>\n",
       "      <th>2001</th>\n",
       "      <td>0.0</td>\n",
       "    </tr>\n",
       "    <tr>\n",
       "      <th>303660003</th>\n",
       "      <th>2001</th>\n",
       "      <td>0.0</td>\n",
       "    </tr>\n",
       "    <tr>\n",
       "      <th>303660004</th>\n",
       "      <th>2001</th>\n",
       "      <td>0.0</td>\n",
       "    </tr>\n",
       "    <tr>\n",
       "      <th>303660011</th>\n",
       "      <th>2001</th>\n",
       "      <td>0.0</td>\n",
       "    </tr>\n",
       "  </tbody>\n",
       "</table>\n",
       "</div>"
      ],
      "text/plain": [
       "                NTL\n",
       "G04c_001  year     \n",
       "303660001 2001  0.0\n",
       "303660002 2001  0.0\n",
       "303660003 2001  0.0\n",
       "303660004 2001  0.0\n",
       "303660011 2001  0.0"
      ]
     },
     "execution_count": 89,
     "metadata": {},
     "output_type": "execute_result"
    }
   ],
   "source": [
    "longNtlDF.head()"
   ]
  },
  {
   "cell_type": "code",
   "execution_count": null,
   "metadata": {},
   "outputs": [],
   "source": []
  },
  {
   "cell_type": "markdown",
   "metadata": {},
   "source": [
    "# Temperature Extraction\n",
    "Surf_Temp_8Days_1Km (M*D11A2)"
   ]
  },
  {
   "cell_type": "code",
   "execution_count": 73,
   "metadata": {},
   "outputs": [],
   "source": [
    "from IPython import get_ipython\n",
    "get_ipython().magic('reset -sf')"
   ]
  },
  {
   "cell_type": "code",
   "execution_count": 74,
   "metadata": {},
   "outputs": [],
   "source": [
    "import os\n",
    "import glob\n",
    "from osgeo import gdal\n",
    "import numpy as np\n",
    "import gc\n",
    "import geopandas as gpd\n",
    "import rasterio\n",
    "import math"
   ]
  },
  {
   "cell_type": "code",
   "execution_count": 75,
   "metadata": {},
   "outputs": [],
   "source": [
    "aimFolder = \"F:\\\\17_Article\\\\01_Data\\\\08_Temperature\\\\Surf_Temp_8Days_1Km_v6\"\n",
    "#os.mkdir(aimFolder + \"\\\\temp\")\n",
    "#year = 2015"
   ]
  },
  {
   "cell_type": "code",
   "execution_count": 107,
   "metadata": {},
   "outputs": [],
   "source": [
    "def dayTimeTemperatureRaster(year, aimFolder):\n",
    "### Day time Temp\n",
    "    dayTimeTemperatureFileList = glob.glob(aimFolder + \"\\\\LST_Day_1km\\\\M*\" + str(year) + \"*.tif\")\n",
    "\n",
    "    dayTimeTemperatureRasterList = []\n",
    "    for dayTimeTemperatureFile in dayTimeTemperatureFileList:\n",
    "        dayTimeTemperatureRasterRaw = gdal.Open(dayTimeTemperatureFile, gdal.GA_ReadOnly)\n",
    "        dayTimeTemperatureRaster = dayTimeTemperatureRasterRaw.ReadAsArray()\n",
    "        dayTimeTemperatureRasterRaw = None\n",
    "        dayTimeTemperatureRaster = dayTimeTemperatureRaster.astype(\"float\")\n",
    "        dayTimeTemperatureRaster[dayTimeTemperatureRaster == 0] = np.nan\n",
    "        dayTimeTemperatureRaster = dayTimeTemperatureRaster * 0.02 - 273.16\n",
    "        dayTimeTemperatureRasterList.append(dayTimeTemperatureRaster)\n",
    "\n",
    "    meanDayTimeTemperatureRaster = np.nanmean(dayTimeTemperatureRasterList, axis = 0)\n",
    "    stdDayTimeTemperatureRaster = np.nanstd(dayTimeTemperatureRasterList, axis = 0)\n",
    "    dayTimeTemperatureRasterList = None\n",
    "    gc.collect()\n",
    "\n",
    "    src_dataset = gdal.Open(dayTimeTemperatureFileList[0], gdal.GA_ReadOnly)\n",
    "    geotransform = src_dataset.GetGeoTransform()\n",
    "    spatialreference = src_dataset.GetProjection()\n",
    "    ncol = meanDayTimeTemperatureRaster.shape[1]\n",
    "    nrow = meanDayTimeTemperatureRaster.shape[0]\n",
    "    nband = 1\n",
    "    src_dataset = None\n",
    "\n",
    "    # write the tif files\n",
    "    driver = gdal.GetDriverByName(\"GTiff\")\n",
    "    dst_dataset = driver.Create(aimFolder + \"\\\\temp\\\\\" + str(year) + \"_daytime_mean.tif\", ncol, nrow, nband, gdal.GDT_Float32) \n",
    "    #### ^^^^^ Change this line\n",
    "    dst_dataset.SetGeoTransform(geotransform)\n",
    "    dst_dataset.SetProjection(spatialreference)\n",
    "    dst_dataset.GetRasterBand(1).WriteArray(meanDayTimeTemperatureRaster)\n",
    "    dst_dataset = None\n",
    "\n",
    "    # write the tif files\n",
    "    driver = gdal.GetDriverByName(\"GTiff\")\n",
    "    dst_dataset = driver.Create(aimFolder + \"\\\\temp\\\\\" + str(year) + \"_daytime_std.tif\", ncol, nrow, nband, gdal.GDT_Float32) \n",
    "    #### ^^^^^ Change this line\n",
    "    dst_dataset.SetGeoTransform(geotransform)\n",
    "    dst_dataset.SetProjection(spatialreference)\n",
    "    dst_dataset.GetRasterBand(1).WriteArray(stdDayTimeTemperatureRaster)\n",
    "    dst_dataset = None\n",
    "\n",
    "    ### resample and reproject\n",
    "    raster_rprj = gdal.Warp(aimFolder + \"\\\\temp\\\\\" + str(year) + \"_daytime_mean_re.tif\", \n",
    "                            aimFolder + \"\\\\temp\\\\\" + str(year) + \"_daytime_mean.tif\", dstSRS = \"EPSG:4326\",\n",
    "                            xRes = 0.008, yRes = 0.008, resampleAlg = \"average\", srcNodata = math.nan)\n",
    "    raster_rprj = None\n",
    "\n",
    "    raster_rprj = gdal.Warp(aimFolder + \"\\\\temp\\\\\" + str(year) + \"_daytime_std_re.tif\", \n",
    "                            aimFolder + \"\\\\temp\\\\\" + str(year) + \"_daytime_std.tif\", dstSRS = \"EPSG:4326\",\n",
    "                            xRes = 0.008, yRes = 0.008, resampleAlg = \"average\", srcNodata = math.nan)\n",
    "    raster_rprj = None\n"
   ]
  },
  {
   "cell_type": "code",
   "execution_count": 113,
   "metadata": {},
   "outputs": [
    {
     "name": "stderr",
     "output_type": "stream",
     "text": [
      "C:\\Users\\li.chao.987@s.kyushu-u.ac.jp\\AppData\\Local\\Temp\\ipykernel_12728\\1949070710.py:15: RuntimeWarning: Mean of empty slice\n",
      "  meanDayTimeTemperatureRaster = np.nanmean(dayTimeTemperatureRasterList, axis = 0)\n",
      "d:\\Anaconda3\\envs\\Usegdal\\lib\\site-packages\\numpy\\lib\\nanfunctions.py:1879: RuntimeWarning: Degrees of freedom <= 0 for slice.\n",
      "  var = nanvar(a, axis=axis, dtype=dtype, out=out, ddof=ddof,\n"
     ]
    }
   ],
   "source": [
    "from joblib import Parallel, delayed\n",
    "import multiprocessing\n",
    "import numpy as np\n",
    "import glob\n",
    "\n",
    "#Parallel(n_jobs=2)(delayed(dayTimeTemperatureRaster)(int(year), aimFolder) for year in np.linspace(2001, 2020, 20))\n",
    "#parallel unavailable\n",
    "\n",
    "for year in np.linspace(2003, 2020, 18):\n",
    "    dayTimeTemperatureRaster(int(year), aimFolder)"
   ]
  },
  {
   "cell_type": "code",
   "execution_count": 115,
   "metadata": {},
   "outputs": [
    {
     "data": {
      "text/plain": [
       "154"
      ]
     },
     "execution_count": 115,
     "metadata": {},
     "output_type": "execute_result"
    }
   ],
   "source": [
    "gc.collect()"
   ]
  },
  {
   "cell_type": "code",
   "execution_count": 118,
   "metadata": {},
   "outputs": [],
   "source": [
    "def nightTimeTemperatureRaster(year, aimFolder):\n",
    "    ### Night time Temp\n",
    "    nightTimeTemperatureFileList = glob.glob(aimFolder + \"\\\\LST_Night_1km\\\\M*\" + str(year) + \"*.tif\")\n",
    "\n",
    "    nightTimeTemperatureRasterList = []\n",
    "    for nightTimeTemperatureFile in nightTimeTemperatureFileList:\n",
    "        nightTimeTemperatureRasterRaw = gdal.Open(nightTimeTemperatureFile, gdal.GA_ReadOnly)\n",
    "        nightTimeTemperatureRaster = nightTimeTemperatureRasterRaw.ReadAsArray()\n",
    "        nightTimeTemperatureRasterRaw = None\n",
    "        nightTimeTemperatureRaster = nightTimeTemperatureRaster.astype(\"float\")\n",
    "        nightTimeTemperatureRaster[nightTimeTemperatureRaster == 0] = np.nan\n",
    "        nightTimeTemperatureRaster = nightTimeTemperatureRaster * 0.02 - 273.16\n",
    "        nightTimeTemperatureRasterList.append(nightTimeTemperatureRaster)\n",
    "\n",
    "    meanNightTimeTemperatureRaster = np.nanmean(nightTimeTemperatureRasterList, axis = 0)\n",
    "    stdNightTimeTemperatureRaster = np.nanstd(nightTimeTemperatureRasterList, axis = 0)\n",
    "    nightTimeTemperatureRasterList = None\n",
    "    gc.collect()\n",
    "\n",
    "    src_dataset = gdal.Open(nightTimeTemperatureFileList[0], gdal.GA_ReadOnly)\n",
    "    geotransform = src_dataset.GetGeoTransform()\n",
    "    spatialreference = src_dataset.GetProjection()\n",
    "    ncol = meanNightTimeTemperatureRaster.shape[1]\n",
    "    nrow = meanNightTimeTemperatureRaster.shape[0]\n",
    "    nband = 1\n",
    "    src_dataset = None\n",
    "\n",
    "    # write the tif files\n",
    "    driver = gdal.GetDriverByName(\"GTiff\")\n",
    "    dst_dataset = driver.Create(aimFolder + \"\\\\temp\\\\\" + str(year) + \"_nighttime_mean.tif\", ncol, nrow, nband, gdal.GDT_Float32) \n",
    "    #### ^^^^^ Change this line\n",
    "    dst_dataset.SetGeoTransform(geotransform)\n",
    "    dst_dataset.SetProjection(spatialreference)\n",
    "    dst_dataset.GetRasterBand(1).WriteArray(meanNightTimeTemperatureRaster)\n",
    "    dst_dataset = None\n",
    "\n",
    "    # write the tif files\n",
    "    driver = gdal.GetDriverByName(\"GTiff\")\n",
    "    dst_dataset = driver.Create(aimFolder + \"\\\\temp\\\\\" + str(year) + \"_nighttime_std.tif\", ncol, nrow, nband, gdal.GDT_Float32) \n",
    "    #### ^^^^^ Change this line\n",
    "    dst_dataset.SetGeoTransform(geotransform)\n",
    "    dst_dataset.SetProjection(spatialreference)\n",
    "    dst_dataset.GetRasterBand(1).WriteArray(stdNightTimeTemperatureRaster)\n",
    "    dst_dataset = None\n",
    "\n",
    "    ### resample and reproject\n",
    "    raster_rprj = gdal.Warp(aimFolder + \"\\\\temp\\\\\" + str(year) + \"_nighttime_mean_re.tif\", \n",
    "                            aimFolder + \"\\\\temp\\\\\" + str(year) + \"_nighttime_mean.tif\", dstSRS = \"EPSG:4326\",\n",
    "                            xRes = 0.008, yRes = 0.008, resampleAlg = \"average\", srcNodata = math.nan)\n",
    "    raster_rprj = None\n",
    "\n",
    "    raster_rprj = gdal.Warp(aimFolder + \"\\\\temp\\\\\" + str(year) + \"_nighttime_std_re.tif\", \n",
    "                            aimFolder + \"\\\\temp\\\\\" + str(year) + \"_nighttime_std.tif\", dstSRS = \"EPSG:4326\",\n",
    "                            xRes = 0.008, yRes = 0.008, resampleAlg = \"average\", srcNodata = math.nan)\n",
    "    raster_rprj = None"
   ]
  },
  {
   "cell_type": "code",
   "execution_count": 119,
   "metadata": {},
   "outputs": [
    {
     "name": "stderr",
     "output_type": "stream",
     "text": [
      "C:\\Users\\li.chao.987@s.kyushu-u.ac.jp\\AppData\\Local\\Temp\\ipykernel_12728\\342181939.py:15: RuntimeWarning: Mean of empty slice\n",
      "  meanNightTimeTemperatureRaster = np.nanmean(nightTimeTemperatureRasterList, axis = 0)\n"
     ]
    }
   ],
   "source": [
    "from joblib import Parallel, delayed\n",
    "import multiprocessing\n",
    "import numpy as np\n",
    "import glob\n",
    "\n",
    "for year in np.linspace(2001, 2020, 20):\n",
    "    nightTimeTemperatureRaster(int(year), aimFolder)"
   ]
  },
  {
   "cell_type": "code",
   "execution_count": 76,
   "metadata": {},
   "outputs": [],
   "source": [
    "coords_extration = gpd.read_file(\"F:/17_Article/01_Data/00_mesh/Mesh500/mergedPointMesh500m.shp\")"
   ]
  },
  {
   "cell_type": "code",
   "execution_count": 77,
   "metadata": {},
   "outputs": [],
   "source": [
    "def coordExtractionFromRaster(RasterName, GeoPandasDataFrame, NewColumnName):\n",
    "    rasterFile = rasterio.open(RasterName)\n",
    "    coords_extration = GeoPandasDataFrame.copy()\n",
    "    rasterArray = rasterFile.read(1)\n",
    "    \n",
    "    valueArray = []\n",
    "    for point in coords_extration['geometry']:\n",
    "        x = point.xy[0][0]\n",
    "        y = point.xy[1][0]\n",
    "        row, col = rasterFile.index(x, y)\n",
    "        valueArray.append(rasterArray[row, col])\n",
    "        \n",
    "    valueArray = np.array(valueArray)\n",
    "    coords_extration[NewColumnName] = valueArray\n",
    "    rasterFile = None\n",
    "    return coords_extration"
   ]
  },
  {
   "cell_type": "code",
   "execution_count": 135,
   "metadata": {},
   "outputs": [],
   "source": [
    "\n",
    "from joblib import Parallel, delayed\n",
    "import multiprocessing\n",
    "import numpy as np\n",
    "import glob\n",
    "\n",
    "dayTimeTempMeanResult = Parallel(n_jobs=8)(delayed(coordExtractionFromRaster)(aimFolder + \"\\\\temp\\\\\" + str(int(year)) + \"_daytime_mean_re.tif\", coords_extration, 'dayTimeMeanTemp') for year in np.linspace(2001, 2020, 20))"
   ]
  },
  {
   "cell_type": "code",
   "execution_count": 136,
   "metadata": {},
   "outputs": [
    {
     "data": {
      "text/plain": [
       "Index(['G04c_001', 'geometry', 'dayTimeMeanTemp'], dtype='object')"
      ]
     },
     "execution_count": 136,
     "metadata": {},
     "output_type": "execute_result"
    }
   ],
   "source": [
    "dayTimeTempMeanResult[0].columns"
   ]
  },
  {
   "cell_type": "code",
   "execution_count": 137,
   "metadata": {},
   "outputs": [],
   "source": [
    "def mergeParallelDf(DF):\n",
    "    singleDF_0 = DF[0]\n",
    "    singleDF_1 = DF[1]\n",
    "    singleDF_2 = DF[2]\n",
    "    singleDF_3 = DF[3]\n",
    "    singleDF_4 = DF[4]\n",
    "    singleDF_5 = DF[5]\n",
    "    singleDF_6 = DF[6]\n",
    "    singleDF_7 = DF[7]\n",
    "    singleDF_8 = DF[8]\n",
    "    singleDF_9 = DF[9]\n",
    "    singleDF_10 = DF[10]\n",
    "    singleDF_11 = DF[11]\n",
    "    singleDF_12 = DF[12]\n",
    "    singleDF_13 = DF[13]\n",
    "    singleDF_14 = DF[14]\n",
    "    singleDF_15 = DF[15]\n",
    "    singleDF_16 = DF[16]\n",
    "    singleDF_17 = DF[17]\n",
    "    singleDF_18 = DF[18]\n",
    "    singleDF_19 = DF[19]\n",
    "\n",
    "    singleDF_0['year'] = 2001\n",
    "    singleDF_1['year'] = 2002 \n",
    "    singleDF_2['year'] = 2003 \n",
    "    singleDF_3['year'] = 2004 \n",
    "    singleDF_4['year'] = 2005 \n",
    "    singleDF_5['year'] = 2006 \n",
    "    singleDF_6['year'] = 2007 \n",
    "    singleDF_7['year'] = 2008 \n",
    "    singleDF_8['year'] = 2009 \n",
    "    singleDF_9['year'] = 2010 \n",
    "    singleDF_10['year'] = 2011\n",
    "    singleDF_11['year'] = 2012 \n",
    "    singleDF_12['year'] = 2013 \n",
    "    singleDF_13['year'] = 2014 \n",
    "    singleDF_14['year'] = 2015 \n",
    "    singleDF_15['year'] = 2016 \n",
    "    singleDF_16['year'] = 2017 \n",
    "    singleDF_17['year'] = 2018 \n",
    "    singleDF_18['year'] = 2019 \n",
    "    singleDF_19['year'] = 2020\n",
    "\n",
    "    mergeDF = pd.concat([\n",
    "        singleDF_0, singleDF_1, singleDF_2, singleDF_3, singleDF_4, singleDF_5, singleDF_6, singleDF_7, singleDF_8, singleDF_9,\n",
    "        singleDF_10, singleDF_11, singleDF_12, singleDF_13, singleDF_14, singleDF_15, singleDF_16, singleDF_17, singleDF_18, singleDF_19\n",
    "    ])\n",
    "\n",
    "    return mergeDF\n"
   ]
  },
  {
   "cell_type": "code",
   "execution_count": 138,
   "metadata": {},
   "outputs": [],
   "source": [
    "import pandas as pd\n",
    "mergeDayTimeTempMeanResult = mergeParallelDf(dayTimeTempMeanResult)"
   ]
  },
  {
   "cell_type": "code",
   "execution_count": 139,
   "metadata": {},
   "outputs": [
    {
     "data": {
      "text/plain": [
       "Index(['G04c_001', 'geometry', 'dayTimeMeanTemp', 'year'], dtype='object')"
      ]
     },
     "execution_count": 139,
     "metadata": {},
     "output_type": "execute_result"
    }
   ],
   "source": [
    "mergeDayTimeTempMeanResult.columns"
   ]
  },
  {
   "cell_type": "code",
   "execution_count": 140,
   "metadata": {},
   "outputs": [
    {
     "name": "stdout",
     "output_type": "stream",
     "text": [
      "(26241, 4)\n",
      "(26193, 4)\n",
      "(26189, 4)\n",
      "(26179, 4)\n",
      "(26201, 4)\n",
      "(26173, 4)\n",
      "(26159, 4)\n",
      "(26182, 4)\n",
      "(26173, 4)\n",
      "(26216, 4)\n"
     ]
    }
   ],
   "source": [
    "print(singleDF_0[pd.isna(singleDF_0['dayTimeMeanTemp'])].shape)\n",
    "print(singleDF_1[pd.isna(singleDF_1['dayTimeMeanTemp'])].shape)\n",
    "print(singleDF_2[pd.isna(singleDF_2['dayTimeMeanTemp'])].shape)\n",
    "print(singleDF_3[pd.isna(singleDF_3['dayTimeMeanTemp'])].shape)\n",
    "print(singleDF_4[pd.isna(singleDF_4['dayTimeMeanTemp'])].shape)\n",
    "print(singleDF_5[pd.isna(singleDF_5['dayTimeMeanTemp'])].shape)\n",
    "print(singleDF_6[pd.isna(singleDF_6['dayTimeMeanTemp'])].shape)\n",
    "print(singleDF_7[pd.isna(singleDF_7['dayTimeMeanTemp'])].shape)\n",
    "print(singleDF_8[pd.isna(singleDF_8['dayTimeMeanTemp'])].shape)\n",
    "print(singleDF_9[pd.isna(singleDF_9['dayTimeMeanTemp'])].shape)"
   ]
  },
  {
   "cell_type": "code",
   "execution_count": 141,
   "metadata": {},
   "outputs": [],
   "source": [
    "mergeDayTimeTempMeanResult = pd.DataFrame(mergeDayTimeTempMeanResult.drop(columns='geometry'))\n",
    "mergeDayTimeTempMeanResult = mergeDayTimeTempMeanResult[['G04c_001', 'dayTimeMeanTemp', 'year']]\n",
    "mergeDayTimeTempMeanResult = mergeDayTimeTempMeanResult.set_index(['G04c_001', 'year'])\n"
   ]
  },
  {
   "cell_type": "code",
   "execution_count": 142,
   "metadata": {},
   "outputs": [
    {
     "data": {
      "text/plain": [
       "26196.05"
      ]
     },
     "execution_count": 142,
     "metadata": {},
     "output_type": "execute_result"
    }
   ],
   "source": [
    "mergeDayTimeTempMeanResult[pd.isna(mergeDayTimeTempMeanResult['dayTimeMeanTemp'])].shape[0]/20"
   ]
  },
  {
   "cell_type": "code",
   "execution_count": 143,
   "metadata": {},
   "outputs": [],
   "source": [
    "mergeDayTimeTempMeanResult['dayTimeMeanTemp'] = mergeDayTimeTempMeanResult['dayTimeMeanTemp'].fillna(0)"
   ]
  },
  {
   "cell_type": "code",
   "execution_count": 145,
   "metadata": {},
   "outputs": [
    {
     "ename": "NameError",
     "evalue": "name 'dayTimeTempMeanResult' is not defined",
     "output_type": "error",
     "traceback": [
      "\u001b[1;31m---------------------------------------------------------------------------\u001b[0m",
      "\u001b[1;31mNameError\u001b[0m                                 Traceback (most recent call last)",
      "\u001b[1;32m~\\AppData\\Local\\Temp\\ipykernel_20320\\1188124660.py\u001b[0m in \u001b[0;36m<cell line: 1>\u001b[1;34m()\u001b[0m\n\u001b[1;32m----> 1\u001b[1;33m \u001b[1;32mdel\u001b[0m \u001b[0mdayTimeTempMeanResult\u001b[0m\u001b[1;33m\u001b[0m\u001b[1;33m\u001b[0m\u001b[0m\n\u001b[0m\u001b[0;32m      2\u001b[0m \u001b[0mgc\u001b[0m\u001b[1;33m.\u001b[0m\u001b[0mcollect\u001b[0m\u001b[1;33m(\u001b[0m\u001b[1;33m)\u001b[0m\u001b[1;33m\u001b[0m\u001b[1;33m\u001b[0m\u001b[0m\n",
      "\u001b[1;31mNameError\u001b[0m: name 'dayTimeTempMeanResult' is not defined"
     ]
    }
   ],
   "source": [
    "del dayTimeTempMeanResult\n",
    "gc.collect()"
   ]
  },
  {
   "cell_type": "code",
   "execution_count": 146,
   "metadata": {},
   "outputs": [
    {
     "data": {
      "text/html": [
       "<div>\n",
       "<style scoped>\n",
       "    .dataframe tbody tr th:only-of-type {\n",
       "        vertical-align: middle;\n",
       "    }\n",
       "\n",
       "    .dataframe tbody tr th {\n",
       "        vertical-align: top;\n",
       "    }\n",
       "\n",
       "    .dataframe thead th {\n",
       "        text-align: right;\n",
       "    }\n",
       "</style>\n",
       "<table border=\"1\" class=\"dataframe\">\n",
       "  <thead>\n",
       "    <tr style=\"text-align: right;\">\n",
       "      <th></th>\n",
       "      <th></th>\n",
       "      <th>dayTimeMeanTemp</th>\n",
       "    </tr>\n",
       "    <tr>\n",
       "      <th>G04c_001</th>\n",
       "      <th>year</th>\n",
       "      <th></th>\n",
       "    </tr>\n",
       "  </thead>\n",
       "  <tbody>\n",
       "    <tr>\n",
       "      <th>303660001</th>\n",
       "      <th>2001</th>\n",
       "      <td>0.0</td>\n",
       "    </tr>\n",
       "    <tr>\n",
       "      <th>303660002</th>\n",
       "      <th>2001</th>\n",
       "      <td>0.0</td>\n",
       "    </tr>\n",
       "    <tr>\n",
       "      <th>303660003</th>\n",
       "      <th>2001</th>\n",
       "      <td>0.0</td>\n",
       "    </tr>\n",
       "    <tr>\n",
       "      <th>303660004</th>\n",
       "      <th>2001</th>\n",
       "      <td>0.0</td>\n",
       "    </tr>\n",
       "    <tr>\n",
       "      <th>303660011</th>\n",
       "      <th>2001</th>\n",
       "      <td>0.0</td>\n",
       "    </tr>\n",
       "  </tbody>\n",
       "</table>\n",
       "</div>"
      ],
      "text/plain": [
       "                dayTimeMeanTemp\n",
       "G04c_001  year                 \n",
       "303660001 2001              0.0\n",
       "303660002 2001              0.0\n",
       "303660003 2001              0.0\n",
       "303660004 2001              0.0\n",
       "303660011 2001              0.0"
      ]
     },
     "execution_count": 146,
     "metadata": {},
     "output_type": "execute_result"
    }
   ],
   "source": [
    "mergeDayTimeTempMeanResult.head()"
   ]
  },
  {
   "cell_type": "code",
   "execution_count": 147,
   "metadata": {},
   "outputs": [],
   "source": [
    "dayTimeTempStdResult = Parallel(n_jobs=8)(delayed(coordExtractionFromRaster)(aimFolder + \"\\\\temp\\\\\" + str(int(year)) + \"_daytime_std_re.tif\", coords_extration, 'dayTimeStdTemp') for year in np.linspace(2001, 2020, 20))"
   ]
  },
  {
   "cell_type": "code",
   "execution_count": 148,
   "metadata": {},
   "outputs": [],
   "source": [
    "mergeDayTimeTempStdResult = mergeParallelDf(dayTimeTempStdResult)\n",
    "mergeDayTimeTempStdResult = pd.DataFrame(mergeDayTimeTempStdResult.drop(columns='geometry'))\n",
    "mergeDayTimeTempStdResult = mergeDayTimeTempStdResult[['G04c_001', 'dayTimeStdTemp', 'year']]\n",
    "mergeDayTimeTempStdResult = mergeDayTimeTempStdResult.set_index(['G04c_001', 'year'])"
   ]
  },
  {
   "cell_type": "code",
   "execution_count": 149,
   "metadata": {},
   "outputs": [
    {
     "data": {
      "text/plain": [
       "(523921, 1)"
      ]
     },
     "execution_count": 149,
     "metadata": {},
     "output_type": "execute_result"
    }
   ],
   "source": [
    "mergeDayTimeTempStdResult[pd.isna(mergeDayTimeTempStdResult['dayTimeStdTemp'])].shape"
   ]
  },
  {
   "cell_type": "code",
   "execution_count": 150,
   "metadata": {},
   "outputs": [],
   "source": [
    "mergeDayTimeTempStdResult['dayTimeStdTemp'] = mergeDayTimeTempStdResult['dayTimeStdTemp'].fillna(0)"
   ]
  },
  {
   "cell_type": "code",
   "execution_count": 153,
   "metadata": {},
   "outputs": [],
   "source": [
    "mergeDayTimeTempResult = pd.concat([mergeDayTimeTempMeanResult, mergeDayTimeTempStdResult], axis=1)"
   ]
  },
  {
   "cell_type": "code",
   "execution_count": 154,
   "metadata": {},
   "outputs": [
    {
     "data": {
      "text/html": [
       "<div>\n",
       "<style scoped>\n",
       "    .dataframe tbody tr th:only-of-type {\n",
       "        vertical-align: middle;\n",
       "    }\n",
       "\n",
       "    .dataframe tbody tr th {\n",
       "        vertical-align: top;\n",
       "    }\n",
       "\n",
       "    .dataframe thead th {\n",
       "        text-align: right;\n",
       "    }\n",
       "</style>\n",
       "<table border=\"1\" class=\"dataframe\">\n",
       "  <thead>\n",
       "    <tr style=\"text-align: right;\">\n",
       "      <th></th>\n",
       "      <th></th>\n",
       "      <th>dayTimeMeanTemp</th>\n",
       "      <th>dayTimeStdTemp</th>\n",
       "    </tr>\n",
       "    <tr>\n",
       "      <th>G04c_001</th>\n",
       "      <th>year</th>\n",
       "      <th></th>\n",
       "      <th></th>\n",
       "    </tr>\n",
       "  </thead>\n",
       "  <tbody>\n",
       "    <tr>\n",
       "      <th>303660001</th>\n",
       "      <th>2001</th>\n",
       "      <td>0.0</td>\n",
       "      <td>0.0</td>\n",
       "    </tr>\n",
       "    <tr>\n",
       "      <th>303660002</th>\n",
       "      <th>2001</th>\n",
       "      <td>0.0</td>\n",
       "      <td>0.0</td>\n",
       "    </tr>\n",
       "    <tr>\n",
       "      <th>303660003</th>\n",
       "      <th>2001</th>\n",
       "      <td>0.0</td>\n",
       "      <td>0.0</td>\n",
       "    </tr>\n",
       "    <tr>\n",
       "      <th>303660004</th>\n",
       "      <th>2001</th>\n",
       "      <td>0.0</td>\n",
       "      <td>0.0</td>\n",
       "    </tr>\n",
       "    <tr>\n",
       "      <th>303660011</th>\n",
       "      <th>2001</th>\n",
       "      <td>0.0</td>\n",
       "      <td>0.0</td>\n",
       "    </tr>\n",
       "  </tbody>\n",
       "</table>\n",
       "</div>"
      ],
      "text/plain": [
       "                dayTimeMeanTemp  dayTimeStdTemp\n",
       "G04c_001  year                                 \n",
       "303660001 2001              0.0             0.0\n",
       "303660002 2001              0.0             0.0\n",
       "303660003 2001              0.0             0.0\n",
       "303660004 2001              0.0             0.0\n",
       "303660011 2001              0.0             0.0"
      ]
     },
     "execution_count": 154,
     "metadata": {},
     "output_type": "execute_result"
    }
   ],
   "source": [
    "mergeDayTimeTempResult.head()"
   ]
  },
  {
   "cell_type": "code",
   "execution_count": 155,
   "metadata": {},
   "outputs": [
    {
     "name": "stdout",
     "output_type": "stream",
     "text": [
      "(31060480, 2)\n",
      "(31060480, 1)\n",
      "(31060480, 1)\n"
     ]
    }
   ],
   "source": [
    "print(mergeDayTimeTempResult.shape)\n",
    "print(mergeDayTimeTempMeanResult.shape)\n",
    "print(mergeDayTimeTempStdResult.shape)"
   ]
  },
  {
   "cell_type": "code",
   "execution_count": 156,
   "metadata": {},
   "outputs": [
    {
     "data": {
      "text/plain": [
       "763"
      ]
     },
     "execution_count": 156,
     "metadata": {},
     "output_type": "execute_result"
    }
   ],
   "source": [
    "del dayTimeTempStdResult\n",
    "gc.collect()"
   ]
  },
  {
   "cell_type": "code",
   "execution_count": 157,
   "metadata": {},
   "outputs": [
    {
     "data": {
      "text/plain": [
       "64"
      ]
     },
     "execution_count": 157,
     "metadata": {},
     "output_type": "execute_result"
    }
   ],
   "source": [
    "del mergeDayTimeTempMeanResult\n",
    "del mergeDayTimeTempStdResult\n",
    "\n",
    "gc.collect()"
   ]
  },
  {
   "cell_type": "code",
   "execution_count": 158,
   "metadata": {},
   "outputs": [],
   "source": [
    "nightTimeTempMeanResult = Parallel(n_jobs=8)(delayed(coordExtractionFromRaster)(aimFolder + \"\\\\temp\\\\\" + str(int(year)) + \"_nighttime_Mean_re.tif\", coords_extration, 'nightTimeMeanTemp') for year in np.linspace(2001, 2020, 20))"
   ]
  },
  {
   "cell_type": "code",
   "execution_count": 159,
   "metadata": {},
   "outputs": [],
   "source": [
    "mergeNightTimeTempMeanResult = mergeParallelDf(nightTimeTempMeanResult)\n",
    "mergeNightTimeTempMeanResult = pd.DataFrame(mergeNightTimeTempMeanResult.drop(columns='geometry'))\n",
    "mergeNightTimeTempMeanResult = mergeNightTimeTempMeanResult[['G04c_001', 'nightTimeMeanTemp', 'year']]\n",
    "mergeNightTimeTempMeanResult = mergeNightTimeTempMeanResult.set_index(['G04c_001', 'year'])"
   ]
  },
  {
   "cell_type": "code",
   "execution_count": 160,
   "metadata": {},
   "outputs": [
    {
     "data": {
      "text/plain": [
       "(524238, 1)"
      ]
     },
     "execution_count": 160,
     "metadata": {},
     "output_type": "execute_result"
    }
   ],
   "source": [
    "mergeNightTimeTempMeanResult[pd.isna(mergeNightTimeTempMeanResult['nightTimeMeanTemp'])].shape"
   ]
  },
  {
   "cell_type": "code",
   "execution_count": 161,
   "metadata": {},
   "outputs": [],
   "source": [
    "mergeNightTimeTempMeanResult['nightTimeMeanTemp'] = mergeNightTimeTempMeanResult['nightTimeMeanTemp'].fillna(0)"
   ]
  },
  {
   "cell_type": "code",
   "execution_count": 162,
   "metadata": {},
   "outputs": [
    {
     "data": {
      "text/html": [
       "<div>\n",
       "<style scoped>\n",
       "    .dataframe tbody tr th:only-of-type {\n",
       "        vertical-align: middle;\n",
       "    }\n",
       "\n",
       "    .dataframe tbody tr th {\n",
       "        vertical-align: top;\n",
       "    }\n",
       "\n",
       "    .dataframe thead th {\n",
       "        text-align: right;\n",
       "    }\n",
       "</style>\n",
       "<table border=\"1\" class=\"dataframe\">\n",
       "  <thead>\n",
       "    <tr style=\"text-align: right;\">\n",
       "      <th></th>\n",
       "      <th></th>\n",
       "      <th>nightTimeMeanTemp</th>\n",
       "    </tr>\n",
       "    <tr>\n",
       "      <th>G04c_001</th>\n",
       "      <th>year</th>\n",
       "      <th></th>\n",
       "    </tr>\n",
       "  </thead>\n",
       "  <tbody>\n",
       "    <tr>\n",
       "      <th>303660001</th>\n",
       "      <th>2001</th>\n",
       "      <td>0.0</td>\n",
       "    </tr>\n",
       "    <tr>\n",
       "      <th>303660002</th>\n",
       "      <th>2001</th>\n",
       "      <td>0.0</td>\n",
       "    </tr>\n",
       "    <tr>\n",
       "      <th>303660003</th>\n",
       "      <th>2001</th>\n",
       "      <td>0.0</td>\n",
       "    </tr>\n",
       "    <tr>\n",
       "      <th>303660004</th>\n",
       "      <th>2001</th>\n",
       "      <td>0.0</td>\n",
       "    </tr>\n",
       "    <tr>\n",
       "      <th>303660011</th>\n",
       "      <th>2001</th>\n",
       "      <td>0.0</td>\n",
       "    </tr>\n",
       "  </tbody>\n",
       "</table>\n",
       "</div>"
      ],
      "text/plain": [
       "                nightTimeMeanTemp\n",
       "G04c_001  year                   \n",
       "303660001 2001                0.0\n",
       "303660002 2001                0.0\n",
       "303660003 2001                0.0\n",
       "303660004 2001                0.0\n",
       "303660011 2001                0.0"
      ]
     },
     "execution_count": 162,
     "metadata": {},
     "output_type": "execute_result"
    }
   ],
   "source": [
    "mergeNightTimeTempMeanResult.head()"
   ]
  },
  {
   "cell_type": "code",
   "execution_count": 163,
   "metadata": {},
   "outputs": [
    {
     "data": {
      "text/plain": [
       "746"
      ]
     },
     "execution_count": 163,
     "metadata": {},
     "output_type": "execute_result"
    }
   ],
   "source": [
    "del nightTimeTempMeanResult\n",
    "gc.collect()"
   ]
  },
  {
   "cell_type": "code",
   "execution_count": 164,
   "metadata": {},
   "outputs": [],
   "source": [
    "nightTimeTempStdResult = Parallel(n_jobs=8)(delayed(coordExtractionFromRaster)(aimFolder + \"\\\\temp\\\\\" + str(int(year)) + \"_nighttime_Std_re.tif\", coords_extration, 'nightTimeStdTemp') for year in np.linspace(2001, 2020, 20))"
   ]
  },
  {
   "cell_type": "code",
   "execution_count": 165,
   "metadata": {},
   "outputs": [],
   "source": [
    "mergeNightTimeTempStdResult = mergeParallelDf(nightTimeTempStdResult)\n",
    "mergeNightTimeTempStdResult = pd.DataFrame(mergeNightTimeTempStdResult.drop(columns='geometry'))\n",
    "mergeNightTimeTempStdResult = mergeNightTimeTempStdResult[['G04c_001', 'nightTimeStdTemp', 'year']]\n",
    "mergeNightTimeTempStdResult = mergeNightTimeTempStdResult.set_index(['G04c_001', 'year'])"
   ]
  },
  {
   "cell_type": "code",
   "execution_count": 166,
   "metadata": {},
   "outputs": [
    {
     "data": {
      "text/plain": [
       "(524238, 1)"
      ]
     },
     "execution_count": 166,
     "metadata": {},
     "output_type": "execute_result"
    }
   ],
   "source": [
    "mergeNightTimeTempStdResult[pd.isna(mergeNightTimeTempStdResult['nightTimeStdTemp'])].shape"
   ]
  },
  {
   "cell_type": "code",
   "execution_count": 167,
   "metadata": {},
   "outputs": [],
   "source": [
    "mergeNightTimeTempStdResult['nightTimeStdTemp'] = mergeNightTimeTempStdResult['nightTimeStdTemp'].fillna(0)"
   ]
  },
  {
   "cell_type": "code",
   "execution_count": 168,
   "metadata": {},
   "outputs": [
    {
     "data": {
      "text/html": [
       "<div>\n",
       "<style scoped>\n",
       "    .dataframe tbody tr th:only-of-type {\n",
       "        vertical-align: middle;\n",
       "    }\n",
       "\n",
       "    .dataframe tbody tr th {\n",
       "        vertical-align: top;\n",
       "    }\n",
       "\n",
       "    .dataframe thead th {\n",
       "        text-align: right;\n",
       "    }\n",
       "</style>\n",
       "<table border=\"1\" class=\"dataframe\">\n",
       "  <thead>\n",
       "    <tr style=\"text-align: right;\">\n",
       "      <th></th>\n",
       "      <th></th>\n",
       "      <th>nightTimeStdTemp</th>\n",
       "    </tr>\n",
       "    <tr>\n",
       "      <th>G04c_001</th>\n",
       "      <th>year</th>\n",
       "      <th></th>\n",
       "    </tr>\n",
       "  </thead>\n",
       "  <tbody>\n",
       "    <tr>\n",
       "      <th>303660001</th>\n",
       "      <th>2001</th>\n",
       "      <td>0.0</td>\n",
       "    </tr>\n",
       "    <tr>\n",
       "      <th>303660002</th>\n",
       "      <th>2001</th>\n",
       "      <td>0.0</td>\n",
       "    </tr>\n",
       "    <tr>\n",
       "      <th>303660003</th>\n",
       "      <th>2001</th>\n",
       "      <td>0.0</td>\n",
       "    </tr>\n",
       "    <tr>\n",
       "      <th>303660004</th>\n",
       "      <th>2001</th>\n",
       "      <td>0.0</td>\n",
       "    </tr>\n",
       "    <tr>\n",
       "      <th>303660011</th>\n",
       "      <th>2001</th>\n",
       "      <td>0.0</td>\n",
       "    </tr>\n",
       "  </tbody>\n",
       "</table>\n",
       "</div>"
      ],
      "text/plain": [
       "                nightTimeStdTemp\n",
       "G04c_001  year                  \n",
       "303660001 2001               0.0\n",
       "303660002 2001               0.0\n",
       "303660003 2001               0.0\n",
       "303660004 2001               0.0\n",
       "303660011 2001               0.0"
      ]
     },
     "execution_count": 168,
     "metadata": {},
     "output_type": "execute_result"
    }
   ],
   "source": [
    "mergeNightTimeTempStdResult.head()"
   ]
  },
  {
   "cell_type": "code",
   "execution_count": 169,
   "metadata": {},
   "outputs": [
    {
     "data": {
      "text/plain": [
       "919"
      ]
     },
     "execution_count": 169,
     "metadata": {},
     "output_type": "execute_result"
    }
   ],
   "source": [
    "del nightTimeTempStdResult\n",
    "gc.collect()"
   ]
  },
  {
   "cell_type": "code",
   "execution_count": 170,
   "metadata": {},
   "outputs": [],
   "source": [
    "mergeNightTimeTempResult = pd.concat([mergeNightTimeTempMeanResult, mergeNightTimeTempStdResult], axis=1)"
   ]
  },
  {
   "cell_type": "code",
   "execution_count": 171,
   "metadata": {},
   "outputs": [
    {
     "data": {
      "text/plain": [
       "(31060480, 2)"
      ]
     },
     "execution_count": 171,
     "metadata": {},
     "output_type": "execute_result"
    }
   ],
   "source": [
    "mergeNightTimeTempResult.shape"
   ]
  },
  {
   "cell_type": "code",
   "execution_count": 172,
   "metadata": {},
   "outputs": [
    {
     "data": {
      "text/html": [
       "<div>\n",
       "<style scoped>\n",
       "    .dataframe tbody tr th:only-of-type {\n",
       "        vertical-align: middle;\n",
       "    }\n",
       "\n",
       "    .dataframe tbody tr th {\n",
       "        vertical-align: top;\n",
       "    }\n",
       "\n",
       "    .dataframe thead th {\n",
       "        text-align: right;\n",
       "    }\n",
       "</style>\n",
       "<table border=\"1\" class=\"dataframe\">\n",
       "  <thead>\n",
       "    <tr style=\"text-align: right;\">\n",
       "      <th></th>\n",
       "      <th></th>\n",
       "      <th>nightTimeMeanTemp</th>\n",
       "      <th>nightTimeStdTemp</th>\n",
       "    </tr>\n",
       "    <tr>\n",
       "      <th>G04c_001</th>\n",
       "      <th>year</th>\n",
       "      <th></th>\n",
       "      <th></th>\n",
       "    </tr>\n",
       "  </thead>\n",
       "  <tbody>\n",
       "    <tr>\n",
       "      <th>303660001</th>\n",
       "      <th>2001</th>\n",
       "      <td>0.0</td>\n",
       "      <td>0.0</td>\n",
       "    </tr>\n",
       "    <tr>\n",
       "      <th>303660002</th>\n",
       "      <th>2001</th>\n",
       "      <td>0.0</td>\n",
       "      <td>0.0</td>\n",
       "    </tr>\n",
       "    <tr>\n",
       "      <th>303660003</th>\n",
       "      <th>2001</th>\n",
       "      <td>0.0</td>\n",
       "      <td>0.0</td>\n",
       "    </tr>\n",
       "    <tr>\n",
       "      <th>303660004</th>\n",
       "      <th>2001</th>\n",
       "      <td>0.0</td>\n",
       "      <td>0.0</td>\n",
       "    </tr>\n",
       "    <tr>\n",
       "      <th>303660011</th>\n",
       "      <th>2001</th>\n",
       "      <td>0.0</td>\n",
       "      <td>0.0</td>\n",
       "    </tr>\n",
       "  </tbody>\n",
       "</table>\n",
       "</div>"
      ],
      "text/plain": [
       "                nightTimeMeanTemp  nightTimeStdTemp\n",
       "G04c_001  year                                     \n",
       "303660001 2001                0.0               0.0\n",
       "303660002 2001                0.0               0.0\n",
       "303660003 2001                0.0               0.0\n",
       "303660004 2001                0.0               0.0\n",
       "303660011 2001                0.0               0.0"
      ]
     },
     "execution_count": 172,
     "metadata": {},
     "output_type": "execute_result"
    }
   ],
   "source": [
    "mergeNightTimeTempResult.head()"
   ]
  },
  {
   "cell_type": "code",
   "execution_count": 173,
   "metadata": {},
   "outputs": [],
   "source": [
    "mergeTempResult = pd.concat([mergeDayTimeTempResult, mergeNightTimeTempResult], axis=1)"
   ]
  },
  {
   "cell_type": "code",
   "execution_count": 174,
   "metadata": {},
   "outputs": [
    {
     "data": {
      "text/plain": [
       "(31060480, 4)"
      ]
     },
     "execution_count": 174,
     "metadata": {},
     "output_type": "execute_result"
    }
   ],
   "source": [
    "mergeTempResult.shape"
   ]
  },
  {
   "cell_type": "code",
   "execution_count": 175,
   "metadata": {},
   "outputs": [
    {
     "data": {
      "text/html": [
       "<div>\n",
       "<style scoped>\n",
       "    .dataframe tbody tr th:only-of-type {\n",
       "        vertical-align: middle;\n",
       "    }\n",
       "\n",
       "    .dataframe tbody tr th {\n",
       "        vertical-align: top;\n",
       "    }\n",
       "\n",
       "    .dataframe thead th {\n",
       "        text-align: right;\n",
       "    }\n",
       "</style>\n",
       "<table border=\"1\" class=\"dataframe\">\n",
       "  <thead>\n",
       "    <tr style=\"text-align: right;\">\n",
       "      <th></th>\n",
       "      <th></th>\n",
       "      <th>dayTimeMeanTemp</th>\n",
       "      <th>dayTimeStdTemp</th>\n",
       "      <th>nightTimeMeanTemp</th>\n",
       "      <th>nightTimeStdTemp</th>\n",
       "    </tr>\n",
       "    <tr>\n",
       "      <th>G04c_001</th>\n",
       "      <th>year</th>\n",
       "      <th></th>\n",
       "      <th></th>\n",
       "      <th></th>\n",
       "      <th></th>\n",
       "    </tr>\n",
       "  </thead>\n",
       "  <tbody>\n",
       "    <tr>\n",
       "      <th>303660001</th>\n",
       "      <th>2001</th>\n",
       "      <td>0.0</td>\n",
       "      <td>0.0</td>\n",
       "      <td>0.0</td>\n",
       "      <td>0.0</td>\n",
       "    </tr>\n",
       "    <tr>\n",
       "      <th>303660002</th>\n",
       "      <th>2001</th>\n",
       "      <td>0.0</td>\n",
       "      <td>0.0</td>\n",
       "      <td>0.0</td>\n",
       "      <td>0.0</td>\n",
       "    </tr>\n",
       "    <tr>\n",
       "      <th>303660003</th>\n",
       "      <th>2001</th>\n",
       "      <td>0.0</td>\n",
       "      <td>0.0</td>\n",
       "      <td>0.0</td>\n",
       "      <td>0.0</td>\n",
       "    </tr>\n",
       "    <tr>\n",
       "      <th>303660004</th>\n",
       "      <th>2001</th>\n",
       "      <td>0.0</td>\n",
       "      <td>0.0</td>\n",
       "      <td>0.0</td>\n",
       "      <td>0.0</td>\n",
       "    </tr>\n",
       "    <tr>\n",
       "      <th>303660011</th>\n",
       "      <th>2001</th>\n",
       "      <td>0.0</td>\n",
       "      <td>0.0</td>\n",
       "      <td>0.0</td>\n",
       "      <td>0.0</td>\n",
       "    </tr>\n",
       "  </tbody>\n",
       "</table>\n",
       "</div>"
      ],
      "text/plain": [
       "                dayTimeMeanTemp  dayTimeStdTemp  nightTimeMeanTemp  \\\n",
       "G04c_001  year                                                       \n",
       "303660001 2001              0.0             0.0                0.0   \n",
       "303660002 2001              0.0             0.0                0.0   \n",
       "303660003 2001              0.0             0.0                0.0   \n",
       "303660004 2001              0.0             0.0                0.0   \n",
       "303660011 2001              0.0             0.0                0.0   \n",
       "\n",
       "                nightTimeStdTemp  \n",
       "G04c_001  year                    \n",
       "303660001 2001               0.0  \n",
       "303660002 2001               0.0  \n",
       "303660003 2001               0.0  \n",
       "303660004 2001               0.0  \n",
       "303660011 2001               0.0  "
      ]
     },
     "execution_count": 175,
     "metadata": {},
     "output_type": "execute_result"
    }
   ],
   "source": [
    "mergeTempResult.head()"
   ]
  },
  {
   "cell_type": "code",
   "execution_count": 176,
   "metadata": {},
   "outputs": [
    {
     "data": {
      "text/plain": [
       "75"
      ]
     },
     "execution_count": 176,
     "metadata": {},
     "output_type": "execute_result"
    }
   ],
   "source": [
    "del mergeNightTimeTempMeanResult\n",
    "del mergeNightTimeTempStdResult\n",
    "gc.collect()"
   ]
  },
  {
   "cell_type": "code",
   "execution_count": 177,
   "metadata": {},
   "outputs": [
    {
     "data": {
      "text/plain": [
       "25"
      ]
     },
     "execution_count": 177,
     "metadata": {},
     "output_type": "execute_result"
    }
   ],
   "source": [
    "del mergeDayTimeTempResult\n",
    "del mergeNightTimeTempResult\n",
    "gc.collect()"
   ]
  },
  {
   "cell_type": "code",
   "execution_count": 178,
   "metadata": {},
   "outputs": [
    {
     "data": {
      "text/html": [
       "<div>\n",
       "<style scoped>\n",
       "    .dataframe tbody tr th:only-of-type {\n",
       "        vertical-align: middle;\n",
       "    }\n",
       "\n",
       "    .dataframe tbody tr th {\n",
       "        vertical-align: top;\n",
       "    }\n",
       "\n",
       "    .dataframe thead th {\n",
       "        text-align: right;\n",
       "    }\n",
       "</style>\n",
       "<table border=\"1\" class=\"dataframe\">\n",
       "  <thead>\n",
       "    <tr style=\"text-align: right;\">\n",
       "      <th></th>\n",
       "      <th></th>\n",
       "      <th>dayTimeMeanTemp</th>\n",
       "      <th>dayTimeStdTemp</th>\n",
       "      <th>nightTimeMeanTemp</th>\n",
       "      <th>nightTimeStdTemp</th>\n",
       "    </tr>\n",
       "    <tr>\n",
       "      <th>G04c_001</th>\n",
       "      <th>year</th>\n",
       "      <th></th>\n",
       "      <th></th>\n",
       "      <th></th>\n",
       "      <th></th>\n",
       "    </tr>\n",
       "  </thead>\n",
       "  <tbody>\n",
       "    <tr>\n",
       "      <th>303660001</th>\n",
       "      <th>2001</th>\n",
       "      <td>0.0</td>\n",
       "      <td>0.0</td>\n",
       "      <td>0.0</td>\n",
       "      <td>0.0</td>\n",
       "    </tr>\n",
       "    <tr>\n",
       "      <th>303660002</th>\n",
       "      <th>2001</th>\n",
       "      <td>0.0</td>\n",
       "      <td>0.0</td>\n",
       "      <td>0.0</td>\n",
       "      <td>0.0</td>\n",
       "    </tr>\n",
       "    <tr>\n",
       "      <th>303660003</th>\n",
       "      <th>2001</th>\n",
       "      <td>0.0</td>\n",
       "      <td>0.0</td>\n",
       "      <td>0.0</td>\n",
       "      <td>0.0</td>\n",
       "    </tr>\n",
       "    <tr>\n",
       "      <th>303660004</th>\n",
       "      <th>2001</th>\n",
       "      <td>0.0</td>\n",
       "      <td>0.0</td>\n",
       "      <td>0.0</td>\n",
       "      <td>0.0</td>\n",
       "    </tr>\n",
       "    <tr>\n",
       "      <th>303660011</th>\n",
       "      <th>2001</th>\n",
       "      <td>0.0</td>\n",
       "      <td>0.0</td>\n",
       "      <td>0.0</td>\n",
       "      <td>0.0</td>\n",
       "    </tr>\n",
       "  </tbody>\n",
       "</table>\n",
       "</div>"
      ],
      "text/plain": [
       "                dayTimeMeanTemp  dayTimeStdTemp  nightTimeMeanTemp  \\\n",
       "G04c_001  year                                                       \n",
       "303660001 2001              0.0             0.0                0.0   \n",
       "303660002 2001              0.0             0.0                0.0   \n",
       "303660003 2001              0.0             0.0                0.0   \n",
       "303660004 2001              0.0             0.0                0.0   \n",
       "303660011 2001              0.0             0.0                0.0   \n",
       "\n",
       "                nightTimeStdTemp  \n",
       "G04c_001  year                    \n",
       "303660001 2001               0.0  \n",
       "303660002 2001               0.0  \n",
       "303660003 2001               0.0  \n",
       "303660004 2001               0.0  \n",
       "303660011 2001               0.0  "
      ]
     },
     "execution_count": 178,
     "metadata": {},
     "output_type": "execute_result"
    }
   ],
   "source": [
    "mergeTempResult.head()"
   ]
  },
  {
   "cell_type": "code",
   "execution_count": null,
   "metadata": {},
   "outputs": [],
   "source": []
  },
  {
   "cell_type": "code",
   "execution_count": 197,
   "metadata": {},
   "outputs": [],
   "source": [
    "from IPython import get_ipython\n",
    "get_ipython().magic('reset -sf')"
   ]
  },
  {
   "cell_type": "markdown",
   "metadata": {},
   "source": [
    "# Precipitaiton\n",
    "\n",
    "GPM IMERG Final Precipitation L3 1 month 0.1 degree x 0.1 degree V06 (GPM_3IMERGM)  \n",
    "https://disc.gsfc.nasa.gov/datasets/GPM_3IMERGM_06/summary?keywords=GPM_3IMERGM.06"
   ]
  },
  {
   "cell_type": "code",
   "execution_count": 2,
   "metadata": {},
   "outputs": [],
   "source": [
    "import numpy as np\n",
    "import os\n",
    "from osgeo import gdal\n",
    "import glob\n",
    "import geopandas as gpd\n",
    "import rasterio\n",
    "from osgeo import osr"
   ]
  },
  {
   "cell_type": "code",
   "execution_count": 3,
   "metadata": {},
   "outputs": [],
   "source": [
    "rawFileLocation = \"F:/17_Article/01_Data/11_precipitation/\"\n",
    "\n",
    "#os.mkdir(rawFileLocation + \"/temp\")"
   ]
  },
  {
   "cell_type": "code",
   "execution_count": 208,
   "metadata": {},
   "outputs": [],
   "source": [
    "def precipitationRasterMaking(year, rawFileLocation):\n",
    "    rawFileList = glob.glob(rawFileLocation + \"/3B-MO.MS.MRG.3IMERG.\" + str(year) + \"*.HDF5\")\n",
    "    annualAveragePrecipitation = []\n",
    "    for hdf5File in rawFileList:\n",
    "        hdflayer = gdal.Open(hdf5File, gdal.GA_ReadOnly)\n",
    "        print(hdf5File)\n",
    "        #for line in hdflayer.GetSubDatasets(): print(line)\n",
    "        subhdflayer = hdflayer.GetSubDatasets()[3][0]\n",
    "        rlayer = gdal.Open(subhdflayer, gdal.GA_ReadOnly)\n",
    "        rlayerArray = rlayer.ReadAsArray()\n",
    "        rlayerArray[rlayerArray < 0] = np.nan\n",
    "        annualAveragePrecipitation.append(rlayerArray)\n",
    "        rlayerArray = None\n",
    "    annualAveragePrecipitation = np.nanmean(annualAveragePrecipitation, axis = 0)\n",
    "    print(np.nanmean(annualAveragePrecipitation))   \n",
    "    annualAveragePrecipitation = annualAveragePrecipitation.transpose()\n",
    "    annualAveragePrecipitation = annualAveragePrecipitation[::-1,:]\n",
    "    outputAnnualRasterName = rawFileLocation + \"/temp/\" + str(year) + \"_precipitation_m.tif\"\n",
    "    ncol = annualAveragePrecipitation.shape[1]\n",
    "    nrow = annualAveragePrecipitation.shape[0]\n",
    "    nband = 1\n",
    "    geotransform = (-180.0, 0.1, 0.0, 90.0, 0.0, -0.1)\n",
    "    srs = osr.SpatialReference()\n",
    "    srs.ImportFromEPSG(4326)\n",
    "    spatialreference = srs.ExportToWkt()\n",
    "    # write the tif files\n",
    "    driver = gdal.GetDriverByName(\"GTiff\")\n",
    "    dst_dataset = driver.Create(outputAnnualRasterName, ncol, nrow, nband, gdal.GDT_Float32)\n",
    "    dst_dataset.SetGeoTransform(geotransform)\n",
    "    dst_dataset.SetProjection(spatialreference)\n",
    "    dst_dataset.GetRasterBand(1).WriteArray(annualAveragePrecipitation)\n",
    "    dst_dataset = None\n"
   ]
  },
  {
   "cell_type": "code",
   "execution_count": 210,
   "metadata": {},
   "outputs": [
    {
     "name": "stdout",
     "output_type": "stream",
     "text": [
      "F:/17_Article/01_Data/11_precipitation\\3B-MO.MS.MRG.3IMERG.20010101-S000000-E235959.01.V06B.HDF5\n",
      "F:/17_Article/01_Data/11_precipitation\\3B-MO.MS.MRG.3IMERG.20010201-S000000-E235959.02.V06B.HDF5\n",
      "F:/17_Article/01_Data/11_precipitation\\3B-MO.MS.MRG.3IMERG.20010301-S000000-E235959.03.V06B.HDF5\n",
      "F:/17_Article/01_Data/11_precipitation\\3B-MO.MS.MRG.3IMERG.20010401-S000000-E235959.04.V06B.HDF5\n",
      "F:/17_Article/01_Data/11_precipitation\\3B-MO.MS.MRG.3IMERG.20010501-S000000-E235959.05.V06B.HDF5\n",
      "F:/17_Article/01_Data/11_precipitation\\3B-MO.MS.MRG.3IMERG.20010601-S000000-E235959.06.V06B.HDF5\n",
      "F:/17_Article/01_Data/11_precipitation\\3B-MO.MS.MRG.3IMERG.20010701-S000000-E235959.07.V06B.HDF5\n",
      "F:/17_Article/01_Data/11_precipitation\\3B-MO.MS.MRG.3IMERG.20010801-S000000-E235959.08.V06B.HDF5\n",
      "F:/17_Article/01_Data/11_precipitation\\3B-MO.MS.MRG.3IMERG.20010901-S000000-E235959.09.V06B.HDF5\n",
      "F:/17_Article/01_Data/11_precipitation\\3B-MO.MS.MRG.3IMERG.20011001-S000000-E235959.10.V06B.HDF5\n",
      "F:/17_Article/01_Data/11_precipitation\\3B-MO.MS.MRG.3IMERG.20011101-S000000-E235959.11.V06B.HDF5\n",
      "F:/17_Article/01_Data/11_precipitation\\3B-MO.MS.MRG.3IMERG.20011201-S000000-E235959.12.V06B.HDF5\n"
     ]
    },
    {
     "name": "stderr",
     "output_type": "stream",
     "text": [
      "C:\\Users\\li.chao.987@s.kyushu-u.ac.jp\\AppData\\Local\\Temp\\ipykernel_20320\\1382657533.py:14: RuntimeWarning: Mean of empty slice\n",
      "  annualAveragePrecipitation = np.nanmean(annualAveragePrecipitation, axis = 0)\n"
     ]
    },
    {
     "name": "stdout",
     "output_type": "stream",
     "text": [
      "0.12284192\n",
      "F:/17_Article/01_Data/11_precipitation\\3B-MO.MS.MRG.3IMERG.20020101-S000000-E235959.01.V06B.HDF5\n",
      "F:/17_Article/01_Data/11_precipitation\\3B-MO.MS.MRG.3IMERG.20020201-S000000-E235959.02.V06B.HDF5\n",
      "F:/17_Article/01_Data/11_precipitation\\3B-MO.MS.MRG.3IMERG.20020301-S000000-E235959.03.V06B.HDF5\n",
      "F:/17_Article/01_Data/11_precipitation\\3B-MO.MS.MRG.3IMERG.20020401-S000000-E235959.04.V06B.HDF5\n",
      "F:/17_Article/01_Data/11_precipitation\\3B-MO.MS.MRG.3IMERG.20020501-S000000-E235959.05.V06B.HDF5\n",
      "F:/17_Article/01_Data/11_precipitation\\3B-MO.MS.MRG.3IMERG.20020601-S000000-E235959.06.V06B.HDF5\n",
      "F:/17_Article/01_Data/11_precipitation\\3B-MO.MS.MRG.3IMERG.20020701-S000000-E235959.07.V06B.HDF5\n",
      "F:/17_Article/01_Data/11_precipitation\\3B-MO.MS.MRG.3IMERG.20020801-S000000-E235959.08.V06B.HDF5\n",
      "F:/17_Article/01_Data/11_precipitation\\3B-MO.MS.MRG.3IMERG.20020901-S000000-E235959.09.V06B.HDF5\n",
      "F:/17_Article/01_Data/11_precipitation\\3B-MO.MS.MRG.3IMERG.20021001-S000000-E235959.10.V06B.HDF5\n",
      "F:/17_Article/01_Data/11_precipitation\\3B-MO.MS.MRG.3IMERG.20021101-S000000-E235959.11.V06B.HDF5\n",
      "F:/17_Article/01_Data/11_precipitation\\3B-MO.MS.MRG.3IMERG.20021201-S000000-E235959.12.V06B.HDF5\n",
      "0.12465162\n",
      "F:/17_Article/01_Data/11_precipitation\\3B-MO.MS.MRG.3IMERG.20030101-S000000-E235959.01.V06B.HDF5\n",
      "F:/17_Article/01_Data/11_precipitation\\3B-MO.MS.MRG.3IMERG.20030201-S000000-E235959.02.V06B.HDF5\n",
      "F:/17_Article/01_Data/11_precipitation\\3B-MO.MS.MRG.3IMERG.20030301-S000000-E235959.03.V06B.HDF5\n",
      "F:/17_Article/01_Data/11_precipitation\\3B-MO.MS.MRG.3IMERG.20030401-S000000-E235959.04.V06B.HDF5\n",
      "F:/17_Article/01_Data/11_precipitation\\3B-MO.MS.MRG.3IMERG.20030501-S000000-E235959.05.V06B.HDF5\n",
      "F:/17_Article/01_Data/11_precipitation\\3B-MO.MS.MRG.3IMERG.20030601-S000000-E235959.06.V06B.HDF5\n",
      "F:/17_Article/01_Data/11_precipitation\\3B-MO.MS.MRG.3IMERG.20030701-S000000-E235959.07.V06B.HDF5\n",
      "F:/17_Article/01_Data/11_precipitation\\3B-MO.MS.MRG.3IMERG.20030801-S000000-E235959.08.V06B.HDF5\n",
      "F:/17_Article/01_Data/11_precipitation\\3B-MO.MS.MRG.3IMERG.20030901-S000000-E235959.09.V06B.HDF5\n",
      "F:/17_Article/01_Data/11_precipitation\\3B-MO.MS.MRG.3IMERG.20031001-S000000-E235959.10.V06B.HDF5\n",
      "F:/17_Article/01_Data/11_precipitation\\3B-MO.MS.MRG.3IMERG.20031101-S000000-E235959.11.V06B.HDF5\n",
      "F:/17_Article/01_Data/11_precipitation\\3B-MO.MS.MRG.3IMERG.20031201-S000000-E235959.12.V06B.HDF5\n",
      "0.12322955\n",
      "F:/17_Article/01_Data/11_precipitation\\3B-MO.MS.MRG.3IMERG.20040101-S000000-E235959.01.V06B.HDF5\n",
      "F:/17_Article/01_Data/11_precipitation\\3B-MO.MS.MRG.3IMERG.20040201-S000000-E235959.02.V06B.HDF5\n",
      "F:/17_Article/01_Data/11_precipitation\\3B-MO.MS.MRG.3IMERG.20040301-S000000-E235959.03.V06B.HDF5\n",
      "F:/17_Article/01_Data/11_precipitation\\3B-MO.MS.MRG.3IMERG.20040401-S000000-E235959.04.V06B.HDF5\n",
      "F:/17_Article/01_Data/11_precipitation\\3B-MO.MS.MRG.3IMERG.20040501-S000000-E235959.05.V06B.HDF5\n",
      "F:/17_Article/01_Data/11_precipitation\\3B-MO.MS.MRG.3IMERG.20040601-S000000-E235959.06.V06B.HDF5\n",
      "F:/17_Article/01_Data/11_precipitation\\3B-MO.MS.MRG.3IMERG.20040701-S000000-E235959.07.V06B.HDF5\n",
      "F:/17_Article/01_Data/11_precipitation\\3B-MO.MS.MRG.3IMERG.20040801-S000000-E235959.08.V06B.HDF5\n",
      "F:/17_Article/01_Data/11_precipitation\\3B-MO.MS.MRG.3IMERG.20040901-S000000-E235959.09.V06B.HDF5\n",
      "F:/17_Article/01_Data/11_precipitation\\3B-MO.MS.MRG.3IMERG.20041001-S000000-E235959.10.V06B.HDF5\n",
      "F:/17_Article/01_Data/11_precipitation\\3B-MO.MS.MRG.3IMERG.20041101-S000000-E235959.11.V06B.HDF5\n",
      "F:/17_Article/01_Data/11_precipitation\\3B-MO.MS.MRG.3IMERG.20041201-S000000-E235959.12.V06B.HDF5\n",
      "0.12425842\n",
      "F:/17_Article/01_Data/11_precipitation\\3B-MO.MS.MRG.3IMERG.20050101-S000000-E235959.01.V06B.HDF5\n",
      "F:/17_Article/01_Data/11_precipitation\\3B-MO.MS.MRG.3IMERG.20050201-S000000-E235959.02.V06B.HDF5\n",
      "F:/17_Article/01_Data/11_precipitation\\3B-MO.MS.MRG.3IMERG.20050301-S000000-E235959.03.V06B.HDF5\n",
      "F:/17_Article/01_Data/11_precipitation\\3B-MO.MS.MRG.3IMERG.20050401-S000000-E235959.04.V06B.HDF5\n",
      "F:/17_Article/01_Data/11_precipitation\\3B-MO.MS.MRG.3IMERG.20050501-S000000-E235959.05.V06B.HDF5\n",
      "F:/17_Article/01_Data/11_precipitation\\3B-MO.MS.MRG.3IMERG.20050601-S000000-E235959.06.V06B.HDF5\n",
      "F:/17_Article/01_Data/11_precipitation\\3B-MO.MS.MRG.3IMERG.20050701-S000000-E235959.07.V06B.HDF5\n",
      "F:/17_Article/01_Data/11_precipitation\\3B-MO.MS.MRG.3IMERG.20050801-S000000-E235959.08.V06B.HDF5\n",
      "F:/17_Article/01_Data/11_precipitation\\3B-MO.MS.MRG.3IMERG.20050901-S000000-E235959.09.V06B.HDF5\n",
      "F:/17_Article/01_Data/11_precipitation\\3B-MO.MS.MRG.3IMERG.20051001-S000000-E235959.10.V06B.HDF5\n",
      "F:/17_Article/01_Data/11_precipitation\\3B-MO.MS.MRG.3IMERG.20051101-S000000-E235959.11.V06B.HDF5\n",
      "F:/17_Article/01_Data/11_precipitation\\3B-MO.MS.MRG.3IMERG.20051201-S000000-E235959.12.V06B.HDF5\n",
      "0.12516487\n",
      "F:/17_Article/01_Data/11_precipitation\\3B-MO.MS.MRG.3IMERG.20060101-S000000-E235959.01.V06B.HDF5\n",
      "F:/17_Article/01_Data/11_precipitation\\3B-MO.MS.MRG.3IMERG.20060201-S000000-E235959.02.V06B.HDF5\n",
      "F:/17_Article/01_Data/11_precipitation\\3B-MO.MS.MRG.3IMERG.20060301-S000000-E235959.03.V06B.HDF5\n",
      "F:/17_Article/01_Data/11_precipitation\\3B-MO.MS.MRG.3IMERG.20060401-S000000-E235959.04.V06B.HDF5\n",
      "F:/17_Article/01_Data/11_precipitation\\3B-MO.MS.MRG.3IMERG.20060501-S000000-E235959.05.V06B.HDF5\n",
      "F:/17_Article/01_Data/11_precipitation\\3B-MO.MS.MRG.3IMERG.20060601-S000000-E235959.06.V06B.HDF5\n",
      "F:/17_Article/01_Data/11_precipitation\\3B-MO.MS.MRG.3IMERG.20060701-S000000-E235959.07.V06B.HDF5\n",
      "F:/17_Article/01_Data/11_precipitation\\3B-MO.MS.MRG.3IMERG.20060801-S000000-E235959.08.V06B.HDF5\n",
      "F:/17_Article/01_Data/11_precipitation\\3B-MO.MS.MRG.3IMERG.20060901-S000000-E235959.09.V06B.HDF5\n",
      "F:/17_Article/01_Data/11_precipitation\\3B-MO.MS.MRG.3IMERG.20061001-S000000-E235959.10.V06B.HDF5\n",
      "F:/17_Article/01_Data/11_precipitation\\3B-MO.MS.MRG.3IMERG.20061101-S000000-E235959.11.V06B.HDF5\n",
      "F:/17_Article/01_Data/11_precipitation\\3B-MO.MS.MRG.3IMERG.20061201-S000000-E235959.12.V06B.HDF5\n",
      "0.12456506\n",
      "F:/17_Article/01_Data/11_precipitation\\3B-MO.MS.MRG.3IMERG.20070101-S000000-E235959.01.V06B.HDF5\n",
      "F:/17_Article/01_Data/11_precipitation\\3B-MO.MS.MRG.3IMERG.20070201-S000000-E235959.02.V06B.HDF5\n",
      "F:/17_Article/01_Data/11_precipitation\\3B-MO.MS.MRG.3IMERG.20070301-S000000-E235959.03.V06B.HDF5\n",
      "F:/17_Article/01_Data/11_precipitation\\3B-MO.MS.MRG.3IMERG.20070401-S000000-E235959.04.V06B.HDF5\n",
      "F:/17_Article/01_Data/11_precipitation\\3B-MO.MS.MRG.3IMERG.20070501-S000000-E235959.05.V06B.HDF5\n",
      "F:/17_Article/01_Data/11_precipitation\\3B-MO.MS.MRG.3IMERG.20070601-S000000-E235959.06.V06B.HDF5\n",
      "F:/17_Article/01_Data/11_precipitation\\3B-MO.MS.MRG.3IMERG.20070701-S000000-E235959.07.V06B.HDF5\n",
      "F:/17_Article/01_Data/11_precipitation\\3B-MO.MS.MRG.3IMERG.20070801-S000000-E235959.08.V06B.HDF5\n",
      "F:/17_Article/01_Data/11_precipitation\\3B-MO.MS.MRG.3IMERG.20070901-S000000-E235959.09.V06B.HDF5\n",
      "F:/17_Article/01_Data/11_precipitation\\3B-MO.MS.MRG.3IMERG.20071001-S000000-E235959.10.V06B.HDF5\n",
      "F:/17_Article/01_Data/11_precipitation\\3B-MO.MS.MRG.3IMERG.20071101-S000000-E235959.11.V06B.HDF5\n",
      "F:/17_Article/01_Data/11_precipitation\\3B-MO.MS.MRG.3IMERG.20071201-S000000-E235959.12.V06B.HDF5\n",
      "0.12553771\n",
      "F:/17_Article/01_Data/11_precipitation\\3B-MO.MS.MRG.3IMERG.20080101-S000000-E235959.01.V06B.HDF5\n",
      "F:/17_Article/01_Data/11_precipitation\\3B-MO.MS.MRG.3IMERG.20080201-S000000-E235959.02.V06B.HDF5\n",
      "F:/17_Article/01_Data/11_precipitation\\3B-MO.MS.MRG.3IMERG.20080301-S000000-E235959.03.V06B.HDF5\n",
      "F:/17_Article/01_Data/11_precipitation\\3B-MO.MS.MRG.3IMERG.20080401-S000000-E235959.04.V06B.HDF5\n",
      "F:/17_Article/01_Data/11_precipitation\\3B-MO.MS.MRG.3IMERG.20080501-S000000-E235959.05.V06B.HDF5\n",
      "F:/17_Article/01_Data/11_precipitation\\3B-MO.MS.MRG.3IMERG.20080601-S000000-E235959.06.V06B.HDF5\n",
      "F:/17_Article/01_Data/11_precipitation\\3B-MO.MS.MRG.3IMERG.20080701-S000000-E235959.07.V06B.HDF5\n",
      "F:/17_Article/01_Data/11_precipitation\\3B-MO.MS.MRG.3IMERG.20080801-S000000-E235959.08.V06B.HDF5\n",
      "F:/17_Article/01_Data/11_precipitation\\3B-MO.MS.MRG.3IMERG.20080901-S000000-E235959.09.V06B.HDF5\n",
      "F:/17_Article/01_Data/11_precipitation\\3B-MO.MS.MRG.3IMERG.20081001-S000000-E235959.10.V06B.HDF5\n",
      "F:/17_Article/01_Data/11_precipitation\\3B-MO.MS.MRG.3IMERG.20081101-S000000-E235959.11.V06B.HDF5\n",
      "F:/17_Article/01_Data/11_precipitation\\3B-MO.MS.MRG.3IMERG.20081201-S000000-E235959.12.V06B.HDF5\n",
      "0.125788\n",
      "F:/17_Article/01_Data/11_precipitation\\3B-MO.MS.MRG.3IMERG.20090101-S000000-E235959.01.V06B.HDF5\n",
      "F:/17_Article/01_Data/11_precipitation\\3B-MO.MS.MRG.3IMERG.20090201-S000000-E235959.02.V06B.HDF5\n",
      "F:/17_Article/01_Data/11_precipitation\\3B-MO.MS.MRG.3IMERG.20090301-S000000-E235959.03.V06B.HDF5\n",
      "F:/17_Article/01_Data/11_precipitation\\3B-MO.MS.MRG.3IMERG.20090401-S000000-E235959.04.V06B.HDF5\n",
      "F:/17_Article/01_Data/11_precipitation\\3B-MO.MS.MRG.3IMERG.20090501-S000000-E235959.05.V06B.HDF5\n",
      "F:/17_Article/01_Data/11_precipitation\\3B-MO.MS.MRG.3IMERG.20090601-S000000-E235959.06.V06B.HDF5\n",
      "F:/17_Article/01_Data/11_precipitation\\3B-MO.MS.MRG.3IMERG.20090701-S000000-E235959.07.V06B.HDF5\n",
      "F:/17_Article/01_Data/11_precipitation\\3B-MO.MS.MRG.3IMERG.20090801-S000000-E235959.08.V06B.HDF5\n",
      "F:/17_Article/01_Data/11_precipitation\\3B-MO.MS.MRG.3IMERG.20090901-S000000-E235959.09.V06B.HDF5\n",
      "F:/17_Article/01_Data/11_precipitation\\3B-MO.MS.MRG.3IMERG.20091001-S000000-E235959.10.V06B.HDF5\n",
      "F:/17_Article/01_Data/11_precipitation\\3B-MO.MS.MRG.3IMERG.20091101-S000000-E235959.11.V06B.HDF5\n",
      "F:/17_Article/01_Data/11_precipitation\\3B-MO.MS.MRG.3IMERG.20091201-S000000-E235959.12.V06B.HDF5\n",
      "0.12928651\n",
      "F:/17_Article/01_Data/11_precipitation\\3B-MO.MS.MRG.3IMERG.20100101-S000000-E235959.01.V06B.HDF5\n",
      "F:/17_Article/01_Data/11_precipitation\\3B-MO.MS.MRG.3IMERG.20100201-S000000-E235959.02.V06B.HDF5\n",
      "F:/17_Article/01_Data/11_precipitation\\3B-MO.MS.MRG.3IMERG.20100301-S000000-E235959.03.V06B.HDF5\n",
      "F:/17_Article/01_Data/11_precipitation\\3B-MO.MS.MRG.3IMERG.20100401-S000000-E235959.04.V06B.HDF5\n",
      "F:/17_Article/01_Data/11_precipitation\\3B-MO.MS.MRG.3IMERG.20100501-S000000-E235959.05.V06B.HDF5\n",
      "F:/17_Article/01_Data/11_precipitation\\3B-MO.MS.MRG.3IMERG.20100601-S000000-E235959.06.V06B.HDF5\n",
      "F:/17_Article/01_Data/11_precipitation\\3B-MO.MS.MRG.3IMERG.20100701-S000000-E235959.07.V06B.HDF5\n",
      "F:/17_Article/01_Data/11_precipitation\\3B-MO.MS.MRG.3IMERG.20100801-S000000-E235959.08.V06B.HDF5\n",
      "F:/17_Article/01_Data/11_precipitation\\3B-MO.MS.MRG.3IMERG.20100901-S000000-E235959.09.V06B.HDF5\n",
      "F:/17_Article/01_Data/11_precipitation\\3B-MO.MS.MRG.3IMERG.20101001-S000000-E235959.10.V06B.HDF5\n",
      "F:/17_Article/01_Data/11_precipitation\\3B-MO.MS.MRG.3IMERG.20101101-S000000-E235959.11.V06B.HDF5\n",
      "F:/17_Article/01_Data/11_precipitation\\3B-MO.MS.MRG.3IMERG.20101201-S000000-E235959.12.V06B.HDF5\n",
      "0.12819068\n",
      "F:/17_Article/01_Data/11_precipitation\\3B-MO.MS.MRG.3IMERG.20110101-S000000-E235959.01.V06B.HDF5\n",
      "F:/17_Article/01_Data/11_precipitation\\3B-MO.MS.MRG.3IMERG.20110201-S000000-E235959.02.V06B.HDF5\n",
      "F:/17_Article/01_Data/11_precipitation\\3B-MO.MS.MRG.3IMERG.20110301-S000000-E235959.03.V06B.HDF5\n",
      "F:/17_Article/01_Data/11_precipitation\\3B-MO.MS.MRG.3IMERG.20110401-S000000-E235959.04.V06B.HDF5\n",
      "F:/17_Article/01_Data/11_precipitation\\3B-MO.MS.MRG.3IMERG.20110501-S000000-E235959.05.V06B.HDF5\n",
      "F:/17_Article/01_Data/11_precipitation\\3B-MO.MS.MRG.3IMERG.20110601-S000000-E235959.06.V06B.HDF5\n",
      "F:/17_Article/01_Data/11_precipitation\\3B-MO.MS.MRG.3IMERG.20110701-S000000-E235959.07.V06B.HDF5\n",
      "F:/17_Article/01_Data/11_precipitation\\3B-MO.MS.MRG.3IMERG.20110801-S000000-E235959.08.V06B.HDF5\n",
      "F:/17_Article/01_Data/11_precipitation\\3B-MO.MS.MRG.3IMERG.20110901-S000000-E235959.09.V06B.HDF5\n",
      "F:/17_Article/01_Data/11_precipitation\\3B-MO.MS.MRG.3IMERG.20111001-S000000-E235959.10.V06B.HDF5\n",
      "F:/17_Article/01_Data/11_precipitation\\3B-MO.MS.MRG.3IMERG.20111101-S000000-E235959.11.V06B.HDF5\n",
      "F:/17_Article/01_Data/11_precipitation\\3B-MO.MS.MRG.3IMERG.20111201-S000000-E235959.12.V06B.HDF5\n",
      "0.12715368\n",
      "F:/17_Article/01_Data/11_precipitation\\3B-MO.MS.MRG.3IMERG.20120101-S000000-E235959.01.V06B.HDF5\n",
      "F:/17_Article/01_Data/11_precipitation\\3B-MO.MS.MRG.3IMERG.20120201-S000000-E235959.02.V06B.HDF5\n",
      "F:/17_Article/01_Data/11_precipitation\\3B-MO.MS.MRG.3IMERG.20120301-S000000-E235959.03.V06B.HDF5\n",
      "F:/17_Article/01_Data/11_precipitation\\3B-MO.MS.MRG.3IMERG.20120401-S000000-E235959.04.V06B.HDF5\n",
      "F:/17_Article/01_Data/11_precipitation\\3B-MO.MS.MRG.3IMERG.20120501-S000000-E235959.05.V06B.HDF5\n",
      "F:/17_Article/01_Data/11_precipitation\\3B-MO.MS.MRG.3IMERG.20120601-S000000-E235959.06.V06B.HDF5\n",
      "F:/17_Article/01_Data/11_precipitation\\3B-MO.MS.MRG.3IMERG.20120701-S000000-E235959.07.V06B.HDF5\n",
      "F:/17_Article/01_Data/11_precipitation\\3B-MO.MS.MRG.3IMERG.20120801-S000000-E235959.08.V06B.HDF5\n",
      "F:/17_Article/01_Data/11_precipitation\\3B-MO.MS.MRG.3IMERG.20120901-S000000-E235959.09.V06B.HDF5\n",
      "F:/17_Article/01_Data/11_precipitation\\3B-MO.MS.MRG.3IMERG.20121001-S000000-E235959.10.V06B.HDF5\n",
      "F:/17_Article/01_Data/11_precipitation\\3B-MO.MS.MRG.3IMERG.20121101-S000000-E235959.11.V06B.HDF5\n",
      "F:/17_Article/01_Data/11_precipitation\\3B-MO.MS.MRG.3IMERG.20121201-S000000-E235959.12.V06B.HDF5\n",
      "0.12988101\n",
      "F:/17_Article/01_Data/11_precipitation\\3B-MO.MS.MRG.3IMERG.20130101-S000000-E235959.01.V06B.HDF5\n",
      "F:/17_Article/01_Data/11_precipitation\\3B-MO.MS.MRG.3IMERG.20130201-S000000-E235959.02.V06B.HDF5\n",
      "F:/17_Article/01_Data/11_precipitation\\3B-MO.MS.MRG.3IMERG.20130301-S000000-E235959.03.V06B.HDF5\n",
      "F:/17_Article/01_Data/11_precipitation\\3B-MO.MS.MRG.3IMERG.20130401-S000000-E235959.04.V06B.HDF5\n",
      "F:/17_Article/01_Data/11_precipitation\\3B-MO.MS.MRG.3IMERG.20130501-S000000-E235959.05.V06B.HDF5\n",
      "F:/17_Article/01_Data/11_precipitation\\3B-MO.MS.MRG.3IMERG.20130601-S000000-E235959.06.V06B.HDF5\n",
      "F:/17_Article/01_Data/11_precipitation\\3B-MO.MS.MRG.3IMERG.20130701-S000000-E235959.07.V06B.HDF5\n",
      "F:/17_Article/01_Data/11_precipitation\\3B-MO.MS.MRG.3IMERG.20130801-S000000-E235959.08.V06B.HDF5\n",
      "F:/17_Article/01_Data/11_precipitation\\3B-MO.MS.MRG.3IMERG.20130901-S000000-E235959.09.V06B.HDF5\n",
      "F:/17_Article/01_Data/11_precipitation\\3B-MO.MS.MRG.3IMERG.20131001-S000000-E235959.10.V06B.HDF5\n",
      "F:/17_Article/01_Data/11_precipitation\\3B-MO.MS.MRG.3IMERG.20131101-S000000-E235959.11.V06B.HDF5\n",
      "F:/17_Article/01_Data/11_precipitation\\3B-MO.MS.MRG.3IMERG.20131201-S000000-E235959.12.V06B.HDF5\n",
      "0.13043216\n",
      "F:/17_Article/01_Data/11_precipitation\\3B-MO.MS.MRG.3IMERG.20140101-S000000-E235959.01.V06B.HDF5\n",
      "F:/17_Article/01_Data/11_precipitation\\3B-MO.MS.MRG.3IMERG.20140201-S000000-E235959.02.V06B.HDF5\n",
      "F:/17_Article/01_Data/11_precipitation\\3B-MO.MS.MRG.3IMERG.20140301-S000000-E235959.03.V06B.HDF5\n",
      "F:/17_Article/01_Data/11_precipitation\\3B-MO.MS.MRG.3IMERG.20140401-S000000-E235959.04.V06B.HDF5\n",
      "F:/17_Article/01_Data/11_precipitation\\3B-MO.MS.MRG.3IMERG.20140501-S000000-E235959.05.V06B.HDF5\n",
      "F:/17_Article/01_Data/11_precipitation\\3B-MO.MS.MRG.3IMERG.20140601-S000000-E235959.06.V06B.HDF5\n",
      "F:/17_Article/01_Data/11_precipitation\\3B-MO.MS.MRG.3IMERG.20140701-S000000-E235959.07.V06B.HDF5\n",
      "F:/17_Article/01_Data/11_precipitation\\3B-MO.MS.MRG.3IMERG.20140801-S000000-E235959.08.V06B.HDF5\n",
      "F:/17_Article/01_Data/11_precipitation\\3B-MO.MS.MRG.3IMERG.20140901-S000000-E235959.09.V06B.HDF5\n",
      "F:/17_Article/01_Data/11_precipitation\\3B-MO.MS.MRG.3IMERG.20141001-S000000-E235959.10.V06B.HDF5\n",
      "F:/17_Article/01_Data/11_precipitation\\3B-MO.MS.MRG.3IMERG.20141101-S000000-E235959.11.V06B.HDF5\n",
      "F:/17_Article/01_Data/11_precipitation\\3B-MO.MS.MRG.3IMERG.20141201-S000000-E235959.12.V06B.HDF5\n",
      "0.1281041\n",
      "F:/17_Article/01_Data/11_precipitation\\3B-MO.MS.MRG.3IMERG.20150101-S000000-E235959.01.V06B.HDF5\n",
      "F:/17_Article/01_Data/11_precipitation\\3B-MO.MS.MRG.3IMERG.20150201-S000000-E235959.02.V06B.HDF5\n",
      "F:/17_Article/01_Data/11_precipitation\\3B-MO.MS.MRG.3IMERG.20150301-S000000-E235959.03.V06B.HDF5\n",
      "F:/17_Article/01_Data/11_precipitation\\3B-MO.MS.MRG.3IMERG.20150401-S000000-E235959.04.V06B.HDF5\n",
      "F:/17_Article/01_Data/11_precipitation\\3B-MO.MS.MRG.3IMERG.20150501-S000000-E235959.05.V06B.HDF5\n",
      "F:/17_Article/01_Data/11_precipitation\\3B-MO.MS.MRG.3IMERG.20150601-S000000-E235959.06.V06B.HDF5\n",
      "F:/17_Article/01_Data/11_precipitation\\3B-MO.MS.MRG.3IMERG.20150701-S000000-E235959.07.V06B.HDF5\n",
      "F:/17_Article/01_Data/11_precipitation\\3B-MO.MS.MRG.3IMERG.20150801-S000000-E235959.08.V06B.HDF5\n",
      "F:/17_Article/01_Data/11_precipitation\\3B-MO.MS.MRG.3IMERG.20150901-S000000-E235959.09.V06B.HDF5\n",
      "F:/17_Article/01_Data/11_precipitation\\3B-MO.MS.MRG.3IMERG.20151001-S000000-E235959.10.V06B.HDF5\n",
      "F:/17_Article/01_Data/11_precipitation\\3B-MO.MS.MRG.3IMERG.20151101-S000000-E235959.11.V06B.HDF5\n",
      "F:/17_Article/01_Data/11_precipitation\\3B-MO.MS.MRG.3IMERG.20151201-S000000-E235959.12.V06B.HDF5\n",
      "0.12346084\n",
      "F:/17_Article/01_Data/11_precipitation\\3B-MO.MS.MRG.3IMERG.20160101-S000000-E235959.01.V06B.HDF5\n",
      "F:/17_Article/01_Data/11_precipitation\\3B-MO.MS.MRG.3IMERG.20160201-S000000-E235959.02.V06B.HDF5\n",
      "F:/17_Article/01_Data/11_precipitation\\3B-MO.MS.MRG.3IMERG.20160301-S000000-E235959.03.V06B.HDF5\n",
      "F:/17_Article/01_Data/11_precipitation\\3B-MO.MS.MRG.3IMERG.20160401-S000000-E235959.04.V06B.HDF5\n",
      "F:/17_Article/01_Data/11_precipitation\\3B-MO.MS.MRG.3IMERG.20160501-S000000-E235959.05.V06B.HDF5\n",
      "F:/17_Article/01_Data/11_precipitation\\3B-MO.MS.MRG.3IMERG.20160601-S000000-E235959.06.V06B.HDF5\n",
      "F:/17_Article/01_Data/11_precipitation\\3B-MO.MS.MRG.3IMERG.20160701-S000000-E235959.07.V06B.HDF5\n",
      "F:/17_Article/01_Data/11_precipitation\\3B-MO.MS.MRG.3IMERG.20160801-S000000-E235959.08.V06B.HDF5\n",
      "F:/17_Article/01_Data/11_precipitation\\3B-MO.MS.MRG.3IMERG.20160901-S000000-E235959.09.V06B.HDF5\n",
      "F:/17_Article/01_Data/11_precipitation\\3B-MO.MS.MRG.3IMERG.20161001-S000000-E235959.10.V06B.HDF5\n",
      "F:/17_Article/01_Data/11_precipitation\\3B-MO.MS.MRG.3IMERG.20161101-S000000-E235959.11.V06B.HDF5\n",
      "F:/17_Article/01_Data/11_precipitation\\3B-MO.MS.MRG.3IMERG.20161201-S000000-E235959.12.V06B.HDF5\n",
      "0.124139905\n",
      "F:/17_Article/01_Data/11_precipitation\\3B-MO.MS.MRG.3IMERG.20170101-S000000-E235959.01.V06B.HDF5\n",
      "F:/17_Article/01_Data/11_precipitation\\3B-MO.MS.MRG.3IMERG.20170201-S000000-E235959.02.V06B.HDF5\n",
      "F:/17_Article/01_Data/11_precipitation\\3B-MO.MS.MRG.3IMERG.20170301-S000000-E235959.03.V06B.HDF5\n",
      "F:/17_Article/01_Data/11_precipitation\\3B-MO.MS.MRG.3IMERG.20170401-S000000-E235959.04.V06B.HDF5\n",
      "F:/17_Article/01_Data/11_precipitation\\3B-MO.MS.MRG.3IMERG.20170501-S000000-E235959.05.V06B.HDF5\n",
      "F:/17_Article/01_Data/11_precipitation\\3B-MO.MS.MRG.3IMERG.20170601-S000000-E235959.06.V06B.HDF5\n",
      "F:/17_Article/01_Data/11_precipitation\\3B-MO.MS.MRG.3IMERG.20170701-S000000-E235959.07.V06B.HDF5\n",
      "F:/17_Article/01_Data/11_precipitation\\3B-MO.MS.MRG.3IMERG.20170801-S000000-E235959.08.V06B.HDF5\n",
      "F:/17_Article/01_Data/11_precipitation\\3B-MO.MS.MRG.3IMERG.20170901-S000000-E235959.09.V06B.HDF5\n",
      "F:/17_Article/01_Data/11_precipitation\\3B-MO.MS.MRG.3IMERG.20171001-S000000-E235959.10.V06B.HDF5\n",
      "F:/17_Article/01_Data/11_precipitation\\3B-MO.MS.MRG.3IMERG.20171101-S000000-E235959.11.V06B.HDF5\n",
      "F:/17_Article/01_Data/11_precipitation\\3B-MO.MS.MRG.3IMERG.20171201-S000000-E235959.12.V06B.HDF5\n",
      "0.12232903\n",
      "F:/17_Article/01_Data/11_precipitation\\3B-MO.MS.MRG.3IMERG.20180101-S000000-E235959.01.V06B.HDF5\n",
      "F:/17_Article/01_Data/11_precipitation\\3B-MO.MS.MRG.3IMERG.20180201-S000000-E235959.02.V06B.HDF5\n",
      "F:/17_Article/01_Data/11_precipitation\\3B-MO.MS.MRG.3IMERG.20180301-S000000-E235959.03.V06B.HDF5\n",
      "F:/17_Article/01_Data/11_precipitation\\3B-MO.MS.MRG.3IMERG.20180401-S000000-E235959.04.V06B.HDF5\n",
      "F:/17_Article/01_Data/11_precipitation\\3B-MO.MS.MRG.3IMERG.20180501-S000000-E235959.05.V06B.HDF5\n",
      "F:/17_Article/01_Data/11_precipitation\\3B-MO.MS.MRG.3IMERG.20180601-S000000-E235959.06.V06B.HDF5\n",
      "F:/17_Article/01_Data/11_precipitation\\3B-MO.MS.MRG.3IMERG.20180701-S000000-E235959.07.V06B.HDF5\n",
      "F:/17_Article/01_Data/11_precipitation\\3B-MO.MS.MRG.3IMERG.20180801-S000000-E235959.08.V06B.HDF5\n",
      "F:/17_Article/01_Data/11_precipitation\\3B-MO.MS.MRG.3IMERG.20180901-S000000-E235959.09.V06B.HDF5\n",
      "F:/17_Article/01_Data/11_precipitation\\3B-MO.MS.MRG.3IMERG.20181001-S000000-E235959.10.V06B.HDF5\n",
      "F:/17_Article/01_Data/11_precipitation\\3B-MO.MS.MRG.3IMERG.20181101-S000000-E235959.11.V06B.HDF5\n",
      "F:/17_Article/01_Data/11_precipitation\\3B-MO.MS.MRG.3IMERG.20181201-S000000-E235959.12.V06B.HDF5\n",
      "0.12167342\n",
      "F:/17_Article/01_Data/11_precipitation\\3B-MO.MS.MRG.3IMERG.20190101-S000000-E235959.01.V06B.HDF5\n",
      "F:/17_Article/01_Data/11_precipitation\\3B-MO.MS.MRG.3IMERG.20190201-S000000-E235959.02.V06B.HDF5\n",
      "F:/17_Article/01_Data/11_precipitation\\3B-MO.MS.MRG.3IMERG.20190301-S000000-E235959.03.V06B.HDF5\n",
      "F:/17_Article/01_Data/11_precipitation\\3B-MO.MS.MRG.3IMERG.20190401-S000000-E235959.04.V06B.HDF5\n",
      "F:/17_Article/01_Data/11_precipitation\\3B-MO.MS.MRG.3IMERG.20190501-S000000-E235959.05.V06B.HDF5\n",
      "F:/17_Article/01_Data/11_precipitation\\3B-MO.MS.MRG.3IMERG.20190601-S000000-E235959.06.V06B.HDF5\n",
      "F:/17_Article/01_Data/11_precipitation\\3B-MO.MS.MRG.3IMERG.20190701-S000000-E235959.07.V06B.HDF5\n",
      "F:/17_Article/01_Data/11_precipitation\\3B-MO.MS.MRG.3IMERG.20190801-S000000-E235959.08.V06B.HDF5\n",
      "F:/17_Article/01_Data/11_precipitation\\3B-MO.MS.MRG.3IMERG.20190901-S000000-E235959.09.V06B.HDF5\n",
      "F:/17_Article/01_Data/11_precipitation\\3B-MO.MS.MRG.3IMERG.20191001-S000000-E235959.10.V06B.HDF5\n",
      "F:/17_Article/01_Data/11_precipitation\\3B-MO.MS.MRG.3IMERG.20191101-S000000-E235959.11.V06B.HDF5\n",
      "F:/17_Article/01_Data/11_precipitation\\3B-MO.MS.MRG.3IMERG.20191201-S000000-E235959.12.V06B.HDF5\n",
      "0.120177045\n",
      "F:/17_Article/01_Data/11_precipitation\\3B-MO.MS.MRG.3IMERG.20200101-S000000-E235959.01.V06B.HDF5\n",
      "F:/17_Article/01_Data/11_precipitation\\3B-MO.MS.MRG.3IMERG.20200201-S000000-E235959.02.V06B.HDF5\n",
      "F:/17_Article/01_Data/11_precipitation\\3B-MO.MS.MRG.3IMERG.20200301-S000000-E235959.03.V06B.HDF5\n",
      "F:/17_Article/01_Data/11_precipitation\\3B-MO.MS.MRG.3IMERG.20200401-S000000-E235959.04.V06B.HDF5\n",
      "F:/17_Article/01_Data/11_precipitation\\3B-MO.MS.MRG.3IMERG.20200501-S000000-E235959.05.V06B.HDF5\n",
      "F:/17_Article/01_Data/11_precipitation\\3B-MO.MS.MRG.3IMERG.20200601-S000000-E235959.06.V06B.HDF5\n",
      "F:/17_Article/01_Data/11_precipitation\\3B-MO.MS.MRG.3IMERG.20200701-S000000-E235959.07.V06B.HDF5\n",
      "F:/17_Article/01_Data/11_precipitation\\3B-MO.MS.MRG.3IMERG.20200801-S000000-E235959.08.V06B.HDF5\n",
      "F:/17_Article/01_Data/11_precipitation\\3B-MO.MS.MRG.3IMERG.20200901-S000000-E235959.09.V06B.HDF5\n",
      "F:/17_Article/01_Data/11_precipitation\\3B-MO.MS.MRG.3IMERG.20201001-S000000-E235959.10.V06B.HDF5\n",
      "F:/17_Article/01_Data/11_precipitation\\3B-MO.MS.MRG.3IMERG.20201101-S000000-E235959.11.V06B.HDF5\n",
      "F:/17_Article/01_Data/11_precipitation\\3B-MO.MS.MRG.3IMERG.20201201-S000000-E235959.12.V06B.HDF5\n",
      "0.11867969\n"
     ]
    }
   ],
   "source": [
    "from joblib import Parallel, delayed\n",
    "#Parallel(n_jobs=1)(delayed(precipitationRasterMaking)(int(year), rawFileLocation) for year in np.linspace(2001, 2020, 20))\n",
    "for year in np.linspace(2001, 2020, 20): \n",
    "    precipitationRasterMaking(int(year), rawFileLocation)"
   ]
  },
  {
   "cell_type": "code",
   "execution_count": 4,
   "metadata": {},
   "outputs": [],
   "source": [
    "def coordExtractionFromRaster(RasterName, GeoPandasDataFrame, NewColumnName):\n",
    "    rasterFile = rasterio.open(RasterName)\n",
    "    coords_extration = GeoPandasDataFrame.copy()\n",
    "    rasterArray = rasterFile.read(1)\n",
    "    \n",
    "    valueArray = []\n",
    "    for point in coords_extration['geometry']:\n",
    "        x = point.xy[0][0]\n",
    "        y = point.xy[1][0]\n",
    "        row, col = rasterFile.index(x, y)\n",
    "        valueArray.append(rasterArray[row, col])\n",
    "        \n",
    "    valueArray = np.array(valueArray)\n",
    "    coords_extration[NewColumnName] = valueArray\n",
    "    rasterFile = None\n",
    "    return coords_extration"
   ]
  },
  {
   "cell_type": "code",
   "execution_count": 5,
   "metadata": {},
   "outputs": [],
   "source": [
    "from joblib import Parallel, delayed\n",
    "import multiprocessing\n",
    "import numpy as np\n",
    "import glob\n",
    "\n",
    "coords_extration = gpd.read_file(\"F:/17_Article/01_Data/00_mesh/Mesh500/mergedPointMesh500m.shp\")\n",
    "precipitationMeanResult = Parallel(n_jobs=4)(delayed(coordExtractionFromRaster)(rawFileLocation + \"\\\\temp\\\\\" + str(int(year)) + \"_precipitation_m.tif\", coords_extration, 'annualPrecipitation') for year in np.linspace(2001, 2020, 20))"
   ]
  },
  {
   "cell_type": "code",
   "execution_count": null,
   "metadata": {},
   "outputs": [],
   "source": [
    "def mergeParallelDf(DF):\n",
    "    singleDF_0 = DF[0]\n",
    "    singleDF_1 = DF[1]\n",
    "    singleDF_2 = DF[2]\n",
    "    singleDF_3 = DF[3]\n",
    "    singleDF_4 = DF[4]\n",
    "    singleDF_5 = DF[5]\n",
    "    singleDF_6 = DF[6]\n",
    "    singleDF_7 = DF[7]\n",
    "    singleDF_8 = DF[8]\n",
    "    singleDF_9 = DF[9]\n",
    "    singleDF_10 = DF[10]\n",
    "    singleDF_11 = DF[11]\n",
    "    singleDF_12 = DF[12]\n",
    "    singleDF_13 = DF[13]\n",
    "    singleDF_14 = DF[14]\n",
    "    singleDF_15 = DF[15]\n",
    "    singleDF_16 = DF[16]\n",
    "    singleDF_17 = DF[17]\n",
    "    singleDF_18 = DF[18]\n",
    "    singleDF_19 = DF[19]\n",
    "\n",
    "    singleDF_0['year'] = 2001\n",
    "    singleDF_1['year'] = 2002 \n",
    "    singleDF_2['year'] = 2003 \n",
    "    singleDF_3['year'] = 2004 \n",
    "    singleDF_4['year'] = 2005 \n",
    "    singleDF_5['year'] = 2006 \n",
    "    singleDF_6['year'] = 2007 \n",
    "    singleDF_7['year'] = 2008 \n",
    "    singleDF_8['year'] = 2009 \n",
    "    singleDF_9['year'] = 2010 \n",
    "    singleDF_10['year'] = 2011\n",
    "    singleDF_11['year'] = 2012 \n",
    "    singleDF_12['year'] = 2013 \n",
    "    singleDF_13['year'] = 2014 \n",
    "    singleDF_14['year'] = 2015 \n",
    "    singleDF_15['year'] = 2016 \n",
    "    singleDF_16['year'] = 2017 \n",
    "    singleDF_17['year'] = 2018 \n",
    "    singleDF_18['year'] = 2019 \n",
    "    singleDF_19['year'] = 2020\n",
    "\n",
    "    mergeDF = pd.concat([\n",
    "        singleDF_0, singleDF_1, singleDF_2, singleDF_3, singleDF_4, singleDF_5, singleDF_6, singleDF_7, singleDF_8, singleDF_9,\n",
    "        singleDF_10, singleDF_11, singleDF_12, singleDF_13, singleDF_14, singleDF_15, singleDF_16, singleDF_17, singleDF_18, singleDF_19\n",
    "    ])\n",
    "\n",
    "    return mergeDF"
   ]
  },
  {
   "cell_type": "code",
   "execution_count": null,
   "metadata": {},
   "outputs": [],
   "source": [
    "mergePrecipitationMeanResult = mergeParallelDf(precipitationMeanResult)\n",
    "mergePrecipitationMeanResult = pd.DataFrame(mergePrecipitationMeanResult.drop(columns='geometry'))\n",
    "mergePrecipitationMeanResult = mergePrecipitationMeanResult[['G04c_001', 'annualPrecipitation', 'year']]\n",
    "mergePrecipitationMeanResult = mergePrecipitationMeanResult.set_index(['G04c_001', 'year'])"
   ]
  },
  {
   "cell_type": "code",
   "execution_count": 1,
   "metadata": {},
   "outputs": [
    {
     "ename": "NameError",
     "evalue": "name 'mergePrecipitationMeanResult' is not defined",
     "output_type": "error",
     "traceback": [
      "\u001b[1;31m---------------------------------------------------------------------------\u001b[0m",
      "\u001b[1;31mNameError\u001b[0m                                 Traceback (most recent call last)",
      "\u001b[1;32m~\\AppData\\Local\\Temp\\ipykernel_4780\\798166114.py\u001b[0m in \u001b[0;36m<cell line: 1>\u001b[1;34m()\u001b[0m\n\u001b[1;32m----> 1\u001b[1;33m \u001b[0mmergePrecipitationMeanResult\u001b[0m \u001b[1;33m[\u001b[0m\u001b[0mpd\u001b[0m\u001b[1;33m.\u001b[0m\u001b[0misna\u001b[0m\u001b[1;33m(\u001b[0m\u001b[0mmergePrecipitationMeanResult\u001b[0m\u001b[1;33m[\u001b[0m\u001b[1;34m'annualPrecipitation'\u001b[0m\u001b[1;33m]\u001b[0m\u001b[1;33m)\u001b[0m\u001b[1;33m]\u001b[0m\u001b[1;33m.\u001b[0m\u001b[0mshape\u001b[0m\u001b[1;33m\u001b[0m\u001b[1;33m\u001b[0m\u001b[0m\n\u001b[0m",
      "\u001b[1;31mNameError\u001b[0m: name 'mergePrecipitationMeanResult' is not defined"
     ]
    }
   ],
   "source": [
    "mergePrecipitationMeanResult [pd.isna(mergePrecipitationMeanResult['annualPrecipitation'])].shape"
   ]
  },
  {
   "cell_type": "code",
   "execution_count": null,
   "metadata": {},
   "outputs": [],
   "source": [
    "mergePrecipitationMeanResult['annualPrecipitation'] = mergePrecipitationMeanResult['annualPrecipitation'].fillna(0)"
   ]
  },
  {
   "cell_type": "code",
   "execution_count": null,
   "metadata": {},
   "outputs": [],
   "source": [
    "mergePrecipitationMeanResult [pd.isna(mergePrecipitationMeanResult['annualPrecipitation'])].shape"
   ]
  },
  {
   "cell_type": "code",
   "execution_count": null,
   "metadata": {},
   "outputs": [],
   "source": []
  },
  {
   "cell_type": "code",
   "execution_count": null,
   "metadata": {},
   "outputs": [],
   "source": []
  },
  {
   "cell_type": "code",
   "execution_count": null,
   "metadata": {},
   "outputs": [],
   "source": []
  },
  {
   "cell_type": "markdown",
   "metadata": {},
   "source": [
    "# Merge and Save Out\n",
    "now includes longNtlResult and longNppResult"
   ]
  },
  {
   "cell_type": "code",
   "execution_count": 188,
   "metadata": {},
   "outputs": [],
   "source": [
    "longFinalDf = pd.concat([longNtlDF, longNppDF], axis=1)"
   ]
  },
  {
   "cell_type": "code",
   "execution_count": 193,
   "metadata": {},
   "outputs": [],
   "source": [
    "longFinalDf[\"NPP\"] = longFinalDf[\"NPP\"].fillna(0)"
   ]
  },
  {
   "cell_type": "code",
   "execution_count": 194,
   "metadata": {},
   "outputs": [],
   "source": [
    "longFinalDf = pd.concat([longFinalDf, mergeTempResult], axis=1)"
   ]
  },
  {
   "cell_type": "code",
   "execution_count": 195,
   "metadata": {},
   "outputs": [
    {
     "data": {
      "text/html": [
       "<div>\n",
       "<style scoped>\n",
       "    .dataframe tbody tr th:only-of-type {\n",
       "        vertical-align: middle;\n",
       "    }\n",
       "\n",
       "    .dataframe tbody tr th {\n",
       "        vertical-align: top;\n",
       "    }\n",
       "\n",
       "    .dataframe thead th {\n",
       "        text-align: right;\n",
       "    }\n",
       "</style>\n",
       "<table border=\"1\" class=\"dataframe\">\n",
       "  <thead>\n",
       "    <tr style=\"text-align: right;\">\n",
       "      <th></th>\n",
       "      <th></th>\n",
       "      <th>NTL</th>\n",
       "      <th>NPP</th>\n",
       "      <th>dayTimeMeanTemp</th>\n",
       "      <th>dayTimeStdTemp</th>\n",
       "      <th>nightTimeMeanTemp</th>\n",
       "      <th>nightTimeStdTemp</th>\n",
       "    </tr>\n",
       "    <tr>\n",
       "      <th>G04c_001</th>\n",
       "      <th>year</th>\n",
       "      <th></th>\n",
       "      <th></th>\n",
       "      <th></th>\n",
       "      <th></th>\n",
       "      <th></th>\n",
       "      <th></th>\n",
       "    </tr>\n",
       "  </thead>\n",
       "  <tbody>\n",
       "    <tr>\n",
       "      <th>303660001</th>\n",
       "      <th>2001</th>\n",
       "      <td>0.0</td>\n",
       "      <td>0.0</td>\n",
       "      <td>0.0</td>\n",
       "      <td>0.0</td>\n",
       "      <td>0.0</td>\n",
       "      <td>0.0</td>\n",
       "    </tr>\n",
       "    <tr>\n",
       "      <th>303660002</th>\n",
       "      <th>2001</th>\n",
       "      <td>0.0</td>\n",
       "      <td>0.0</td>\n",
       "      <td>0.0</td>\n",
       "      <td>0.0</td>\n",
       "      <td>0.0</td>\n",
       "      <td>0.0</td>\n",
       "    </tr>\n",
       "    <tr>\n",
       "      <th>303660003</th>\n",
       "      <th>2001</th>\n",
       "      <td>0.0</td>\n",
       "      <td>0.0</td>\n",
       "      <td>0.0</td>\n",
       "      <td>0.0</td>\n",
       "      <td>0.0</td>\n",
       "      <td>0.0</td>\n",
       "    </tr>\n",
       "    <tr>\n",
       "      <th>303660004</th>\n",
       "      <th>2001</th>\n",
       "      <td>0.0</td>\n",
       "      <td>0.0</td>\n",
       "      <td>0.0</td>\n",
       "      <td>0.0</td>\n",
       "      <td>0.0</td>\n",
       "      <td>0.0</td>\n",
       "    </tr>\n",
       "    <tr>\n",
       "      <th>303660011</th>\n",
       "      <th>2001</th>\n",
       "      <td>0.0</td>\n",
       "      <td>0.0</td>\n",
       "      <td>0.0</td>\n",
       "      <td>0.0</td>\n",
       "      <td>0.0</td>\n",
       "      <td>0.0</td>\n",
       "    </tr>\n",
       "  </tbody>\n",
       "</table>\n",
       "</div>"
      ],
      "text/plain": [
       "                NTL  NPP  dayTimeMeanTemp  dayTimeStdTemp  nightTimeMeanTemp  \\\n",
       "G04c_001  year                                                                 \n",
       "303660001 2001  0.0  0.0              0.0             0.0                0.0   \n",
       "303660002 2001  0.0  0.0              0.0             0.0                0.0   \n",
       "303660003 2001  0.0  0.0              0.0             0.0                0.0   \n",
       "303660004 2001  0.0  0.0              0.0             0.0                0.0   \n",
       "303660011 2001  0.0  0.0              0.0             0.0                0.0   \n",
       "\n",
       "                nightTimeStdTemp  \n",
       "G04c_001  year                    \n",
       "303660001 2001               0.0  \n",
       "303660002 2001               0.0  \n",
       "303660003 2001               0.0  \n",
       "303660004 2001               0.0  \n",
       "303660011 2001               0.0  "
      ]
     },
     "execution_count": 195,
     "metadata": {},
     "output_type": "execute_result"
    }
   ],
   "source": [
    "longFinalDf.head()"
   ]
  },
  {
   "cell_type": "code",
   "execution_count": 196,
   "metadata": {},
   "outputs": [],
   "source": [
    "longFinalDf.to_pickle(\"F:/17_Article/01_Data/98_20yearPickles/02_NtlNppPrecTemp.pkl\")"
   ]
  },
  {
   "cell_type": "code",
   "execution_count": 180,
   "metadata": {},
   "outputs": [],
   "source": [
    "#longFinalDf = pd.read_pickle(\"F:/17_Article/01_Data/98_20yearPickles/02_NtlNppPrecTemp.pkl\") "
   ]
  },
  {
   "cell_type": "code",
   "execution_count": 171,
   "metadata": {},
   "outputs": [],
   "source": [
    "from IPython import get_ipython\n",
    "get_ipython().magic('reset -sf')"
   ]
  },
  {
   "cell_type": "code",
   "execution_count": null,
   "metadata": {},
   "outputs": [],
   "source": []
  }
 ],
 "metadata": {
  "kernelspec": {
   "display_name": "Python 3 (ipykernel)",
   "language": "python",
   "name": "python3"
  },
  "language_info": {
   "codemirror_mode": {
    "name": "ipython",
    "version": 3
   },
   "file_extension": ".py",
   "mimetype": "text/x-python",
   "name": "python",
   "nbconvert_exporter": "python",
   "pygments_lexer": "ipython3",
   "version": "3.10.4"
  },
  "vscode": {
   "interpreter": {
    "hash": "3fc66252abba36e085bb3ec14543b1917131014ad56a966409ac5ee82f8d6ab9"
   }
  }
 },
 "nbformat": 4,
 "nbformat_minor": 2
}
