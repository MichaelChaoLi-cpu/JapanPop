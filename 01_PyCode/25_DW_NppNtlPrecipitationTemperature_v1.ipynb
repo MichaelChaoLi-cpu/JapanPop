{
 "cells": [
  {
   "cell_type": "markdown",
   "metadata": {},
   "source": [
    "get NPP from MYD MOD17AHGF\n",
    "\n",
    "year: 2001 - 2020\n",
    "\n",
    "Point: Japanese 4rd time Mesh 0.5 km centroid"
   ]
  },
  {
   "cell_type": "markdown",
   "metadata": {},
   "source": [
    "## NNP Extraction\n",
    "Net Primary Productivity"
   ]
  },
  {
   "cell_type": "code",
   "execution_count": 1,
   "metadata": {},
   "outputs": [],
   "source": [
    "import pandas as pd\n",
    "import geopandas as gpd\n",
    "import numpy as np\n",
    "from osgeo import gdal\n",
    "import os\n",
    "import glob\n",
    "import rasterio"
   ]
  },
  {
   "cell_type": "code",
   "execution_count": 6,
   "metadata": {},
   "outputs": [],
   "source": [
    "#year = 2015\n",
    "aimFolder = \"F:/17_Article/01_Data/02_NetPrimaryProductivity\"\n",
    "os.mkdir(aimFolder + \"\\\\temp\")"
   ]
  },
  {
   "cell_type": "code",
   "execution_count": 9,
   "metadata": {},
   "outputs": [],
   "source": [
    "def mergeAndResampleNppRaster(year, aimFolder):\n",
    "    #\"\"\"\n",
    "    #Merge MOD and MYD,\n",
    "    #Resample the raster with 0.004 degrees\n",
    "    #\"\"\"\n",
    "    rasterFile = glob.glob(\"F:/17_Article/01_Data/02_NetPrimaryProductivity/Net_PP_Yearly_500m_v6/Npp/*\"+str(year) +\"_001.tif\")\n",
    "\n",
    "    if year > 2001:\n",
    "        tifflayer_0 = gdal.Open(rasterFile[0], gdal.GA_ReadOnly)\n",
    "        tifflayer_1 = gdal.Open(rasterFile[1], gdal.GA_ReadOnly)\n",
    "\n",
    "        nband = 1\n",
    "        geotransform = tifflayer_0.GetGeoTransform()\n",
    "        spatialreference = tifflayer_0.GetProjection()\n",
    "\n",
    "        tifflayer_0_array = tifflayer_0.ReadAsArray()\n",
    "        tifflayer_0_array = np.array(tifflayer_0_array)\n",
    "        tifflayer_0_array = tifflayer_0_array.astype(float)\n",
    "        tifflayer_0_array[tifflayer_0_array == 65535] = np.nan\n",
    "        tifflayer_0_array[tifflayer_0_array > 32760] = 0\n",
    "\n",
    "        tifflayer_1_array = tifflayer_1.ReadAsArray()\n",
    "        tifflayer_1_array = np.array(tifflayer_1_array)\n",
    "        tifflayer_1_array = tifflayer_1_array.astype(float)\n",
    "        tifflayer_1_array[tifflayer_1_array == 65535] = np.nan\n",
    "        tifflayer_1_array[tifflayer_1_array > 32760] = 0\n",
    "\n",
    "        tifflayer_double_array = np.array([tifflayer_0_array, tifflayer_1_array])\n",
    "        tifflayer_mean_array = np.nanmean(tifflayer_double_array, axis = 0)\n",
    "    else:\n",
    "        tifflayer_0 = gdal.Open(rasterFile[0], gdal.GA_ReadOnly)\n",
    "\n",
    "        nband = 1\n",
    "        geotransform = tifflayer_0.GetGeoTransform()\n",
    "        spatialreference = tifflayer_0.GetProjection()\n",
    "\n",
    "        tifflayer_0_array = tifflayer_0.ReadAsArray()\n",
    "        tifflayer_0_array = np.array(tifflayer_0_array)\n",
    "        tifflayer_0_array = tifflayer_0_array.astype(float)\n",
    "        tifflayer_0_array[tifflayer_0_array == 65535] = np.nan\n",
    "        tifflayer_0_array[tifflayer_0_array > 32760] = 0\n",
    "        tifflayer_mean_array = tifflayer_0_array \n",
    "\n",
    "\n",
    "    ncol = tifflayer_mean_array.shape[1]\n",
    "    nrow = tifflayer_mean_array.shape[0]\n",
    "\n",
    "    temp_file = aimFolder + \"/temp/temp_file_\" + str(year) + \".tif\"\n",
    "\n",
    "    driver = gdal.GetDriverByName(\"GTiff\")\n",
    "    dst_dataset = driver.Create(temp_file, ncol, nrow, nband, gdal.GDT_Float32)\n",
    "    dst_dataset.SetGeoTransform(geotransform)\n",
    "    dst_dataset.SetProjection(spatialreference)\n",
    "    dst_dataset.GetRasterBand(1).WriteArray(tifflayer_mean_array)\n",
    "    dst_dataset = None\n",
    "\n",
    "    original_temp_raster = gdal.Open(temp_file, gdal.GA_ReadOnly)\n",
    "    raster_rprj = gdal.Warp(aimFolder + \"/temp/temp_file_\" + str(year) + \"0008.tif\", original_temp_raster, dstSRS = \"EPSG:4326\", \n",
    "                            xRes = 0.004, yRes = 0.004, resampleAlg = \"average\")\n",
    "    original_temp_raster = None\n",
    "    raster_rprj = None\n"
   ]
  },
  {
   "cell_type": "code",
   "execution_count": 7,
   "metadata": {},
   "outputs": [
    {
     "ename": "IndexError",
     "evalue": "list index out of range",
     "output_type": "error",
     "traceback": [
      "\u001b[1;31m---------------------------------------------------------------------------\u001b[0m",
      "\u001b[1;31m_RemoteTraceback\u001b[0m                          Traceback (most recent call last)",
      "\u001b[1;31m_RemoteTraceback\u001b[0m: \n\"\"\"\nTraceback (most recent call last):\n  File \"d:\\Anaconda3\\envs\\Usegdal\\lib\\site-packages\\joblib\\externals\\loky\\process_executor.py\", line 436, in _process_worker\n    r = call_item()\n  File \"d:\\Anaconda3\\envs\\Usegdal\\lib\\site-packages\\joblib\\externals\\loky\\process_executor.py\", line 288, in __call__\n    return self.fn(*self.args, **self.kwargs)\n  File \"d:\\Anaconda3\\envs\\Usegdal\\lib\\site-packages\\joblib\\_parallel_backends.py\", line 595, in __call__\n    return self.func(*args, **kwargs)\n  File \"d:\\Anaconda3\\envs\\Usegdal\\lib\\site-packages\\joblib\\parallel.py\", line 262, in __call__\n    return [func(*args, **kwargs)\n  File \"d:\\Anaconda3\\envs\\Usegdal\\lib\\site-packages\\joblib\\parallel.py\", line 262, in <listcomp>\n    return [func(*args, **kwargs)\n  File \"C:\\Users\\li.chao.987@s.kyushu-u.ac.jp\\AppData\\Local\\Temp\\ipykernel_17544\\3919920049.py\", line 9, in mergeAndResampleNppRaster\nIndexError: list index out of range\n\"\"\"",
      "\nThe above exception was the direct cause of the following exception:\n",
      "\u001b[1;31mIndexError\u001b[0m                                Traceback (most recent call last)",
      "\u001b[1;32m~\\AppData\\Local\\Temp\\ipykernel_17544\\1816829750.py\u001b[0m in \u001b[0;36m<cell line: 6>\u001b[1;34m()\u001b[0m\n\u001b[0;32m      4\u001b[0m \u001b[1;32mimport\u001b[0m \u001b[0mglob\u001b[0m\u001b[1;33m\u001b[0m\u001b[1;33m\u001b[0m\u001b[0m\n\u001b[0;32m      5\u001b[0m \u001b[1;33m\u001b[0m\u001b[0m\n\u001b[1;32m----> 6\u001b[1;33m \u001b[0mParallel\u001b[0m\u001b[1;33m(\u001b[0m\u001b[0mn_jobs\u001b[0m\u001b[1;33m=\u001b[0m\u001b[1;36m10\u001b[0m\u001b[1;33m)\u001b[0m\u001b[1;33m(\u001b[0m\u001b[0mdelayed\u001b[0m\u001b[1;33m(\u001b[0m\u001b[0mmergeAndResampleNppRaster\u001b[0m\u001b[1;33m)\u001b[0m\u001b[1;33m(\u001b[0m\u001b[0mint\u001b[0m\u001b[1;33m(\u001b[0m\u001b[0myear\u001b[0m\u001b[1;33m)\u001b[0m\u001b[1;33m,\u001b[0m \u001b[0maimFolder\u001b[0m\u001b[1;33m)\u001b[0m \u001b[1;32mfor\u001b[0m \u001b[0myear\u001b[0m \u001b[1;32min\u001b[0m \u001b[0mnp\u001b[0m\u001b[1;33m.\u001b[0m\u001b[0mlinspace\u001b[0m\u001b[1;33m(\u001b[0m\u001b[1;36m2001\u001b[0m\u001b[1;33m,\u001b[0m \u001b[1;36m2020\u001b[0m\u001b[1;33m,\u001b[0m \u001b[1;36m20\u001b[0m\u001b[1;33m)\u001b[0m\u001b[1;33m)\u001b[0m\u001b[1;33m\u001b[0m\u001b[1;33m\u001b[0m\u001b[0m\n\u001b[0m",
      "\u001b[1;32md:\\Anaconda3\\envs\\Usegdal\\lib\\site-packages\\joblib\\parallel.py\u001b[0m in \u001b[0;36m__call__\u001b[1;34m(self, iterable)\u001b[0m\n\u001b[0;32m   1054\u001b[0m \u001b[1;33m\u001b[0m\u001b[0m\n\u001b[0;32m   1055\u001b[0m             \u001b[1;32mwith\u001b[0m \u001b[0mself\u001b[0m\u001b[1;33m.\u001b[0m\u001b[0m_backend\u001b[0m\u001b[1;33m.\u001b[0m\u001b[0mretrieval_context\u001b[0m\u001b[1;33m(\u001b[0m\u001b[1;33m)\u001b[0m\u001b[1;33m:\u001b[0m\u001b[1;33m\u001b[0m\u001b[1;33m\u001b[0m\u001b[0m\n\u001b[1;32m-> 1056\u001b[1;33m                 \u001b[0mself\u001b[0m\u001b[1;33m.\u001b[0m\u001b[0mretrieve\u001b[0m\u001b[1;33m(\u001b[0m\u001b[1;33m)\u001b[0m\u001b[1;33m\u001b[0m\u001b[1;33m\u001b[0m\u001b[0m\n\u001b[0m\u001b[0;32m   1057\u001b[0m             \u001b[1;31m# Make sure that we get a last message telling us we are done\u001b[0m\u001b[1;33m\u001b[0m\u001b[1;33m\u001b[0m\u001b[0m\n\u001b[0;32m   1058\u001b[0m             \u001b[0melapsed_time\u001b[0m \u001b[1;33m=\u001b[0m \u001b[0mtime\u001b[0m\u001b[1;33m.\u001b[0m\u001b[0mtime\u001b[0m\u001b[1;33m(\u001b[0m\u001b[1;33m)\u001b[0m \u001b[1;33m-\u001b[0m \u001b[0mself\u001b[0m\u001b[1;33m.\u001b[0m\u001b[0m_start_time\u001b[0m\u001b[1;33m\u001b[0m\u001b[1;33m\u001b[0m\u001b[0m\n",
      "\u001b[1;32md:\\Anaconda3\\envs\\Usegdal\\lib\\site-packages\\joblib\\parallel.py\u001b[0m in \u001b[0;36mretrieve\u001b[1;34m(self)\u001b[0m\n\u001b[0;32m    933\u001b[0m             \u001b[1;32mtry\u001b[0m\u001b[1;33m:\u001b[0m\u001b[1;33m\u001b[0m\u001b[1;33m\u001b[0m\u001b[0m\n\u001b[0;32m    934\u001b[0m                 \u001b[1;32mif\u001b[0m \u001b[0mgetattr\u001b[0m\u001b[1;33m(\u001b[0m\u001b[0mself\u001b[0m\u001b[1;33m.\u001b[0m\u001b[0m_backend\u001b[0m\u001b[1;33m,\u001b[0m \u001b[1;34m'supports_timeout'\u001b[0m\u001b[1;33m,\u001b[0m \u001b[1;32mFalse\u001b[0m\u001b[1;33m)\u001b[0m\u001b[1;33m:\u001b[0m\u001b[1;33m\u001b[0m\u001b[1;33m\u001b[0m\u001b[0m\n\u001b[1;32m--> 935\u001b[1;33m                     \u001b[0mself\u001b[0m\u001b[1;33m.\u001b[0m\u001b[0m_output\u001b[0m\u001b[1;33m.\u001b[0m\u001b[0mextend\u001b[0m\u001b[1;33m(\u001b[0m\u001b[0mjob\u001b[0m\u001b[1;33m.\u001b[0m\u001b[0mget\u001b[0m\u001b[1;33m(\u001b[0m\u001b[0mtimeout\u001b[0m\u001b[1;33m=\u001b[0m\u001b[0mself\u001b[0m\u001b[1;33m.\u001b[0m\u001b[0mtimeout\u001b[0m\u001b[1;33m)\u001b[0m\u001b[1;33m)\u001b[0m\u001b[1;33m\u001b[0m\u001b[1;33m\u001b[0m\u001b[0m\n\u001b[0m\u001b[0;32m    936\u001b[0m                 \u001b[1;32melse\u001b[0m\u001b[1;33m:\u001b[0m\u001b[1;33m\u001b[0m\u001b[1;33m\u001b[0m\u001b[0m\n\u001b[0;32m    937\u001b[0m                     \u001b[0mself\u001b[0m\u001b[1;33m.\u001b[0m\u001b[0m_output\u001b[0m\u001b[1;33m.\u001b[0m\u001b[0mextend\u001b[0m\u001b[1;33m(\u001b[0m\u001b[0mjob\u001b[0m\u001b[1;33m.\u001b[0m\u001b[0mget\u001b[0m\u001b[1;33m(\u001b[0m\u001b[1;33m)\u001b[0m\u001b[1;33m)\u001b[0m\u001b[1;33m\u001b[0m\u001b[1;33m\u001b[0m\u001b[0m\n",
      "\u001b[1;32md:\\Anaconda3\\envs\\Usegdal\\lib\\site-packages\\joblib\\_parallel_backends.py\u001b[0m in \u001b[0;36mwrap_future_result\u001b[1;34m(future, timeout)\u001b[0m\n\u001b[0;32m    540\u001b[0m         AsyncResults.get from multiprocessing.\"\"\"\n\u001b[0;32m    541\u001b[0m         \u001b[1;32mtry\u001b[0m\u001b[1;33m:\u001b[0m\u001b[1;33m\u001b[0m\u001b[1;33m\u001b[0m\u001b[0m\n\u001b[1;32m--> 542\u001b[1;33m             \u001b[1;32mreturn\u001b[0m \u001b[0mfuture\u001b[0m\u001b[1;33m.\u001b[0m\u001b[0mresult\u001b[0m\u001b[1;33m(\u001b[0m\u001b[0mtimeout\u001b[0m\u001b[1;33m=\u001b[0m\u001b[0mtimeout\u001b[0m\u001b[1;33m)\u001b[0m\u001b[1;33m\u001b[0m\u001b[1;33m\u001b[0m\u001b[0m\n\u001b[0m\u001b[0;32m    543\u001b[0m         \u001b[1;32mexcept\u001b[0m \u001b[0mCfTimeoutError\u001b[0m \u001b[1;32mas\u001b[0m \u001b[0me\u001b[0m\u001b[1;33m:\u001b[0m\u001b[1;33m\u001b[0m\u001b[1;33m\u001b[0m\u001b[0m\n\u001b[0;32m    544\u001b[0m             \u001b[1;32mraise\u001b[0m \u001b[0mTimeoutError\u001b[0m \u001b[1;32mfrom\u001b[0m \u001b[0me\u001b[0m\u001b[1;33m\u001b[0m\u001b[1;33m\u001b[0m\u001b[0m\n",
      "\u001b[1;32md:\\Anaconda3\\envs\\Usegdal\\lib\\concurrent\\futures\\_base.py\u001b[0m in \u001b[0;36mresult\u001b[1;34m(self, timeout)\u001b[0m\n\u001b[0;32m    444\u001b[0m                     \u001b[1;32mraise\u001b[0m \u001b[0mCancelledError\u001b[0m\u001b[1;33m(\u001b[0m\u001b[1;33m)\u001b[0m\u001b[1;33m\u001b[0m\u001b[1;33m\u001b[0m\u001b[0m\n\u001b[0;32m    445\u001b[0m                 \u001b[1;32melif\u001b[0m \u001b[0mself\u001b[0m\u001b[1;33m.\u001b[0m\u001b[0m_state\u001b[0m \u001b[1;33m==\u001b[0m \u001b[0mFINISHED\u001b[0m\u001b[1;33m:\u001b[0m\u001b[1;33m\u001b[0m\u001b[1;33m\u001b[0m\u001b[0m\n\u001b[1;32m--> 446\u001b[1;33m                     \u001b[1;32mreturn\u001b[0m \u001b[0mself\u001b[0m\u001b[1;33m.\u001b[0m\u001b[0m__get_result\u001b[0m\u001b[1;33m(\u001b[0m\u001b[1;33m)\u001b[0m\u001b[1;33m\u001b[0m\u001b[1;33m\u001b[0m\u001b[0m\n\u001b[0m\u001b[0;32m    447\u001b[0m                 \u001b[1;32melse\u001b[0m\u001b[1;33m:\u001b[0m\u001b[1;33m\u001b[0m\u001b[1;33m\u001b[0m\u001b[0m\n\u001b[0;32m    448\u001b[0m                     \u001b[1;32mraise\u001b[0m \u001b[0mTimeoutError\u001b[0m\u001b[1;33m(\u001b[0m\u001b[1;33m)\u001b[0m\u001b[1;33m\u001b[0m\u001b[1;33m\u001b[0m\u001b[0m\n",
      "\u001b[1;32md:\\Anaconda3\\envs\\Usegdal\\lib\\concurrent\\futures\\_base.py\u001b[0m in \u001b[0;36m__get_result\u001b[1;34m(self)\u001b[0m\n\u001b[0;32m    389\u001b[0m         \u001b[1;32mif\u001b[0m \u001b[0mself\u001b[0m\u001b[1;33m.\u001b[0m\u001b[0m_exception\u001b[0m\u001b[1;33m:\u001b[0m\u001b[1;33m\u001b[0m\u001b[1;33m\u001b[0m\u001b[0m\n\u001b[0;32m    390\u001b[0m             \u001b[1;32mtry\u001b[0m\u001b[1;33m:\u001b[0m\u001b[1;33m\u001b[0m\u001b[1;33m\u001b[0m\u001b[0m\n\u001b[1;32m--> 391\u001b[1;33m                 \u001b[1;32mraise\u001b[0m \u001b[0mself\u001b[0m\u001b[1;33m.\u001b[0m\u001b[0m_exception\u001b[0m\u001b[1;33m\u001b[0m\u001b[1;33m\u001b[0m\u001b[0m\n\u001b[0m\u001b[0;32m    392\u001b[0m             \u001b[1;32mfinally\u001b[0m\u001b[1;33m:\u001b[0m\u001b[1;33m\u001b[0m\u001b[1;33m\u001b[0m\u001b[0m\n\u001b[0;32m    393\u001b[0m                 \u001b[1;31m# Break a reference cycle with the exception in self._exception\u001b[0m\u001b[1;33m\u001b[0m\u001b[1;33m\u001b[0m\u001b[0m\n",
      "\u001b[1;31mIndexError\u001b[0m: list index out of range"
     ]
    }
   ],
   "source": [
    "from joblib import Parallel, delayed\n",
    "import multiprocessing\n",
    "import numpy as np\n",
    "import glob\n",
    "\n",
    "Parallel(n_jobs=10)(delayed(mergeAndResampleNppRaster)(int(year), aimFolder) for year in np.linspace(2002, 2020, 20))"
   ]
  },
  {
   "cell_type": "code",
   "execution_count": 8,
   "metadata": {},
   "outputs": [
    {
     "data": {
      "text/plain": [
       "array([2001., 2002., 2003., 2004., 2005., 2006., 2007., 2008., 2009.,\n",
       "       2010., 2011., 2012., 2013., 2014., 2015., 2016., 2017., 2018.,\n",
       "       2019., 2020.])"
      ]
     },
     "execution_count": 8,
     "metadata": {},
     "output_type": "execute_result"
    }
   ],
   "source": [
    "np.linspace(2001, 2020, 20)"
   ]
  },
  {
   "cell_type": "code",
   "execution_count": 15,
   "metadata": {},
   "outputs": [],
   "source": [
    "coords_extration = gpd.read_file(\"F:/17_Article/01_Data/00_mesh/Mesh500/mergedPointMesh500m.shp\")"
   ]
  },
  {
   "cell_type": "code",
   "execution_count": 73,
   "metadata": {},
   "outputs": [],
   "source": [
    "#os.remove(temp_file)\n",
    "#os.remove(aimFolder + \"/temp/temp_file_0008.tif\")\n",
    "\n",
    "#os.rmdir(aimFolder + \"\\\\temp\")"
   ]
  },
  {
   "cell_type": "code",
   "execution_count": 75,
   "metadata": {},
   "outputs": [],
   "source": [
    "def nppExtraction(year, aimFolder, coords_extration):\n",
    "    # this is to extract npp of each eyar of each mesh point\n",
    "    rasterFile = rasterio.open(aimFolder + \"/temp/temp_file_\" + str(year) + \"0004.tif\")\n",
    "    rasterArray = rasterFile.read(1)\n",
    "\n",
    "    valueArray = []\n",
    "    for point in coords_extration['geometry']:\n",
    "        x = point.xy[0][0]\n",
    "        y = point.xy[1][0]\n",
    "        row, col = rasterFile.index(x, y)\n",
    "        valueArray.append(rasterArray[row, col])\n",
    "        \n",
    "    valueArray = np.array(valueArray)\n",
    "    coords_extration['NPP_'+str(year)] = valueArray\n",
    "\n",
    "    rasterFile = None\n",
    "    return coords_extration"
   ]
  },
  {
   "cell_type": "code",
   "execution_count": 76,
   "metadata": {},
   "outputs": [],
   "source": [
    "from joblib import Parallel, delayed\n",
    "import multiprocessing\n",
    "import numpy as np\n",
    "import glob\n",
    "\n",
    "aimFolder = \"F:/17_Article/01_Data/02_NetPrimaryProductivity\"\n",
    "coords_extration = gpd.read_file(\"F:/17_Article/01_Data/00_mesh/Mesh500/mergedPointMesh500m.shp\")\n",
    "nppResult = Parallel(n_jobs=4)(delayed(nppExtraction)(int(year), aimFolder, coords_extration) for year in np.linspace(2001, 2020, 20))"
   ]
  },
  {
   "cell_type": "code",
   "execution_count": null,
   "metadata": {},
   "outputs": [],
   "source": []
  },
  {
   "cell_type": "markdown",
   "metadata": {},
   "source": [
    "## NTL extraction\n",
    "Night Time Light"
   ]
  },
  {
   "cell_type": "code",
   "execution_count": 3,
   "metadata": {},
   "outputs": [],
   "source": [
    "import os\n",
    "import zipfile\n",
    "import glob\n",
    "import rasterio\n",
    "from osgeo import gdal\n",
    "import geopandas as gpd\n",
    "import numpy as np"
   ]
  },
  {
   "cell_type": "code",
   "execution_count": 4,
   "metadata": {},
   "outputs": [],
   "source": [
    "aimFolder = \"F:\\\\17_Article\\\\01_Data\\\\03_NTL_VIIRS\"\n",
    "os.mkdir(aimFolder + \"\\\\temp\")"
   ]
  },
  {
   "cell_type": "code",
   "execution_count": 12,
   "metadata": {},
   "outputs": [],
   "source": [
    "def ntlExtraction(year, aimFolder, coords_extration):\n",
    "    #This funciton is try to extract ntl\n",
    "    #filename = aimFolder + \"\\\\\" + str(year) + \".zip\"\n",
    "    #with zipfile.ZipFile(filename, \"r\") as zip_ref:\n",
    "    #    zip_ref.extractall(aimFolder + \"\\\\temp\")\n",
    "    aimRaster = glob.glob(aimFolder + \"\\\\temp\\\\*\" + str(year) + \".tif\")\n",
    "    aimRaster = aimRaster[0]\n",
    "    rasterFile = rasterio.open(aimRaster)\n",
    "    rasterArray = rasterFile.read(1)\n",
    "    valueArray = []\n",
    "    for point in coords_extration['geometry']:\n",
    "        x = point.xy[0][0]\n",
    "        y = point.xy[1][0]\n",
    "        row, col = rasterFile.index(x, y)\n",
    "        valueArray.append(rasterArray[row, col])\n",
    "    \n",
    "    valueArray = np.array(valueArray)\n",
    "    coords_extration['NTL_'+str(year)] = valueArray\n",
    "    return coords_extration"
   ]
  },
  {
   "cell_type": "code",
   "execution_count": 16,
   "metadata": {},
   "outputs": [],
   "source": [
    "from joblib import Parallel, delayed\n",
    "import multiprocessing\n",
    "import numpy as np\n",
    "import glob\n",
    "\n",
    "ntlResult = Parallel(n_jobs=2)(delayed(ntlExtraction)(int(year), aimFolder, coords_extration) for year in np.linspace(2002, 2020, 19))"
   ]
  },
  {
   "cell_type": "code",
   "execution_count": 36,
   "metadata": {},
   "outputs": [],
   "source": [
    "ntlResult_2001 = ntlExtraction(int(2001), aimFolder, coords_extration)"
   ]
  },
  {
   "cell_type": "code",
   "execution_count": 37,
   "metadata": {},
   "outputs": [],
   "source": [
    "ntlResult_2002 = ntlResult[0]\n",
    "ntlResult_2003 = ntlResult[1]\n",
    "ntlResult_2004 = ntlResult[2]\n",
    "ntlResult_2005 = ntlResult[3]\n",
    "ntlResult_2006 = ntlResult[4]\n",
    "ntlResult_2007 = ntlResult[5]\n",
    "ntlResult_2008 = ntlResult[6]\n",
    "ntlResult_2009 = ntlResult[7]\n",
    "ntlResult_2010 = ntlResult[8]\n",
    "ntlResult_2011 = ntlResult[9]\n",
    "ntlResult_2012 = ntlResult[10]\n",
    "ntlResult_2013 = ntlResult[11]\n",
    "ntlResult_2014 = ntlResult[12]\n",
    "ntlResult_2015 = ntlResult[13]\n",
    "ntlResult_2016 = ntlResult[14]\n",
    "ntlResult_2017 = ntlResult[15]\n",
    "ntlResult_2018 = ntlResult[16]\n",
    "ntlResult_2019 = ntlResult[17]\n",
    "ntlResult_2020 = ntlResult[18]"
   ]
  },
  {
   "cell_type": "code",
   "execution_count": 38,
   "metadata": {},
   "outputs": [],
   "source": [
    "ntlResult_2001['year'] = 2001\n",
    "ntlResult_2002['year'] = 2002\n",
    "ntlResult_2003['year'] = 2003\n",
    "ntlResult_2004['year'] = 2004\n",
    "ntlResult_2005['year'] = 2005\n",
    "ntlResult_2006['year'] = 2006\n",
    "ntlResult_2007['year'] = 2007\n",
    "ntlResult_2008['year'] = 2008\n",
    "ntlResult_2009['year'] = 2009\n",
    "ntlResult_2010['year'] = 2010\n",
    "ntlResult_2011['year'] = 2011\n",
    "ntlResult_2012['year'] = 2012\n",
    "ntlResult_2013['year'] = 2013\n",
    "ntlResult_2014['year'] = 2014\n",
    "ntlResult_2015['year'] = 2015\n",
    "ntlResult_2016['year'] = 2016\n",
    "ntlResult_2017['year'] = 2017\n",
    "ntlResult_2018['year'] = 2018\n",
    "ntlResult_2019['year'] = 2019\n",
    "ntlResult_2020['year'] = 2020"
   ]
  },
  {
   "cell_type": "code",
   "execution_count": 40,
   "metadata": {},
   "outputs": [],
   "source": [
    "ntlResult_2001 = pd.DataFrame(ntlResult_2001.drop(columns='geometry'))\n",
    "ntlResult_2002 = pd.DataFrame(ntlResult_2002.drop(columns='geometry'))\n",
    "ntlResult_2003 = pd.DataFrame(ntlResult_2003.drop(columns='geometry'))\n",
    "ntlResult_2004 = pd.DataFrame(ntlResult_2004.drop(columns='geometry'))\n",
    "ntlResult_2005 = pd.DataFrame(ntlResult_2005.drop(columns='geometry'))\n",
    "ntlResult_2006 = pd.DataFrame(ntlResult_2006.drop(columns='geometry'))\n",
    "ntlResult_2007 = pd.DataFrame(ntlResult_2007.drop(columns='geometry'))\n",
    "ntlResult_2008 = pd.DataFrame(ntlResult_2008.drop(columns='geometry'))\n",
    "ntlResult_2009 = pd.DataFrame(ntlResult_2009.drop(columns='geometry'))\n",
    "ntlResult_2010 = pd.DataFrame(ntlResult_2010.drop(columns='geometry'))\n",
    "ntlResult_2011 = pd.DataFrame(ntlResult_2011.drop(columns='geometry'))\n",
    "ntlResult_2012 = pd.DataFrame(ntlResult_2012.drop(columns='geometry'))\n",
    "ntlResult_2013 = pd.DataFrame(ntlResult_2013.drop(columns='geometry'))\n",
    "ntlResult_2014 = pd.DataFrame(ntlResult_2014.drop(columns='geometry'))\n",
    "ntlResult_2015 = pd.DataFrame(ntlResult_2015.drop(columns='geometry'))\n",
    "ntlResult_2016 = pd.DataFrame(ntlResult_2016.drop(columns='geometry'))\n",
    "ntlResult_2017 = pd.DataFrame(ntlResult_2017.drop(columns='geometry'))\n",
    "ntlResult_2018 = pd.DataFrame(ntlResult_2018.drop(columns='geometry'))\n",
    "ntlResult_2019 = pd.DataFrame(ntlResult_2019.drop(columns='geometry'))\n",
    "ntlResult_2020 = pd.DataFrame(ntlResult_2020.drop(columns='geometry'))"
   ]
  },
  {
   "cell_type": "code",
   "execution_count": 41,
   "metadata": {},
   "outputs": [
    {
     "data": {
      "text/plain": [
       "Index(['G04c_001', 'NTL_2001', 'year'], dtype='object')"
      ]
     },
     "execution_count": 41,
     "metadata": {},
     "output_type": "execute_result"
    }
   ],
   "source": [
    "ntlResult_2001.columns"
   ]
  },
  {
   "cell_type": "code",
   "execution_count": 45,
   "metadata": {},
   "outputs": [],
   "source": [
    "ntlResult_2001.columns = ['G04c_001', 'NTL', 'year']\n",
    "ntlResult_2002.columns = ['G04c_001', 'NTL', 'year']\n",
    "ntlResult_2003.columns = ['G04c_001', 'NTL', 'year']\n",
    "ntlResult_2004.columns = ['G04c_001', 'NTL', 'year']\n",
    "ntlResult_2005.columns = ['G04c_001', 'NTL', 'year']\n",
    "ntlResult_2006.columns = ['G04c_001', 'NTL', 'year']\n",
    "ntlResult_2007.columns = ['G04c_001', 'NTL', 'year']\n",
    "ntlResult_2008.columns = ['G04c_001', 'NTL', 'year']\n",
    "ntlResult_2009.columns = ['G04c_001', 'NTL', 'year']\n",
    "ntlResult_2010.columns = ['G04c_001', 'NTL', 'year']\n",
    "ntlResult_2011.columns = ['G04c_001', 'NTL', 'year']\n",
    "ntlResult_2012.columns = ['G04c_001', 'NTL', 'year']\n",
    "ntlResult_2013.columns = ['G04c_001', 'NTL', 'year']\n",
    "ntlResult_2014.columns = ['G04c_001', 'NTL', 'year']\n",
    "ntlResult_2015.columns = ['G04c_001', 'NTL', 'year']\n",
    "ntlResult_2016.columns = ['G04c_001', 'NTL', 'year']\n",
    "ntlResult_2017.columns = ['G04c_001', 'NTL', 'year']\n",
    "ntlResult_2018.columns = ['G04c_001', 'NTL', 'year']\n",
    "ntlResult_2019.columns = ['G04c_001', 'NTL', 'year']\n",
    "ntlResult_2020.columns = ['G04c_001', 'NTL', 'year']"
   ]
  },
  {
   "cell_type": "code",
   "execution_count": 57,
   "metadata": {},
   "outputs": [
    {
     "name": "stderr",
     "output_type": "stream",
     "text": [
      "C:\\Users\\li.chao.987@s.kyushu-u.ac.jp\\AppData\\Local\\Temp\\ipykernel_12728\\1752473119.py:1: SettingWithCopyWarning: \n",
      "A value is trying to be set on a copy of a slice from a DataFrame\n",
      "\n",
      "See the caveats in the documentation: https://pandas.pydata.org/pandas-docs/stable/user_guide/indexing.html#returning-a-view-versus-a-copy\n",
      "  ntlResult_2020.NTL[ntlResult_2020[\"NTL\"]<0] = 0\n",
      "C:\\Users\\li.chao.987@s.kyushu-u.ac.jp\\AppData\\Local\\Temp\\ipykernel_12728\\1752473119.py:3: SettingWithCopyWarning: \n",
      "A value is trying to be set on a copy of a slice from a DataFrame\n",
      "\n",
      "See the caveats in the documentation: https://pandas.pydata.org/pandas-docs/stable/user_guide/indexing.html#returning-a-view-versus-a-copy\n",
      "  ntlResult_2019.NTL[ntlResult_2019[\"NTL\"]<0] = 0\n"
     ]
    },
    {
     "data": {
      "text/plain": [
       "1.1114916"
      ]
     },
     "execution_count": 57,
     "metadata": {},
     "output_type": "execute_result"
    }
   ],
   "source": [
    "ntlResult_2020.NTL[ntlResult_2020[\"NTL\"]<0] = 0\n",
    "ntlResult_2020[\"NTL\"].mean()\n",
    "ntlResult_2019.NTL[ntlResult_2019[\"NTL\"]<0] = 0\n",
    "ntlResult_2019[\"NTL\"].mean()\n"
   ]
  },
  {
   "cell_type": "code",
   "execution_count": 60,
   "metadata": {},
   "outputs": [
    {
     "name": "stdout",
     "output_type": "stream",
     "text": [
      "1.6480222\n",
      "1.6131924\n",
      "1.4684126\n",
      "1.2629389\n",
      "1.5879596\n",
      "1.575272\n",
      "1.6215699\n",
      "1.4386377\n",
      "1.3462512\n",
      "1.0992323\n",
      "1.3615805\n",
      "1.3009588\n",
      "1.061045\n",
      "1.0638536\n",
      "1.0337858\n",
      "1.0159932\n",
      "1.1423855\n",
      "1.1576278\n",
      "1.1114916\n",
      "1.0489889\n"
     ]
    }
   ],
   "source": [
    "print(ntlResult_2001[\"NTL\"].mean())\n",
    "print(ntlResult_2002[\"NTL\"].mean())\n",
    "print(ntlResult_2003[\"NTL\"].mean())\n",
    "print(ntlResult_2004[\"NTL\"].mean())\n",
    "print(ntlResult_2005[\"NTL\"].mean())\n",
    "print(ntlResult_2006[\"NTL\"].mean())\n",
    "print(ntlResult_2007[\"NTL\"].mean())\n",
    "print(ntlResult_2008[\"NTL\"].mean())\n",
    "print(ntlResult_2009[\"NTL\"].mean())\n",
    "print(ntlResult_2010[\"NTL\"].mean())\n",
    "print(ntlResult_2011[\"NTL\"].mean())\n",
    "print(ntlResult_2012[\"NTL\"].mean())\n",
    "print(ntlResult_2013[\"NTL\"].mean())\n",
    "print(ntlResult_2014[\"NTL\"].mean())\n",
    "print(ntlResult_2015[\"NTL\"].mean())\n",
    "print(ntlResult_2016[\"NTL\"].mean())\n",
    "print(ntlResult_2017[\"NTL\"].mean())\n",
    "print(ntlResult_2018[\"NTL\"].mean())\n",
    "print(ntlResult_2019[\"NTL\"].mean())\n",
    "print(ntlResult_2020[\"NTL\"].mean())"
   ]
  },
  {
   "cell_type": "code",
   "execution_count": 61,
   "metadata": {},
   "outputs": [],
   "source": [
    "longNtlDF = pd.concat(\n",
    "    [ntlResult_2001, ntlResult_2002, ntlResult_2003, ntlResult_2004, ntlResult_2005, ntlResult_2006, ntlResult_2007, ntlResult_2008,\n",
    "    ntlResult_2009, ntlResult_2010, ntlResult_2011, ntlResult_2012, ntlResult_2013, ntlResult_2014, ntlResult_2015, ntlResult_2016,\n",
    "    ntlResult_2017, ntlResult_2018, ntlResult_2019, ntlResult_2020]\n",
    ")"
   ]
  },
  {
   "cell_type": "code",
   "execution_count": 64,
   "metadata": {},
   "outputs": [
    {
     "data": {
      "text/plain": [
       "176"
      ]
     },
     "execution_count": 64,
     "metadata": {},
     "output_type": "execute_result"
    }
   ],
   "source": [
    "del ntlResult_2001\n",
    "del ntlResult_2002\n",
    "del ntlResult_2003\n",
    "del ntlResult_2004\n",
    "del ntlResult_2005\n",
    "del ntlResult_2006\n",
    "del ntlResult_2007\n",
    "del ntlResult_2008\n",
    "del ntlResult_2009\n",
    "del ntlResult_2010\n",
    "del ntlResult_2011\n",
    "del ntlResult_2012\n",
    "del ntlResult_2013\n",
    "del ntlResult_2014\n",
    "del ntlResult_2015\n",
    "del ntlResult_2016\n",
    "del ntlResult_2017\n",
    "del ntlResult_2018\n",
    "del ntlResult_2019\n",
    "del ntlResult_2020\n",
    "\n",
    "import gc\n",
    "gc.collect()"
   ]
  },
  {
   "cell_type": "code",
   "execution_count": 62,
   "metadata": {},
   "outputs": [
    {
     "data": {
      "text/html": [
       "<div>\n",
       "<style scoped>\n",
       "    .dataframe tbody tr th:only-of-type {\n",
       "        vertical-align: middle;\n",
       "    }\n",
       "\n",
       "    .dataframe tbody tr th {\n",
       "        vertical-align: top;\n",
       "    }\n",
       "\n",
       "    .dataframe thead th {\n",
       "        text-align: right;\n",
       "    }\n",
       "</style>\n",
       "<table border=\"1\" class=\"dataframe\">\n",
       "  <thead>\n",
       "    <tr style=\"text-align: right;\">\n",
       "      <th></th>\n",
       "      <th></th>\n",
       "      <th>NTL</th>\n",
       "    </tr>\n",
       "    <tr>\n",
       "      <th>G04c_001</th>\n",
       "      <th>year</th>\n",
       "      <th></th>\n",
       "    </tr>\n",
       "  </thead>\n",
       "  <tbody>\n",
       "    <tr>\n",
       "      <th>303660001</th>\n",
       "      <th>2001</th>\n",
       "      <td>0.0</td>\n",
       "    </tr>\n",
       "    <tr>\n",
       "      <th>303660002</th>\n",
       "      <th>2001</th>\n",
       "      <td>0.0</td>\n",
       "    </tr>\n",
       "    <tr>\n",
       "      <th>303660003</th>\n",
       "      <th>2001</th>\n",
       "      <td>0.0</td>\n",
       "    </tr>\n",
       "    <tr>\n",
       "      <th>303660004</th>\n",
       "      <th>2001</th>\n",
       "      <td>0.0</td>\n",
       "    </tr>\n",
       "    <tr>\n",
       "      <th>303660011</th>\n",
       "      <th>2001</th>\n",
       "      <td>0.0</td>\n",
       "    </tr>\n",
       "  </tbody>\n",
       "</table>\n",
       "</div>"
      ],
      "text/plain": [
       "                NTL\n",
       "G04c_001  year     \n",
       "303660001 2001  0.0\n",
       "303660002 2001  0.0\n",
       "303660003 2001  0.0\n",
       "303660004 2001  0.0\n",
       "303660011 2001  0.0"
      ]
     },
     "execution_count": 62,
     "metadata": {},
     "output_type": "execute_result"
    }
   ],
   "source": [
    "longNtlDF = longNtlDF.set_index(['G04c_001','year'])\n",
    "longNtlDF.head()"
   ]
  },
  {
   "cell_type": "code",
   "execution_count": 63,
   "metadata": {},
   "outputs": [
    {
     "data": {
      "text/plain": [
       "NTL    1.297961\n",
       "dtype: float32"
      ]
     },
     "execution_count": 63,
     "metadata": {},
     "output_type": "execute_result"
    }
   ],
   "source": [
    "\n",
    "longNtlDF.mean()"
   ]
  },
  {
   "cell_type": "code",
   "execution_count": 65,
   "metadata": {},
   "outputs": [
    {
     "data": {
      "text/plain": [
       "156"
      ]
     },
     "execution_count": 65,
     "metadata": {},
     "output_type": "execute_result"
    }
   ],
   "source": [
    "del ntlResult\n",
    "gc.collect()"
   ]
  },
  {
   "cell_type": "code",
   "execution_count": 71,
   "metadata": {},
   "outputs": [
    {
     "ename": "PermissionError",
     "evalue": "[WinError 32] 另一个程序正在使用此文件，进程无法访问。: 'F:\\\\17_Article\\\\01_Data\\\\03_NTL_VIIRS\\\\temp\\\\LongNTL_2001.tif'",
     "output_type": "error",
     "traceback": [
      "\u001b[1;31m---------------------------------------------------------------------------\u001b[0m",
      "\u001b[1;31mPermissionError\u001b[0m                           Traceback (most recent call last)",
      "\u001b[1;32m~\\AppData\\Local\\Temp\\ipykernel_12728\\1943968306.py\u001b[0m in \u001b[0;36m<cell line: 3>\u001b[1;34m()\u001b[0m\n\u001b[0;32m      2\u001b[0m \u001b[1;31m#fileList = fileList[1:]\u001b[0m\u001b[1;33m\u001b[0m\u001b[1;33m\u001b[0m\u001b[0m\n\u001b[0;32m      3\u001b[0m \u001b[1;32mfor\u001b[0m \u001b[0mfilename\u001b[0m \u001b[1;32min\u001b[0m \u001b[0mfileList\u001b[0m\u001b[1;33m:\u001b[0m\u001b[1;33m\u001b[0m\u001b[1;33m\u001b[0m\u001b[0m\n\u001b[1;32m----> 4\u001b[1;33m     \u001b[0mos\u001b[0m\u001b[1;33m.\u001b[0m\u001b[0mremove\u001b[0m\u001b[1;33m(\u001b[0m\u001b[0mfilename\u001b[0m\u001b[1;33m)\u001b[0m\u001b[1;33m\u001b[0m\u001b[1;33m\u001b[0m\u001b[0m\n\u001b[0m\u001b[0;32m      5\u001b[0m \u001b[1;33m\u001b[0m\u001b[0m\n\u001b[0;32m      6\u001b[0m \u001b[1;31m#os.rmdir(aimFolder + \"\\\\temp\")\u001b[0m\u001b[1;33m\u001b[0m\u001b[1;33m\u001b[0m\u001b[0m\n",
      "\u001b[1;31mPermissionError\u001b[0m: [WinError 32] 另一个程序正在使用此文件，进程无法访问。: 'F:\\\\17_Article\\\\01_Data\\\\03_NTL_VIIRS\\\\temp\\\\LongNTL_2001.tif'"
     ]
    }
   ],
   "source": [
    "fileList = glob.glob(aimFolder + \"\\\\temp\\\\*\")\n",
    "#fileList = fileList[1:]\n",
    "for filename in fileList:\n",
    "    os.remove(filename)\n",
    "\n",
    "#os.rmdir(aimFolder + \"\\\\temp\")"
   ]
  },
  {
   "cell_type": "code",
   "execution_count": null,
   "metadata": {},
   "outputs": [],
   "source": [
    "os.rmdir(aimFolder + \"\\\\temp\")"
   ]
  },
  {
   "cell_type": "code",
   "execution_count": null,
   "metadata": {},
   "outputs": [],
   "source": []
  },
  {
   "cell_type": "code",
   "execution_count": null,
   "metadata": {},
   "outputs": [],
   "source": []
  },
  {
   "cell_type": "code",
   "execution_count": 67,
   "metadata": {},
   "outputs": [
    {
     "data": {
      "text/plain": [
       "['F:\\\\17_Article\\\\01_Data\\\\03_NTL_VIIRS\\\\temp\\\\LongNTL_2001.tfw',\n",
       " 'F:\\\\17_Article\\\\01_Data\\\\03_NTL_VIIRS\\\\temp\\\\LongNTL_2001.tif',\n",
       " 'F:\\\\17_Article\\\\01_Data\\\\03_NTL_VIIRS\\\\temp\\\\LongNTL_2001.tif.aux.xml',\n",
       " 'F:\\\\17_Article\\\\01_Data\\\\03_NTL_VIIRS\\\\temp\\\\LongNTL_2001.tif.xml',\n",
       " 'F:\\\\17_Article\\\\01_Data\\\\03_NTL_VIIRS\\\\temp\\\\LongNTL_2002.tfw',\n",
       " 'F:\\\\17_Article\\\\01_Data\\\\03_NTL_VIIRS\\\\temp\\\\LongNTL_2002.tif',\n",
       " 'F:\\\\17_Article\\\\01_Data\\\\03_NTL_VIIRS\\\\temp\\\\LongNTL_2002.tif.aux.xml',\n",
       " 'F:\\\\17_Article\\\\01_Data\\\\03_NTL_VIIRS\\\\temp\\\\LongNTL_2002.tif.xml',\n",
       " 'F:\\\\17_Article\\\\01_Data\\\\03_NTL_VIIRS\\\\temp\\\\LongNTL_2003.tfw',\n",
       " 'F:\\\\17_Article\\\\01_Data\\\\03_NTL_VIIRS\\\\temp\\\\LongNTL_2003.tif',\n",
       " 'F:\\\\17_Article\\\\01_Data\\\\03_NTL_VIIRS\\\\temp\\\\LongNTL_2003.tif.aux.xml',\n",
       " 'F:\\\\17_Article\\\\01_Data\\\\03_NTL_VIIRS\\\\temp\\\\LongNTL_2003.tif.xml',\n",
       " 'F:\\\\17_Article\\\\01_Data\\\\03_NTL_VIIRS\\\\temp\\\\LongNTL_2004.tfw',\n",
       " 'F:\\\\17_Article\\\\01_Data\\\\03_NTL_VIIRS\\\\temp\\\\LongNTL_2004.tif',\n",
       " 'F:\\\\17_Article\\\\01_Data\\\\03_NTL_VIIRS\\\\temp\\\\LongNTL_2004.tif.aux.xml',\n",
       " 'F:\\\\17_Article\\\\01_Data\\\\03_NTL_VIIRS\\\\temp\\\\LongNTL_2004.tif.ovr',\n",
       " 'F:\\\\17_Article\\\\01_Data\\\\03_NTL_VIIRS\\\\temp\\\\LongNTL_2004.tif.xml',\n",
       " 'F:\\\\17_Article\\\\01_Data\\\\03_NTL_VIIRS\\\\temp\\\\LongNTL_2005.tfw',\n",
       " 'F:\\\\17_Article\\\\01_Data\\\\03_NTL_VIIRS\\\\temp\\\\LongNTL_2005.tif',\n",
       " 'F:\\\\17_Article\\\\01_Data\\\\03_NTL_VIIRS\\\\temp\\\\LongNTL_2005.tif.aux.xml',\n",
       " 'F:\\\\17_Article\\\\01_Data\\\\03_NTL_VIIRS\\\\temp\\\\LongNTL_2005.tif.xml',\n",
       " 'F:\\\\17_Article\\\\01_Data\\\\03_NTL_VIIRS\\\\temp\\\\LongNTL_2006.tfw',\n",
       " 'F:\\\\17_Article\\\\01_Data\\\\03_NTL_VIIRS\\\\temp\\\\LongNTL_2006.tif',\n",
       " 'F:\\\\17_Article\\\\01_Data\\\\03_NTL_VIIRS\\\\temp\\\\LongNTL_2006.tif.aux.xml',\n",
       " 'F:\\\\17_Article\\\\01_Data\\\\03_NTL_VIIRS\\\\temp\\\\LongNTL_2006.tif.xml',\n",
       " 'F:\\\\17_Article\\\\01_Data\\\\03_NTL_VIIRS\\\\temp\\\\LongNTL_2007.tfw',\n",
       " 'F:\\\\17_Article\\\\01_Data\\\\03_NTL_VIIRS\\\\temp\\\\LongNTL_2007.tif',\n",
       " 'F:\\\\17_Article\\\\01_Data\\\\03_NTL_VIIRS\\\\temp\\\\LongNTL_2007.tif.aux.xml',\n",
       " 'F:\\\\17_Article\\\\01_Data\\\\03_NTL_VIIRS\\\\temp\\\\LongNTL_2007.tif.xml',\n",
       " 'F:\\\\17_Article\\\\01_Data\\\\03_NTL_VIIRS\\\\temp\\\\LongNTL_2008.tfw',\n",
       " 'F:\\\\17_Article\\\\01_Data\\\\03_NTL_VIIRS\\\\temp\\\\LongNTL_2008.tif',\n",
       " 'F:\\\\17_Article\\\\01_Data\\\\03_NTL_VIIRS\\\\temp\\\\LongNTL_2008.tif.aux.xml',\n",
       " 'F:\\\\17_Article\\\\01_Data\\\\03_NTL_VIIRS\\\\temp\\\\LongNTL_2008.tif.xml',\n",
       " 'F:\\\\17_Article\\\\01_Data\\\\03_NTL_VIIRS\\\\temp\\\\LongNTL_2009.tfw',\n",
       " 'F:\\\\17_Article\\\\01_Data\\\\03_NTL_VIIRS\\\\temp\\\\LongNTL_2009.tif',\n",
       " 'F:\\\\17_Article\\\\01_Data\\\\03_NTL_VIIRS\\\\temp\\\\LongNTL_2009.tif.aux.xml',\n",
       " 'F:\\\\17_Article\\\\01_Data\\\\03_NTL_VIIRS\\\\temp\\\\LongNTL_2009.tif.xml',\n",
       " 'F:\\\\17_Article\\\\01_Data\\\\03_NTL_VIIRS\\\\temp\\\\LongNTL_2010.tfw',\n",
       " 'F:\\\\17_Article\\\\01_Data\\\\03_NTL_VIIRS\\\\temp\\\\LongNTL_2010.tif',\n",
       " 'F:\\\\17_Article\\\\01_Data\\\\03_NTL_VIIRS\\\\temp\\\\LongNTL_2010.tif.aux.xml',\n",
       " 'F:\\\\17_Article\\\\01_Data\\\\03_NTL_VIIRS\\\\temp\\\\LongNTL_2010.tif.ovr',\n",
       " 'F:\\\\17_Article\\\\01_Data\\\\03_NTL_VIIRS\\\\temp\\\\LongNTL_2010.tif.xml',\n",
       " 'F:\\\\17_Article\\\\01_Data\\\\03_NTL_VIIRS\\\\temp\\\\LongNTL_2011.tfw',\n",
       " 'F:\\\\17_Article\\\\01_Data\\\\03_NTL_VIIRS\\\\temp\\\\LongNTL_2011.tif',\n",
       " 'F:\\\\17_Article\\\\01_Data\\\\03_NTL_VIIRS\\\\temp\\\\LongNTL_2011.tif.aux.xml',\n",
       " 'F:\\\\17_Article\\\\01_Data\\\\03_NTL_VIIRS\\\\temp\\\\LongNTL_2011.tif.xml',\n",
       " 'F:\\\\17_Article\\\\01_Data\\\\03_NTL_VIIRS\\\\temp\\\\LongNTL_2012.tfw',\n",
       " 'F:\\\\17_Article\\\\01_Data\\\\03_NTL_VIIRS\\\\temp\\\\LongNTL_2012.tif',\n",
       " 'F:\\\\17_Article\\\\01_Data\\\\03_NTL_VIIRS\\\\temp\\\\LongNTL_2012.tif.aux.xml',\n",
       " 'F:\\\\17_Article\\\\01_Data\\\\03_NTL_VIIRS\\\\temp\\\\LongNTL_2012.tif.xml',\n",
       " 'F:\\\\17_Article\\\\01_Data\\\\03_NTL_VIIRS\\\\temp\\\\LongNTL_2013.tfw',\n",
       " 'F:\\\\17_Article\\\\01_Data\\\\03_NTL_VIIRS\\\\temp\\\\LongNTL_2013.tif',\n",
       " 'F:\\\\17_Article\\\\01_Data\\\\03_NTL_VIIRS\\\\temp\\\\LongNTL_2013.tif.aux.xml',\n",
       " 'F:\\\\17_Article\\\\01_Data\\\\03_NTL_VIIRS\\\\temp\\\\LongNTL_2013.tif.xml',\n",
       " 'F:\\\\17_Article\\\\01_Data\\\\03_NTL_VIIRS\\\\temp\\\\LongNTL_2014.tfw',\n",
       " 'F:\\\\17_Article\\\\01_Data\\\\03_NTL_VIIRS\\\\temp\\\\LongNTL_2014.tif',\n",
       " 'F:\\\\17_Article\\\\01_Data\\\\03_NTL_VIIRS\\\\temp\\\\LongNTL_2014.tif.aux.xml',\n",
       " 'F:\\\\17_Article\\\\01_Data\\\\03_NTL_VIIRS\\\\temp\\\\LongNTL_2014.tif.xml',\n",
       " 'F:\\\\17_Article\\\\01_Data\\\\03_NTL_VIIRS\\\\temp\\\\LongNTL_2015.tfw',\n",
       " 'F:\\\\17_Article\\\\01_Data\\\\03_NTL_VIIRS\\\\temp\\\\LongNTL_2015.tif',\n",
       " 'F:\\\\17_Article\\\\01_Data\\\\03_NTL_VIIRS\\\\temp\\\\LongNTL_2015.tif.aux.xml',\n",
       " 'F:\\\\17_Article\\\\01_Data\\\\03_NTL_VIIRS\\\\temp\\\\LongNTL_2015.tif.xml',\n",
       " 'F:\\\\17_Article\\\\01_Data\\\\03_NTL_VIIRS\\\\temp\\\\LongNTL_2016.tfw',\n",
       " 'F:\\\\17_Article\\\\01_Data\\\\03_NTL_VIIRS\\\\temp\\\\LongNTL_2016.tif',\n",
       " 'F:\\\\17_Article\\\\01_Data\\\\03_NTL_VIIRS\\\\temp\\\\LongNTL_2016.tif.aux.xml',\n",
       " 'F:\\\\17_Article\\\\01_Data\\\\03_NTL_VIIRS\\\\temp\\\\LongNTL_2016.tif.xml',\n",
       " 'F:\\\\17_Article\\\\01_Data\\\\03_NTL_VIIRS\\\\temp\\\\LongNTL_2017.tfw',\n",
       " 'F:\\\\17_Article\\\\01_Data\\\\03_NTL_VIIRS\\\\temp\\\\LongNTL_2017.tif',\n",
       " 'F:\\\\17_Article\\\\01_Data\\\\03_NTL_VIIRS\\\\temp\\\\LongNTL_2017.tif.aux.xml',\n",
       " 'F:\\\\17_Article\\\\01_Data\\\\03_NTL_VIIRS\\\\temp\\\\LongNTL_2017.tif.xml',\n",
       " 'F:\\\\17_Article\\\\01_Data\\\\03_NTL_VIIRS\\\\temp\\\\LongNTL_2018.tfw',\n",
       " 'F:\\\\17_Article\\\\01_Data\\\\03_NTL_VIIRS\\\\temp\\\\LongNTL_2018.tif',\n",
       " 'F:\\\\17_Article\\\\01_Data\\\\03_NTL_VIIRS\\\\temp\\\\LongNTL_2018.tif.aux.xml',\n",
       " 'F:\\\\17_Article\\\\01_Data\\\\03_NTL_VIIRS\\\\temp\\\\LongNTL_2018.tif.xml',\n",
       " 'F:\\\\17_Article\\\\01_Data\\\\03_NTL_VIIRS\\\\temp\\\\LongNTL_2019.tfw',\n",
       " 'F:\\\\17_Article\\\\01_Data\\\\03_NTL_VIIRS\\\\temp\\\\LongNTL_2019.tif',\n",
       " 'F:\\\\17_Article\\\\01_Data\\\\03_NTL_VIIRS\\\\temp\\\\LongNTL_2019.tif.aux.xml',\n",
       " 'F:\\\\17_Article\\\\01_Data\\\\03_NTL_VIIRS\\\\temp\\\\LongNTL_2019.tif.ovr',\n",
       " 'F:\\\\17_Article\\\\01_Data\\\\03_NTL_VIIRS\\\\temp\\\\LongNTL_2019.tif.xml',\n",
       " 'F:\\\\17_Article\\\\01_Data\\\\03_NTL_VIIRS\\\\temp\\\\LongNTL_2020.tfw',\n",
       " 'F:\\\\17_Article\\\\01_Data\\\\03_NTL_VIIRS\\\\temp\\\\LongNTL_2020.tif',\n",
       " 'F:\\\\17_Article\\\\01_Data\\\\03_NTL_VIIRS\\\\temp\\\\LongNTL_2020.tif.aux.xml',\n",
       " 'F:\\\\17_Article\\\\01_Data\\\\03_NTL_VIIRS\\\\temp\\\\LongNTL_2020.tif.xml']"
      ]
     },
     "execution_count": 67,
     "metadata": {},
     "output_type": "execute_result"
    }
   ],
   "source": []
  },
  {
   "cell_type": "code",
   "execution_count": null,
   "metadata": {},
   "outputs": [],
   "source": []
  },
  {
   "cell_type": "code",
   "execution_count": null,
   "metadata": {},
   "outputs": [],
   "source": []
  },
  {
   "cell_type": "code",
   "execution_count": null,
   "metadata": {},
   "outputs": [],
   "source": []
  },
  {
   "cell_type": "code",
   "execution_count": null,
   "metadata": {},
   "outputs": [],
   "source": []
  },
  {
   "cell_type": "code",
   "execution_count": null,
   "metadata": {},
   "outputs": [],
   "source": []
  },
  {
   "cell_type": "code",
   "execution_count": null,
   "metadata": {},
   "outputs": [],
   "source": []
  },
  {
   "cell_type": "code",
   "execution_count": null,
   "metadata": {},
   "outputs": [],
   "source": []
  },
  {
   "cell_type": "code",
   "execution_count": null,
   "metadata": {},
   "outputs": [],
   "source": []
  },
  {
   "cell_type": "code",
   "execution_count": null,
   "metadata": {},
   "outputs": [],
   "source": []
  }
 ],
 "metadata": {
  "kernelspec": {
   "display_name": "Python 3.10.4 ('Usegdal')",
   "language": "python",
   "name": "python3"
  },
  "language_info": {
   "codemirror_mode": {
    "name": "ipython",
    "version": 3
   },
   "file_extension": ".py",
   "mimetype": "text/x-python",
   "name": "python",
   "nbconvert_exporter": "python",
   "pygments_lexer": "ipython3",
   "version": "3.10.4"
  },
  "orig_nbformat": 4,
  "vscode": {
   "interpreter": {
    "hash": "3fc66252abba36e085bb3ec14543b1917131014ad56a966409ac5ee82f8d6ab9"
   }
  }
 },
 "nbformat": 4,
 "nbformat_minor": 2
}
