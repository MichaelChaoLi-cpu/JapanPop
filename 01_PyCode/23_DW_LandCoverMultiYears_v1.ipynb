{
 "cells": [
  {
   "cell_type": "code",
   "execution_count": 1,
   "metadata": {},
   "outputs": [],
   "source": [
    "# -*- coding: utf-8 -*-\n",
    "\n",
    "#Convert mutliclasses into Single Class\n",
    "\n",
    "#Resolution: 0.004\n",
    "\n",
    "#Created on Mon Apr 11 16:42:38 2022\n",
    "\n",
    "#@author: li.chao.987@s.kyushu-u.ac.jp\n",
    "\n",
    "\n",
    "from osgeo import gdal\n",
    "import numpy as np\n",
    "import os"
   ]
  },
  {
   "cell_type": "code",
   "execution_count": 6,
   "metadata": {},
   "outputs": [
    {
     "name": "stdout",
     "output_type": "stream",
     "text": [
      "None\n",
      "None\n",
      "None\n",
      "None\n",
      "None\n",
      "None\n",
      "None\n",
      "None\n",
      "None\n",
      "None\n",
      "None\n",
      "None\n",
      "None\n",
      "None\n",
      "None\n",
      "None\n",
      "None\n",
      "None\n",
      "None\n",
      "None\n"
     ]
    }
   ],
   "source": [
    "aimFolder = \"F:\\\\17_Article\\\\01_Data\\\\01_LandCover\\\\LandCover0004WGS\\\\\"\n",
    "#os.mkdir(\"F:\\\\17_Article\\\\01_Data\\\\01_LandCover\\\\LandCover0004WGS\")\n",
    "\n",
    "year=2001\n",
    "while year < 2021:\n",
    "    original_raster = gdal.Open(\"F:\\\\17_Article\\\\01_Data\\\\01_LandCover\\\\LandCoverMerge\\\\LandCover_UMD_\" + str(year) + \"_500m.tif\")\n",
    "    #print(original_raster)\n",
    "\n",
    "    raster_rprj = gdal.Warp(aimFolder + \"LandCover_UMD_\"+ str(year) +\"_0004_WGS.tif\", original_raster, dstSRS = \"EPSG:4326\", xRes = 0.004, yRes = 0.004, resampleAlg = \"mode\")\n",
    "    print(raster_rprj)\n",
    "    #raster_rprj = None\n",
    "\n",
    "    original_raster = None\n",
    "\n",
    "    band = raster_rprj.GetRasterBand(1)\n",
    "\n",
    "    multiLista = band.ReadAsArray()\n",
    "\n",
    "    # reclassification\n",
    "    singleRasterLocation = \"F:/17_Article/01_Data/01_LandCover/LandCoverSingleClass/\"\n",
    "    driver = gdal.GetDriverByName(\"GTiff\")\n",
    "    aim = 0\n",
    "    while aim < 16:\n",
    "        print(aim)\n",
    "        originalToSingleLista = multiLista.copy()\n",
    "        orignialToSingleListaClip = originalToSingleLista[:,37750:41750].copy()\n",
    "        #orignialToSingleListaClip = \n",
    "        orignialToSingleListaClip[orignialToSingleListaClip == aim] = 100\n",
    "        orignialToSingleListaClip[orignialToSingleListaClip != 100] = 0\n",
    "        \n",
    "        #for j in range(raster_rprj.RasterXSize):\n",
    "        #    for i in range(raster_rprj.RasterYSize):\n",
    "        #        if originalToSingleLista[i, j] == aim:\n",
    "        #            originalToSingleLista[i, j] = 1\n",
    "        #        else:\n",
    "        #            originalToSingleLista[i, j] = 0\n",
    "                    \n",
    "        # create new file\n",
    "        name = \"year_\" + str(year) + \"_class_\" + str(aim) + \".tif\"\n",
    "        singleRaster = driver.Create(singleRasterLocation + name, 8000, 7500, 1)\n",
    "        singleRaster.GetRasterBand(1).WriteArray(orignialToSingleListaClip)\n",
    "        \n",
    "        proj = raster_rprj.GetProjection()\n",
    "        georef = (122.0, 0.004, 0.0, 50.0, 0.0, -0.004)\n",
    "        singleRaster.SetProjection(proj)\n",
    "        singleRaster.SetGeoTransform(georef)\n",
    "        singleRaster.FlushCache()\n",
    "        singleRaster = None\n",
    "        aim += 1\n",
    "        \n",
    "    raster_rprj = None   \n",
    "\n",
    "    os.remove(aimFolder + \"LandCover_UMD_\" + str(year) + \"_0004_WGS.tif\")\n",
    "\n",
    "    year = year + 1"
   ]
  },
  {
   "cell_type": "code",
   "execution_count": null,
   "metadata": {},
   "outputs": [],
   "source": []
  },
  {
   "cell_type": "code",
   "execution_count": null,
   "metadata": {},
   "outputs": [],
   "source": []
  },
  {
   "cell_type": "code",
   "execution_count": null,
   "metadata": {},
   "outputs": [],
   "source": []
  },
  {
   "cell_type": "code",
   "execution_count": null,
   "metadata": {},
   "outputs": [],
   "source": []
  },
  {
   "cell_type": "code",
   "execution_count": null,
   "metadata": {},
   "outputs": [],
   "source": []
  },
  {
   "cell_type": "code",
   "execution_count": null,
   "metadata": {},
   "outputs": [],
   "source": []
  },
  {
   "cell_type": "code",
   "execution_count": 22,
   "metadata": {},
   "outputs": [
    {
     "name": "stdout",
     "output_type": "stream",
     "text": [
      "\u001b[1;31mSignature:\u001b[0m \u001b[0mos\u001b[0m\u001b[1;33m.\u001b[0m\u001b[0mmkdir\u001b[0m\u001b[1;33m(\u001b[0m\u001b[0mpath\u001b[0m\u001b[1;33m,\u001b[0m \u001b[0mmode\u001b[0m\u001b[1;33m=\u001b[0m\u001b[1;36m511\u001b[0m\u001b[1;33m,\u001b[0m \u001b[1;33m*\u001b[0m\u001b[1;33m,\u001b[0m \u001b[0mdir_fd\u001b[0m\u001b[1;33m=\u001b[0m\u001b[1;32mNone\u001b[0m\u001b[1;33m)\u001b[0m\u001b[1;33m\u001b[0m\u001b[1;33m\u001b[0m\u001b[0m\n",
      "\u001b[1;31mDocstring:\u001b[0m\n",
      "Create a directory.\n",
      "\n",
      "If dir_fd is not None, it should be a file descriptor open to a directory,\n",
      "  and path should be relative; path will then be relative to that directory.\n",
      "dir_fd may not be implemented on your platform.\n",
      "  If it is unavailable, using it will raise a NotImplementedError.\n",
      "\n",
      "The mode argument is ignored on Windows.\n",
      "\u001b[1;31mType:\u001b[0m      builtin_function_or_method\n"
     ]
    }
   ],
   "source": []
  },
  {
   "cell_type": "code",
   "execution_count": null,
   "metadata": {},
   "outputs": [],
   "source": []
  },
  {
   "cell_type": "code",
   "execution_count": null,
   "metadata": {},
   "outputs": [],
   "source": []
  },
  {
   "cell_type": "code",
   "execution_count": null,
   "metadata": {},
   "outputs": [],
   "source": []
  },
  {
   "cell_type": "code",
   "execution_count": null,
   "metadata": {},
   "outputs": [],
   "source": []
  },
  {
   "cell_type": "code",
   "execution_count": null,
   "metadata": {},
   "outputs": [],
   "source": []
  },
  {
   "cell_type": "code",
   "execution_count": null,
   "metadata": {},
   "outputs": [],
   "source": []
  },
  {
   "cell_type": "code",
   "execution_count": null,
   "metadata": {},
   "outputs": [],
   "source": []
  },
  {
   "cell_type": "code",
   "execution_count": null,
   "metadata": {},
   "outputs": [],
   "source": []
  },
  {
   "cell_type": "code",
   "execution_count": null,
   "metadata": {},
   "outputs": [],
   "source": []
  },
  {
   "cell_type": "code",
   "execution_count": null,
   "metadata": {},
   "outputs": [],
   "source": []
  },
  {
   "cell_type": "code",
   "execution_count": null,
   "metadata": {},
   "outputs": [],
   "source": []
  }
 ],
 "metadata": {
  "kernelspec": {
   "display_name": "Python 3 (ipykernel)",
   "language": "python",
   "name": "python3"
  },
  "language_info": {
   "codemirror_mode": {
    "name": "ipython",
    "version": 3
   },
   "file_extension": ".py",
   "mimetype": "text/x-python",
   "name": "python",
   "nbconvert_exporter": "python",
   "pygments_lexer": "ipython3",
   "version": "3.9.12"
  },
  "vscode": {
   "interpreter": {
    "hash": "3fc66252abba36e085bb3ec14543b1917131014ad56a966409ac5ee82f8d6ab9"
   }
  }
 },
 "nbformat": 4,
 "nbformat_minor": 2
}
