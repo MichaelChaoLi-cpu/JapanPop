{
 "cells": [
  {
   "cell_type": "code",
   "execution_count": 1,
   "metadata": {},
   "outputs": [],
   "source": [
    "# -*- coding: utf-8 -*-\n",
    "\n",
    "#Convert mutliclasses into Single Class\n",
    "\n",
    "#Resolution: 0.004\n",
    "\n",
    "#Created on Mon Apr 11 16:42:38 2022\n",
    "\n",
    "#@author: li.chao.987@s.kyushu-u.ac.jp\n",
    "\n",
    "\n",
    "from osgeo import gdal\n",
    "import numpy as np\n",
    "import os"
   ]
  },
  {
   "cell_type": "code",
   "execution_count": 2,
   "metadata": {},
   "outputs": [],
   "source": [
    "def createSingleClassTiff (year, aimFolder):\n",
    "    original_raster = gdal.Open(\"F:\\\\17_Article\\\\01_Data\\\\01_LandCover\\\\LandCoverMerge\\\\LandCover_UMD_\" + str(year) + \"_500m.tif\")\n",
    "    #print(original_raster)\n",
    "\n",
    "    raster_rprj = gdal.Warp(aimFolder + \"LandCover_UMD_\"+ str(year) +\"_0004_WGS.tif\", original_raster, dstSRS = \"EPSG:4326\", xRes = 0.004, yRes = 0.004, resampleAlg = \"mode\")\n",
    "    print(raster_rprj)\n",
    "    #raster_rprj = None\n",
    "\n",
    "    original_raster = None\n",
    "\n",
    "    band = raster_rprj.GetRasterBand(1)\n",
    "\n",
    "    multiLista = band.ReadAsArray()\n",
    "\n",
    "    # reclassification\n",
    "    singleRasterLocation = \"F:/17_Article/01_Data/01_LandCover/LandCoverSingleClass/\"\n",
    "    driver = gdal.GetDriverByName(\"GTiff\")\n",
    "    aim = 0\n",
    "    while aim < 16:\n",
    "        print(aim)\n",
    "        originalToSingleLista = multiLista.copy()\n",
    "        orignialToSingleListaClip = originalToSingleLista[:,37750*2:41750*2].copy()\n",
    "        #orignialToSingleListaClip = \n",
    "        orignialToSingleListaClip[orignialToSingleListaClip == aim] = 100\n",
    "        orignialToSingleListaClip[orignialToSingleListaClip != 100] = 0\n",
    "        \n",
    "        #for j in range(raster_rprj.RasterXSize):\n",
    "        #    for i in range(raster_rprj.RasterYSize):\n",
    "        #        if originalToSingleLista[i, j] == aim:\n",
    "        #            originalToSingleLista[i, j] = 1\n",
    "        #        else:\n",
    "        #            originalToSingleLista[i, j] = 0\n",
    "                    \n",
    "        # create new file\n",
    "        name = \"year_\" + str(year) + \"_class_\" + str(aim) + \".tif\"\n",
    "        singleRaster = driver.Create(singleRasterLocation + name, 8000, 7500, 1)\n",
    "        singleRaster.GetRasterBand(1).WriteArray(orignialToSingleListaClip)\n",
    "        \n",
    "        proj = raster_rprj.GetProjection()\n",
    "        georef = (122.0, 0.004, 0.0, 50.0, 0.0, -0.004)\n",
    "        singleRaster.SetProjection(proj)\n",
    "        singleRaster.SetGeoTransform(georef)\n",
    "        singleRaster.FlushCache()\n",
    "        singleRaster = None\n",
    "        aim += 1\n",
    "        \n",
    "    raster_rprj = None   \n",
    "\n",
    "    os.remove(aimFolder + \"LandCover_UMD_\" + str(year) + \"_0004_WGS.tif\")\n"
   ]
  },
  {
   "cell_type": "code",
   "execution_count": 14,
   "metadata": {},
   "outputs": [
    {
     "data": {
      "text/plain": [
       "12"
      ]
     },
     "execution_count": 14,
     "metadata": {},
     "output_type": "execute_result"
    }
   ],
   "source": [
    "aimFolder = \"F:\\\\17_Article\\\\01_Data\\\\01_LandCover\\\\LandCover0004WGS\\\\\"\n",
    "#os.mkdir(\"F:\\\\17_Article\\\\01_Data\\\\01_LandCover\\\\LandCover0004WGS\")\n",
    "\n",
    "year=2001\n",
    "# to 2020\n",
    "\n",
    "import multiprocessing\n",
    "\n",
    "multiprocessing.cpu_count()"
   ]
  },
  {
   "cell_type": "code",
   "execution_count": 15,
   "metadata": {},
   "outputs": [
    {
     "data": {
      "text/plain": [
       "[None,\n",
       " None,\n",
       " None,\n",
       " None,\n",
       " None,\n",
       " None,\n",
       " None,\n",
       " None,\n",
       " None,\n",
       " None,\n",
       " None,\n",
       " None,\n",
       " None,\n",
       " None,\n",
       " None,\n",
       " None,\n",
       " None,\n",
       " None,\n",
       " None,\n",
       " None]"
      ]
     },
     "execution_count": 15,
     "metadata": {},
     "output_type": "execute_result"
    }
   ],
   "source": [
    "from joblib import Parallel, delayed\n",
    "import multiprocessing\n",
    "\n",
    "Parallel(n_jobs=8)(delayed(createSingleClassTiff)(int(year), aimFolder) for year in np.linspace(2001, 2020, 20))"
   ]
  },
  {
   "cell_type": "code",
   "execution_count": 16,
   "metadata": {},
   "outputs": [],
   "source": [
    "import pandas as pd\n",
    "import geopandas as gpd\n",
    "import numpy as np\n",
    "import rasterio\n",
    "from scipy.spatial import cKDTree\n",
    "\n",
    "# make the raster -180 -60 180 90\n",
    "nx = 8000                                       # number of cells in the x direction\n",
    "ny = 7500                                     # number of cells in the y direction\n",
    "xmin = 122.002                                  # x coordinate of lower, left cell center \n",
    "ymin = 30.002                                     # y coordinate of lower, left cell center \n",
    "xsize = 0.004                                   # extent of cells in x direction\n",
    "ysize = 0.004                                   # extent of cells in y direction\n",
    "epsg = 4326                                     # get projection\n",
    "\n",
    "def addCoord(nx,xmin,xsize,ny,ymin,ysize, epsg): # Michael Pyrcz, March, 2018                      \n",
    "  # makes a 2D dataframe with coordinates based on GSLIB specification\n",
    "  coords = np.zeros([nx*ny, 3])\n",
    "  ixy = 0\n",
    "  for iy in range(nx):\n",
    "    for ix in range(ny):\n",
    "      coords[ixy,1] = xmin + ix*xsize  \n",
    "      coords[ixy,2] = ymin + iy*ysize \n",
    "      coords[ixy,0] = ixy + 1\n",
    "      ixy = ixy + 1\n",
    "      \n",
    "  coords = pd.DataFrame(coords, columns = [\"order\", \"X\", \"Y\"])\n",
    "  gdf = gpd.GeoDataFrame(coords, geometry = gpd.points_from_xy(coords.X, coords.Y))\n",
    "  gdf = gdf.set_crs(epsg = epsg)\n",
    "  return (gdf)\n",
    "\n",
    "def ckdnearest(gdA, gdB, column_name):\n",
    "\n",
    "    nA = np.array(list(gdA.geometry.apply(lambda x: (x.x, x.y))))\n",
    "    nB = np.array(list(gdB.geometry.apply(lambda x: (x.x, x.y))))\n",
    "    btree = cKDTree(nB)\n",
    "    dist, idx = btree.query(nA, k=1)\n",
    "    gdB_nearest = gdB.iloc[idx].drop(columns=\"geometry\").reset_index(drop=True)\n",
    "    gdf = pd.concat(\n",
    "        [\n",
    "            gdA.reset_index(drop=True),\n",
    "            gdB_nearest,\n",
    "            pd.Series(dist, name=column_name)\n",
    "        ], \n",
    "        axis=1)\n",
    "\n",
    "    return gdf\n",
    "\n",
    "coords_distance_raster = addCoord(nx,xmin,xsize,ny,ymin,ysize, epsg)"
   ]
  },
  {
   "cell_type": "code",
   "execution_count": 17,
   "metadata": {},
   "outputs": [],
   "source": [
    "coords_extration = gpd.read_file(\"F:/17_Article/01_Data/00_mesh/Mesh500/mergedPointMesh500m.shp\")\n",
    "coords_distance_raster_result = coords_extration.copy()"
   ]
  },
  {
   "cell_type": "code",
   "execution_count": 22,
   "metadata": {},
   "outputs": [
    {
     "data": {
      "text/html": [
       "<div>\n",
       "<style scoped>\n",
       "    .dataframe tbody tr th:only-of-type {\n",
       "        vertical-align: middle;\n",
       "    }\n",
       "\n",
       "    .dataframe tbody tr th {\n",
       "        vertical-align: top;\n",
       "    }\n",
       "\n",
       "    .dataframe thead th {\n",
       "        text-align: right;\n",
       "    }\n",
       "</style>\n",
       "<table border=\"1\" class=\"dataframe\">\n",
       "  <thead>\n",
       "    <tr style=\"text-align: right;\">\n",
       "      <th></th>\n",
       "      <th>inBuffer</th>\n",
       "      <th>geometry</th>\n",
       "    </tr>\n",
       "  </thead>\n",
       "  <tbody>\n",
       "    <tr>\n",
       "      <th>0</th>\n",
       "      <td>1</td>\n",
       "      <td>MULTIPOLYGON (((15512009.759 5052211.941, 1551...</td>\n",
       "    </tr>\n",
       "  </tbody>\n",
       "</table>\n",
       "</div>"
      ],
      "text/plain": [
       "   inBuffer                                           geometry\n",
       "0         1  MULTIPOLYGON (((15512009.759 5052211.941, 1551..."
      ]
     },
     "execution_count": 22,
     "metadata": {},
     "output_type": "execute_result"
    }
   ],
   "source": [
    "# https://www.arcgis.com/home/item.html?id=dabc265276a5402a8645834e9a3365f0\n",
    "# the data from Esri\n",
    "\n",
    "japanBoundary = gpd.read_file(\"F:/17_Article/01_Data/00_mesh/JPN_Country_03degree.shp\")\n",
    "japanBoundary['inBuffer'] = 1\n",
    "japanBoundary = japanBoundary[['inBuffer', 'geometry']]\n",
    "japanBoundary.head()\n"
   ]
  },
  {
   "cell_type": "code",
   "execution_count": 24,
   "metadata": {},
   "outputs": [
    {
     "data": {
      "text/html": [
       "<div>\n",
       "<style scoped>\n",
       "    .dataframe tbody tr th:only-of-type {\n",
       "        vertical-align: middle;\n",
       "    }\n",
       "\n",
       "    .dataframe tbody tr th {\n",
       "        vertical-align: top;\n",
       "    }\n",
       "\n",
       "    .dataframe thead th {\n",
       "        text-align: right;\n",
       "    }\n",
       "</style>\n",
       "<table border=\"1\" class=\"dataframe\">\n",
       "  <thead>\n",
       "    <tr style=\"text-align: right;\">\n",
       "      <th></th>\n",
       "      <th>order</th>\n",
       "      <th>X</th>\n",
       "      <th>Y</th>\n",
       "      <th>geometry</th>\n",
       "      <th>index_right</th>\n",
       "      <th>inBuffer</th>\n",
       "    </tr>\n",
       "  </thead>\n",
       "  <tbody>\n",
       "    <tr>\n",
       "      <th>0</th>\n",
       "      <td>1.0</td>\n",
       "      <td>122.002</td>\n",
       "      <td>30.002</td>\n",
       "      <td>POINT (122.00200 30.00200)</td>\n",
       "      <td>NaN</td>\n",
       "      <td>NaN</td>\n",
       "    </tr>\n",
       "    <tr>\n",
       "      <th>1</th>\n",
       "      <td>2.0</td>\n",
       "      <td>122.006</td>\n",
       "      <td>30.002</td>\n",
       "      <td>POINT (122.00600 30.00200)</td>\n",
       "      <td>NaN</td>\n",
       "      <td>NaN</td>\n",
       "    </tr>\n",
       "    <tr>\n",
       "      <th>2</th>\n",
       "      <td>3.0</td>\n",
       "      <td>122.010</td>\n",
       "      <td>30.002</td>\n",
       "      <td>POINT (122.01000 30.00200)</td>\n",
       "      <td>NaN</td>\n",
       "      <td>NaN</td>\n",
       "    </tr>\n",
       "    <tr>\n",
       "      <th>3</th>\n",
       "      <td>4.0</td>\n",
       "      <td>122.014</td>\n",
       "      <td>30.002</td>\n",
       "      <td>POINT (122.01400 30.00200)</td>\n",
       "      <td>NaN</td>\n",
       "      <td>NaN</td>\n",
       "    </tr>\n",
       "    <tr>\n",
       "      <th>4</th>\n",
       "      <td>5.0</td>\n",
       "      <td>122.018</td>\n",
       "      <td>30.002</td>\n",
       "      <td>POINT (122.01800 30.00200)</td>\n",
       "      <td>NaN</td>\n",
       "      <td>NaN</td>\n",
       "    </tr>\n",
       "  </tbody>\n",
       "</table>\n",
       "</div>"
      ],
      "text/plain": [
       "   order        X       Y                    geometry  index_right  inBuffer\n",
       "0    1.0  122.002  30.002  POINT (122.00200 30.00200)          NaN       NaN\n",
       "1    2.0  122.006  30.002  POINT (122.00600 30.00200)          NaN       NaN\n",
       "2    3.0  122.010  30.002  POINT (122.01000 30.00200)          NaN       NaN\n",
       "3    4.0  122.014  30.002  POINT (122.01400 30.00200)          NaN       NaN\n",
       "4    5.0  122.018  30.002  POINT (122.01800 30.00200)          NaN       NaN"
      ]
     },
     "execution_count": 24,
     "metadata": {},
     "output_type": "execute_result"
    }
   ],
   "source": [
    "join_coords_distance_raster = coords_distance_raster.sjoin(japanBoundary.to_crs(epsg = 4326), how='left')\n",
    "join_coords_distance_raster.head()"
   ]
  },
  {
   "cell_type": "code",
   "execution_count": 27,
   "metadata": {},
   "outputs": [],
   "source": [
    "\n",
    "filtered_coords_distance_raster = join_coords_distance_raster[join_coords_distance_raster[\"inBuffer\"] == 1]"
   ]
  },
  {
   "cell_type": "code",
   "execution_count": 29,
   "metadata": {},
   "outputs": [],
   "source": [
    "coords_distance_raster = None\n",
    "join_coords_distance_raster = None"
   ]
  },
  {
   "cell_type": "code",
   "execution_count": 30,
   "metadata": {},
   "outputs": [
    {
     "data": {
      "text/plain": [
       "203"
      ]
     },
     "execution_count": 30,
     "metadata": {},
     "output_type": "execute_result"
    }
   ],
   "source": [
    "import gc\n",
    "\n",
    "gc.collect()"
   ]
  },
  {
   "cell_type": "code",
   "execution_count": 31,
   "metadata": {},
   "outputs": [
    {
     "data": {
      "text/plain": [
       "36"
      ]
     },
     "execution_count": 31,
     "metadata": {},
     "output_type": "execute_result"
    }
   ],
   "source": [
    "del japanBoundary\n",
    "gc.collect()"
   ]
  },
  {
   "cell_type": "code",
   "execution_count": 32,
   "metadata": {},
   "outputs": [],
   "source": [
    "def buildClassAndDistanceDf(year, coords_extration, coords_distance_raster, coords_distance_raster_result):\n",
    "    type_num = 0\n",
    "    while type_num < 16:\n",
    "    \n",
    "        rasterLocation = \"F:/17_Article/01_Data/01_LandCover/LandCoverSingleClass/year_\" + str(year) + \"_class_\"+ str(type_num) +\".tif\"\n",
    "        \n",
    "        rasterFile = rasterio.open(rasterLocation)\n",
    "        rasterArray = rasterFile.read(1)\n",
    "        \n",
    "        valueArray = []\n",
    "        for point in coords_extration['geometry']:\n",
    "            x = point.xy[0][0]\n",
    "            y = point.xy[1][0]\n",
    "            row, col = rasterFile.index(x, y)\n",
    "            valueArray.append(rasterArray[row, col])\n",
    "            \n",
    "        valueArray = np.array(valueArray)\n",
    "        coords_extration['value'] = valueArray\n",
    "        coords_extration_aim = coords_extration[coords_extration.value == 100]\n",
    "        coords_extration_aim = coords_extration_aim[['geometry']]\n",
    "        \n",
    "        if coords_extration_aim.shape[0] > 0:\n",
    "            dist = ckdnearest(coords_distance_raster, coords_extration_aim, \"dist_class_\"+str(type_num))\n",
    "            dist_column = dist[[\"dist_class_\"+str(type_num)]]\n",
    "            coords_distance_raster_result[\"binary_class_\" + str(type_num) + \"_\" + str(year)] = valueArray / 100\n",
    "            coords_distance_raster_result[\"dist_class_\" + str(type_num) + \"_\" + str(year)] = dist_column\n",
    "        else:\n",
    "            print(\"class_\"+str(type_num)+\" is not in japan\")\n",
    "        print(\"dist_class_\"+str(type_num))\n",
    "        type_num += 1\n",
    "    return coords_distance_raster_result"
   ]
  },
  {
   "cell_type": "code",
   "execution_count": null,
   "metadata": {},
   "outputs": [],
   "source": [
    "from joblib import Parallel, delayed\n",
    "import multiprocessing\n",
    "\n",
    "Parallel(n_jobs=5)(delayed(buildClassAndDistanceDf)(int(year), coords_extration, filtered_coords_distance_raster, coords_distance_raster_result) for year in np.linspace(2001, 2020, 20))"
   ]
  },
  {
   "cell_type": "code",
   "execution_count": null,
   "metadata": {},
   "outputs": [],
   "source": []
  },
  {
   "cell_type": "code",
   "execution_count": 9,
   "metadata": {},
   "outputs": [
    {
     "name": "stdout",
     "output_type": "stream",
     "text": [
      "class_0 is not in japan\n",
      "dist_class_0\n",
      "class_1 is not in japan\n",
      "dist_class_1\n",
      "class_2 is not in japan\n",
      "dist_class_2\n",
      "class_3 is not in japan\n",
      "dist_class_3\n",
      "class_4 is not in japan\n",
      "dist_class_4\n",
      "class_5 is not in japan\n",
      "dist_class_5\n",
      "class_6 is not in japan\n",
      "dist_class_6\n",
      "class_7 is not in japan\n",
      "dist_class_7\n",
      "class_8 is not in japan\n",
      "dist_class_8\n",
      "class_9 is not in japan\n",
      "dist_class_9\n",
      "class_10 is not in japan\n",
      "dist_class_10\n",
      "class_11 is not in japan\n",
      "dist_class_11\n",
      "class_12 is not in japan\n",
      "dist_class_12\n",
      "class_13 is not in japan\n",
      "dist_class_13\n",
      "class_14 is not in japan\n",
      "dist_class_14\n",
      "class_15 is not in japan\n",
      "dist_class_15\n"
     ]
    }
   ],
   "source": [
    "# note: there is no open shrublands\n",
    "\n",
    "#for type_num in range(16):\n",
    "year = 2001\n",
    "type_num = 0\n",
    "while type_num < 16:\n",
    "    \n",
    "    rasterLocation = \"F:/17_Article/01_Data/01_LandCover/LandCoverSingleClass/year_\" + str(year) + \"_class_\"+ str(type_num) +\".tif\"\n",
    "    \n",
    "    rasterFile = rasterio.open(rasterLocation)\n",
    "    aimPoint = coords_extration\n",
    "    rasterArray = rasterFile.read(1)\n",
    "    \n",
    "    valueArray = []\n",
    "    for point in aimPoint['geometry']:\n",
    "        x = point.xy[0][0]\n",
    "        y = point.xy[1][0]\n",
    "        row, col = rasterFile.index(x, y)\n",
    "        valueArray.append(rasterArray[row, col])\n",
    "        \n",
    "    valueArray = np.array(valueArray)\n",
    "    coords_extration['value'] = valueArray\n",
    "    coords_extration_aim = coords_extration[coords_extration.value == 100]\n",
    "    coords_extration_aim = coords_extration_aim[['geometry']]\n",
    "    \n",
    "    if coords_extration_aim.shape[0] > 0:\n",
    "        dist = ckdnearest(coords_distance_raster, coords_extration_aim, \"dist_class_\"+str(type_num))\n",
    "        dist_column = dist[[\"dist_class_\"+str(type_num)]]\n",
    "        coords_distance_raster_result[\"binary_class_\" + str(type_num) + \"_\" + str(year)] = valueArray / 100\n",
    "        coords_distance_raster_result[\"dist_class_\" + str(type_num) + \"_\"] = dist_column\n",
    "    else:\n",
    "        print(\"class_\"+str(type_num)+\" is not in japan\")\n",
    "    print(\"dist_class_\"+str(type_num))\n",
    "    type_num += 1"
   ]
  },
  {
   "cell_type": "code",
   "execution_count": null,
   "metadata": {},
   "outputs": [],
   "source": []
  },
  {
   "cell_type": "code",
   "execution_count": null,
   "metadata": {},
   "outputs": [],
   "source": []
  },
  {
   "cell_type": "code",
   "execution_count": 22,
   "metadata": {},
   "outputs": [
    {
     "name": "stdout",
     "output_type": "stream",
     "text": [
      "\u001b[1;31mSignature:\u001b[0m \u001b[0mos\u001b[0m\u001b[1;33m.\u001b[0m\u001b[0mmkdir\u001b[0m\u001b[1;33m(\u001b[0m\u001b[0mpath\u001b[0m\u001b[1;33m,\u001b[0m \u001b[0mmode\u001b[0m\u001b[1;33m=\u001b[0m\u001b[1;36m511\u001b[0m\u001b[1;33m,\u001b[0m \u001b[1;33m*\u001b[0m\u001b[1;33m,\u001b[0m \u001b[0mdir_fd\u001b[0m\u001b[1;33m=\u001b[0m\u001b[1;32mNone\u001b[0m\u001b[1;33m)\u001b[0m\u001b[1;33m\u001b[0m\u001b[1;33m\u001b[0m\u001b[0m\n",
      "\u001b[1;31mDocstring:\u001b[0m\n",
      "Create a directory.\n",
      "\n",
      "If dir_fd is not None, it should be a file descriptor open to a directory,\n",
      "  and path should be relative; path will then be relative to that directory.\n",
      "dir_fd may not be implemented on your platform.\n",
      "  If it is unavailable, using it will raise a NotImplementedError.\n",
      "\n",
      "The mode argument is ignored on Windows.\n",
      "\u001b[1;31mType:\u001b[0m      builtin_function_or_method\n"
     ]
    }
   ],
   "source": []
  },
  {
   "cell_type": "code",
   "execution_count": null,
   "metadata": {},
   "outputs": [],
   "source": []
  },
  {
   "cell_type": "code",
   "execution_count": null,
   "metadata": {},
   "outputs": [],
   "source": []
  },
  {
   "cell_type": "code",
   "execution_count": null,
   "metadata": {},
   "outputs": [],
   "source": []
  },
  {
   "cell_type": "code",
   "execution_count": null,
   "metadata": {},
   "outputs": [],
   "source": []
  },
  {
   "cell_type": "code",
   "execution_count": null,
   "metadata": {},
   "outputs": [],
   "source": []
  },
  {
   "cell_type": "code",
   "execution_count": null,
   "metadata": {},
   "outputs": [],
   "source": []
  },
  {
   "cell_type": "code",
   "execution_count": null,
   "metadata": {},
   "outputs": [],
   "source": []
  },
  {
   "cell_type": "code",
   "execution_count": null,
   "metadata": {},
   "outputs": [],
   "source": []
  },
  {
   "cell_type": "code",
   "execution_count": null,
   "metadata": {},
   "outputs": [],
   "source": []
  },
  {
   "cell_type": "code",
   "execution_count": null,
   "metadata": {},
   "outputs": [],
   "source": []
  },
  {
   "cell_type": "code",
   "execution_count": null,
   "metadata": {},
   "outputs": [],
   "source": []
  }
 ],
 "metadata": {
  "kernelspec": {
   "display_name": "Python 3 (ipykernel)",
   "language": "python",
   "name": "python3"
  },
  "language_info": {
   "codemirror_mode": {
    "name": "ipython",
    "version": 3
   },
   "file_extension": ".py",
   "mimetype": "text/x-python",
   "name": "python",
   "nbconvert_exporter": "python",
   "pygments_lexer": "ipython3",
   "version": "3.10.4"
  },
  "vscode": {
   "interpreter": {
    "hash": "3fc66252abba36e085bb3ec14543b1917131014ad56a966409ac5ee82f8d6ab9"
   }
  }
 },
 "nbformat": 4,
 "nbformat_minor": 2
}
